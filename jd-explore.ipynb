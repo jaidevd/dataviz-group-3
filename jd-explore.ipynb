{
 "cells": [
  {
   "cell_type": "code",
   "execution_count": 1,
   "id": "73ae411f-968e-4e65-89f5-240029301a52",
   "metadata": {},
   "outputs": [],
   "source": [
    "import pandas as pd\n",
    "import matplotlib.pyplot as plt"
   ]
  },
  {
   "cell_type": "code",
   "execution_count": 2,
   "id": "85724343-56b4-4435-9d5b-9f48963e05db",
   "metadata": {},
   "outputs": [
    {
     "data": {
      "text/html": [
       "<div>\n",
       "<style scoped>\n",
       "    .dataframe tbody tr th:only-of-type {\n",
       "        vertical-align: middle;\n",
       "    }\n",
       "\n",
       "    .dataframe tbody tr th {\n",
       "        vertical-align: top;\n",
       "    }\n",
       "\n",
       "    .dataframe thead th {\n",
       "        text-align: right;\n",
       "    }\n",
       "</style>\n",
       "<table border=\"1\" class=\"dataframe\">\n",
       "  <thead>\n",
       "    <tr style=\"text-align: right;\">\n",
       "      <th></th>\n",
       "      <th>abuseCount</th>\n",
       "      <th>customerNickname</th>\n",
       "      <th>helpfulNo</th>\n",
       "      <th>helpfulYes</th>\n",
       "      <th>imagesCount</th>\n",
       "      <th>languageCode</th>\n",
       "      <th>postedDate</th>\n",
       "      <th>productId</th>\n",
       "      <th>profileInfo.ugcSummary.answerCount</th>\n",
       "      <th>profileInfo.ugcSummary.reviewCount</th>\n",
       "      <th>ratingValue</th>\n",
       "      <th>reviewText</th>\n",
       "      <th>reviewTitle</th>\n",
       "      <th>reviewed</th>\n",
       "      <th>score</th>\n",
       "      <th>languageCode.1</th>\n",
       "      <th>translation.reviewText</th>\n",
       "      <th>translation.reviewTitle</th>\n",
       "      <th>product_name</th>\n",
       "      <th>product_price</th>\n",
       "    </tr>\n",
       "    <tr>\n",
       "      <th>id</th>\n",
       "      <th></th>\n",
       "      <th></th>\n",
       "      <th></th>\n",
       "      <th></th>\n",
       "      <th></th>\n",
       "      <th></th>\n",
       "      <th></th>\n",
       "      <th></th>\n",
       "      <th></th>\n",
       "      <th></th>\n",
       "      <th></th>\n",
       "      <th></th>\n",
       "      <th></th>\n",
       "      <th></th>\n",
       "      <th></th>\n",
       "      <th></th>\n",
       "      <th></th>\n",
       "      <th></th>\n",
       "      <th></th>\n",
       "      <th></th>\n",
       "    </tr>\n",
       "  </thead>\n",
       "  <tbody>\n",
       "    <tr>\n",
       "      <th>05c2b17e-c28d-4792-930d-27e787d8d4ad</th>\n",
       "      <td>0</td>\n",
       "      <td>iHerb Customer</td>\n",
       "      <td>0</td>\n",
       "      <td>6</td>\n",
       "      <td>1</td>\n",
       "      <td>en-US</td>\n",
       "      <td>2021-01-27T09:04:10.569Z</td>\n",
       "      <td>103839</td>\n",
       "      <td>0.0</td>\n",
       "      <td>34.0</td>\n",
       "      <td>50</td>\n",
       "      <td>The mask quality and the color is good. It fit...</td>\n",
       "      <td>Dotted Pattern Is Nice</td>\n",
       "      <td>True</td>\n",
       "      <td>1.614071e+09</td>\n",
       "      <td>en-US</td>\n",
       "      <td>NaN</td>\n",
       "      <td>NaN</td>\n",
       "      <td>Lozperi, Copper Mask, Adult, Dot, 1 Count</td>\n",
       "      <td>6.85</td>\n",
       "    </tr>\n",
       "    <tr>\n",
       "      <th>80e44af8-2edf-4b81-a80a-7e7888d03cc0</th>\n",
       "      <td>0</td>\n",
       "      <td>iHerb Customer</td>\n",
       "      <td>0</td>\n",
       "      <td>0</td>\n",
       "      <td>0</td>\n",
       "      <td>ru-RU</td>\n",
       "      <td>2021-02-07T00:56:39.055Z</td>\n",
       "      <td>103839</td>\n",
       "      <td>0.0</td>\n",
       "      <td>37.0</td>\n",
       "      <td>50</td>\n",
       "      <td>Внуку очень понравилось. Удобная маска.</td>\n",
       "      <td>Прекрасно!</td>\n",
       "      <td>False</td>\n",
       "      <td>1.612659e+09</td>\n",
       "      <td>ru-RU</td>\n",
       "      <td>The grandson really liked it. Comfortable mask.</td>\n",
       "      <td>en-US</td>\n",
       "      <td>Lozperi, Copper Mask, Adult, Dot, 1 Count</td>\n",
       "      <td>6.85</td>\n",
       "    </tr>\n",
       "    <tr>\n",
       "      <th>9a76e047-21e4-4da3-8b50-9d2396519b6b</th>\n",
       "      <td>0</td>\n",
       "      <td>iHerb Customer</td>\n",
       "      <td>0</td>\n",
       "      <td>0</td>\n",
       "      <td>0</td>\n",
       "      <td>en-US</td>\n",
       "      <td>2021-02-06T21:40:02.886Z</td>\n",
       "      <td>103839</td>\n",
       "      <td>0.0</td>\n",
       "      <td>3.0</td>\n",
       "      <td>40</td>\n",
       "      <td>Easy to put on &amp; comfortable to wear.</td>\n",
       "      <td>Good</td>\n",
       "      <td>False</td>\n",
       "      <td>1.612648e+09</td>\n",
       "      <td>en-US</td>\n",
       "      <td>NaN</td>\n",
       "      <td>NaN</td>\n",
       "      <td>Lozperi, Copper Mask, Adult, Dot, 1 Count</td>\n",
       "      <td>6.85</td>\n",
       "    </tr>\n",
       "    <tr>\n",
       "      <th>2890ac54-8707-418e-be3e-8d46231e3672</th>\n",
       "      <td>0</td>\n",
       "      <td>InnaIgorevna</td>\n",
       "      <td>0</td>\n",
       "      <td>0</td>\n",
       "      <td>0</td>\n",
       "      <td>ru-RU</td>\n",
       "      <td>2021-02-05T16:29:28.906Z</td>\n",
       "      <td>103839</td>\n",
       "      <td>0.0</td>\n",
       "      <td>16.0</td>\n",
       "      <td>40</td>\n",
       "      <td>Тонкая, приятная к телу маска. Расцветка тоже ...</td>\n",
       "      <td>Хорошо</td>\n",
       "      <td>False</td>\n",
       "      <td>1.612543e+09</td>\n",
       "      <td>ru-RU</td>\n",
       "      <td>A thin mask that is pleasant to the body. I li...</td>\n",
       "      <td>en-US</td>\n",
       "      <td>Lozperi, Copper Mask, Adult, Dot, 1 Count</td>\n",
       "      <td>6.85</td>\n",
       "    </tr>\n",
       "    <tr>\n",
       "      <th>9db33354-0457-4efa-bc9c-b5f7ee0eff31</th>\n",
       "      <td>0</td>\n",
       "      <td>iHerb Customer</td>\n",
       "      <td>0</td>\n",
       "      <td>0</td>\n",
       "      <td>0</td>\n",
       "      <td>ru-RU</td>\n",
       "      <td>2021-02-05T09:43:42.367Z</td>\n",
       "      <td>103839</td>\n",
       "      <td>0.0</td>\n",
       "      <td>19.0</td>\n",
       "      <td>50</td>\n",
       "      <td>Отличная маска! Мне подошла идеально. Слегка е...</td>\n",
       "      <td>Прекрасно!</td>\n",
       "      <td>False</td>\n",
       "      <td>1.612518e+09</td>\n",
       "      <td>ru-RU</td>\n",
       "      <td>Great mask! It suited me perfectly. There is a...</td>\n",
       "      <td>en-US</td>\n",
       "      <td>Lozperi, Copper Mask, Adult, Dot, 1 Count</td>\n",
       "      <td>6.85</td>\n",
       "    </tr>\n",
       "  </tbody>\n",
       "</table>\n",
       "</div>"
      ],
      "text/plain": [
       "                                      abuseCount customerNickname  helpfulNo  \\\n",
       "id                                                                             \n",
       "05c2b17e-c28d-4792-930d-27e787d8d4ad           0   iHerb Customer          0   \n",
       "80e44af8-2edf-4b81-a80a-7e7888d03cc0           0   iHerb Customer          0   \n",
       "9a76e047-21e4-4da3-8b50-9d2396519b6b           0   iHerb Customer          0   \n",
       "2890ac54-8707-418e-be3e-8d46231e3672           0     InnaIgorevna          0   \n",
       "9db33354-0457-4efa-bc9c-b5f7ee0eff31           0   iHerb Customer          0   \n",
       "\n",
       "                                      helpfulYes  imagesCount languageCode  \\\n",
       "id                                                                           \n",
       "05c2b17e-c28d-4792-930d-27e787d8d4ad           6            1        en-US   \n",
       "80e44af8-2edf-4b81-a80a-7e7888d03cc0           0            0        ru-RU   \n",
       "9a76e047-21e4-4da3-8b50-9d2396519b6b           0            0        en-US   \n",
       "2890ac54-8707-418e-be3e-8d46231e3672           0            0        ru-RU   \n",
       "9db33354-0457-4efa-bc9c-b5f7ee0eff31           0            0        ru-RU   \n",
       "\n",
       "                                                    postedDate  productId  \\\n",
       "id                                                                          \n",
       "05c2b17e-c28d-4792-930d-27e787d8d4ad  2021-01-27T09:04:10.569Z     103839   \n",
       "80e44af8-2edf-4b81-a80a-7e7888d03cc0  2021-02-07T00:56:39.055Z     103839   \n",
       "9a76e047-21e4-4da3-8b50-9d2396519b6b  2021-02-06T21:40:02.886Z     103839   \n",
       "2890ac54-8707-418e-be3e-8d46231e3672  2021-02-05T16:29:28.906Z     103839   \n",
       "9db33354-0457-4efa-bc9c-b5f7ee0eff31  2021-02-05T09:43:42.367Z     103839   \n",
       "\n",
       "                                      profileInfo.ugcSummary.answerCount  \\\n",
       "id                                                                         \n",
       "05c2b17e-c28d-4792-930d-27e787d8d4ad                                 0.0   \n",
       "80e44af8-2edf-4b81-a80a-7e7888d03cc0                                 0.0   \n",
       "9a76e047-21e4-4da3-8b50-9d2396519b6b                                 0.0   \n",
       "2890ac54-8707-418e-be3e-8d46231e3672                                 0.0   \n",
       "9db33354-0457-4efa-bc9c-b5f7ee0eff31                                 0.0   \n",
       "\n",
       "                                      profileInfo.ugcSummary.reviewCount  \\\n",
       "id                                                                         \n",
       "05c2b17e-c28d-4792-930d-27e787d8d4ad                                34.0   \n",
       "80e44af8-2edf-4b81-a80a-7e7888d03cc0                                37.0   \n",
       "9a76e047-21e4-4da3-8b50-9d2396519b6b                                 3.0   \n",
       "2890ac54-8707-418e-be3e-8d46231e3672                                16.0   \n",
       "9db33354-0457-4efa-bc9c-b5f7ee0eff31                                19.0   \n",
       "\n",
       "                                      ratingValue  \\\n",
       "id                                                  \n",
       "05c2b17e-c28d-4792-930d-27e787d8d4ad           50   \n",
       "80e44af8-2edf-4b81-a80a-7e7888d03cc0           50   \n",
       "9a76e047-21e4-4da3-8b50-9d2396519b6b           40   \n",
       "2890ac54-8707-418e-be3e-8d46231e3672           40   \n",
       "9db33354-0457-4efa-bc9c-b5f7ee0eff31           50   \n",
       "\n",
       "                                                                             reviewText  \\\n",
       "id                                                                                        \n",
       "05c2b17e-c28d-4792-930d-27e787d8d4ad  The mask quality and the color is good. It fit...   \n",
       "80e44af8-2edf-4b81-a80a-7e7888d03cc0            Внуку очень понравилось. Удобная маска.   \n",
       "9a76e047-21e4-4da3-8b50-9d2396519b6b              Easy to put on & comfortable to wear.   \n",
       "2890ac54-8707-418e-be3e-8d46231e3672  Тонкая, приятная к телу маска. Расцветка тоже ...   \n",
       "9db33354-0457-4efa-bc9c-b5f7ee0eff31  Отличная маска! Мне подошла идеально. Слегка е...   \n",
       "\n",
       "                                                 reviewTitle  reviewed  \\\n",
       "id                                                                       \n",
       "05c2b17e-c28d-4792-930d-27e787d8d4ad  Dotted Pattern Is Nice      True   \n",
       "80e44af8-2edf-4b81-a80a-7e7888d03cc0              Прекрасно!     False   \n",
       "9a76e047-21e4-4da3-8b50-9d2396519b6b                    Good     False   \n",
       "2890ac54-8707-418e-be3e-8d46231e3672                  Хорошо     False   \n",
       "9db33354-0457-4efa-bc9c-b5f7ee0eff31              Прекрасно!     False   \n",
       "\n",
       "                                             score languageCode.1  \\\n",
       "id                                                                  \n",
       "05c2b17e-c28d-4792-930d-27e787d8d4ad  1.614071e+09          en-US   \n",
       "80e44af8-2edf-4b81-a80a-7e7888d03cc0  1.612659e+09          ru-RU   \n",
       "9a76e047-21e4-4da3-8b50-9d2396519b6b  1.612648e+09          en-US   \n",
       "2890ac54-8707-418e-be3e-8d46231e3672  1.612543e+09          ru-RU   \n",
       "9db33354-0457-4efa-bc9c-b5f7ee0eff31  1.612518e+09          ru-RU   \n",
       "\n",
       "                                                                 translation.reviewText  \\\n",
       "id                                                                                        \n",
       "05c2b17e-c28d-4792-930d-27e787d8d4ad                                                NaN   \n",
       "80e44af8-2edf-4b81-a80a-7e7888d03cc0    The grandson really liked it. Comfortable mask.   \n",
       "9a76e047-21e4-4da3-8b50-9d2396519b6b                                                NaN   \n",
       "2890ac54-8707-418e-be3e-8d46231e3672  A thin mask that is pleasant to the body. I li...   \n",
       "9db33354-0457-4efa-bc9c-b5f7ee0eff31  Great mask! It suited me perfectly. There is a...   \n",
       "\n",
       "                                     translation.reviewTitle  \\\n",
       "id                                                             \n",
       "05c2b17e-c28d-4792-930d-27e787d8d4ad                     NaN   \n",
       "80e44af8-2edf-4b81-a80a-7e7888d03cc0                   en-US   \n",
       "9a76e047-21e4-4da3-8b50-9d2396519b6b                     NaN   \n",
       "2890ac54-8707-418e-be3e-8d46231e3672                   en-US   \n",
       "9db33354-0457-4efa-bc9c-b5f7ee0eff31                   en-US   \n",
       "\n",
       "                                                                   product_name  \\\n",
       "id                                                                                \n",
       "05c2b17e-c28d-4792-930d-27e787d8d4ad  Lozperi, Copper Mask, Adult, Dot, 1 Count   \n",
       "80e44af8-2edf-4b81-a80a-7e7888d03cc0  Lozperi, Copper Mask, Adult, Dot, 1 Count   \n",
       "9a76e047-21e4-4da3-8b50-9d2396519b6b  Lozperi, Copper Mask, Adult, Dot, 1 Count   \n",
       "2890ac54-8707-418e-be3e-8d46231e3672  Lozperi, Copper Mask, Adult, Dot, 1 Count   \n",
       "9db33354-0457-4efa-bc9c-b5f7ee0eff31  Lozperi, Copper Mask, Adult, Dot, 1 Count   \n",
       "\n",
       "                                      product_price  \n",
       "id                                                   \n",
       "05c2b17e-c28d-4792-930d-27e787d8d4ad           6.85  \n",
       "80e44af8-2edf-4b81-a80a-7e7888d03cc0           6.85  \n",
       "9a76e047-21e4-4da3-8b50-9d2396519b6b           6.85  \n",
       "2890ac54-8707-418e-be3e-8d46231e3672           6.85  \n",
       "9db33354-0457-4efa-bc9c-b5f7ee0eff31           6.85  "
      ]
     },
     "execution_count": 2,
     "metadata": {},
     "output_type": "execute_result"
    }
   ],
   "source": [
    "df = pd.read_table('data/facemasks.tsv')\n",
    "df.drop_duplicates(inplace=True)\n",
    "df.set_index('id', inplace=True, verify_integrity=True)\n",
    "df.head()"
   ]
  },
  {
   "cell_type": "code",
   "execution_count": 3,
   "id": "03c63f6d-211f-4ca7-8ff2-bef270ce578d",
   "metadata": {},
   "outputs": [
    {
     "data": {
      "text/plain": [
       "id\n",
       "7e8ca63d-9049-497b-be40-00797ff0b677    2020-05-12T13:35:10.337Z\n",
       "8c6bf69e-54c7-42af-9327-12e287c9cd4f    2020-05-12T19:56:28.293Z\n",
       "ab5efd11-c928-414a-aa98-c0d7766e23fe    2020-05-13T15:38:23.607Z\n",
       "ab2ebc3f-8e54-4abc-8fe0-468ed2599cec     2020-05-13T20:58:50.45Z\n",
       "86f86537-ff1f-4935-96e2-b4ba113b4913    2020-05-15T07:16:26.679Z\n",
       "                                                  ...           \n",
       "227da4d2-56f1-440a-be0e-82e899214254    2021-02-06T23:36:02.555Z\n",
       "f23538e9-9b85-4024-81c7-7192f98c7184    2021-02-06T23:36:08.035Z\n",
       "1949ffd3-000d-40c1-bd5b-75507febfe73    2021-02-06T23:42:59.723Z\n",
       "af2470f0-a6a3-4a52-bf88-362886f019f6    2021-02-07T00:16:45.682Z\n",
       "80e44af8-2edf-4b81-a80a-7e7888d03cc0    2021-02-07T00:56:39.055Z\n",
       "Name: postedDate, Length: 3765, dtype: object"
      ]
     },
     "execution_count": 3,
     "metadata": {},
     "output_type": "execute_result"
    }
   ],
   "source": [
    "df['postedDate'].sort_values()"
   ]
  },
  {
   "cell_type": "code",
   "execution_count": 15,
   "id": "a7468a43-f8ed-4bfd-bd74-81242a1d7f9e",
   "metadata": {},
   "outputs": [
    {
     "data": {
      "text/plain": [
       "0    3621\n",
       "1     125\n",
       "2      14\n",
       "3       4\n",
       "4       1\n",
       "Name: abuseCount, dtype: int64"
      ]
     },
     "execution_count": 15,
     "metadata": {},
     "output_type": "execute_result"
    }
   ],
   "source": [
    "df['abuseCount'].value_counts()"
   ]
  },
  {
   "cell_type": "code",
   "execution_count": 6,
   "id": "27aa274f-69b9-4d8e-a5c7-350dcf7e0927",
   "metadata": {},
   "outputs": [
    {
     "name": "stdout",
     "output_type": "stream",
     "text": [
      "Bought this on a whim as a \"trial\" offer on iHerb for a decent price with not much to go on from the description and the photo of the packaging in Korean. The mask arrives in a package in English, which says it is intended to block dust, pollen, smoke, hair and bacteria -- no mention of the virus droplets we're all concerned about. However, according to the packaging the nano-filter is 0.5μm, while the WHO reports that COVID-19 droplets are 5-10 μm in size, though droplet \"nuclei\" can be smaller. Based on this info, this mask should offer some protection against virus droplets. It's not to N95 standard but should be safe to use in a grocery store and similar situations.\n",
      "\n",
      "As for the fit, I'm an average sized adult male with an average sized slightly long face, and the size L fits very securely with some adjustment of the straps and the nose wire. It looks very stylish.\n"
     ]
    }
   ],
   "source": [
    "print(df[df['abuseCount'] == 4]['reviewText'].iloc[0])"
   ]
  },
  {
   "cell_type": "code",
   "execution_count": 29,
   "id": "7a12e5ea-f201-425b-8ac3-721ee7c431b6",
   "metadata": {},
   "outputs": [
    {
     "data": {
      "text/plain": [
       "abuseCount                                                                          0\n",
       "customerNickname                                                       iHerb Customer\n",
       "helpfulNo                                                                           0\n",
       "helpfulYes                                                                          0\n",
       "imagesCount                                                                         0\n",
       "languageCode                                                                    ru-RU\n",
       "postedDate                                                   2021-02-07T00:56:39.055Z\n",
       "productId                                                                      103839\n",
       "profileInfo.ugcSummary.answerCount                                                0.0\n",
       "profileInfo.ugcSummary.reviewCount                                               37.0\n",
       "ratingValue                                                                        50\n",
       "reviewText                                    Внуку очень понравилось. Удобная маска.\n",
       "reviewTitle                                                                Прекрасно!\n",
       "reviewed                                                                        False\n",
       "score                                                                  1612659399.055\n",
       "languageCode.1                                                                  ru-RU\n",
       "translation.reviewText                The grandson really liked it. Comfortable mask.\n",
       "translation.reviewTitle                                                         en-US\n",
       "product_name                                Lozperi, Copper Mask, Adult, Dot, 1 Count\n",
       "product_price                                                                    6.85\n",
       "Name: 80e44af8-2edf-4b81-a80a-7e7888d03cc0, dtype: object"
      ]
     },
     "execution_count": 29,
     "metadata": {},
     "output_type": "execute_result"
    }
   ],
   "source": [
    "df.sort_values(['postedDate'], ascending=False).iloc[0]"
   ]
  },
  {
   "cell_type": "code",
   "execution_count": 33,
   "id": "8afb65f8-641d-4593-bb1b-a98715cffa8d",
   "metadata": {},
   "outputs": [
    {
     "data": {
      "text/plain": [
       "id\n",
       "7e8ca63d-9049-497b-be40-00797ff0b677    12 05 2020\n",
       "8c6bf69e-54c7-42af-9327-12e287c9cd4f    12 05 2020\n",
       "ab5efd11-c928-414a-aa98-c0d7766e23fe    13 05 2020\n",
       "ab2ebc3f-8e54-4abc-8fe0-468ed2599cec    13 05 2020\n",
       "86f86537-ff1f-4935-96e2-b4ba113b4913    15 05 2020\n",
       "                                           ...    \n",
       "227da4d2-56f1-440a-be0e-82e899214254    06 02 2021\n",
       "f23538e9-9b85-4024-81c7-7192f98c7184    06 02 2021\n",
       "1949ffd3-000d-40c1-bd5b-75507febfe73    06 02 2021\n",
       "af2470f0-a6a3-4a52-bf88-362886f019f6    07 02 2021\n",
       "80e44af8-2edf-4b81-a80a-7e7888d03cc0    07 02 2021\n",
       "Name: postedDate, Length: 3765, dtype: object"
      ]
     },
     "execution_count": 33,
     "metadata": {},
     "output_type": "execute_result"
    }
   ],
   "source": [
    "pd.to_datetime(df['postedDate']).sort_values().dt.strftime('%d %m %Y')"
   ]
  },
  {
   "cell_type": "code",
   "execution_count": 37,
   "id": "37686fa7-4438-4b01-8aa0-b7f563999db1",
   "metadata": {},
   "outputs": [
    {
     "data": {
      "text/plain": [
       "'07 February 2021'"
      ]
     },
     "execution_count": 37,
     "metadata": {},
     "output_type": "execute_result"
    }
   ],
   "source": [
    "pd.to_datetime(df['postedDate']).max().strftime('%d %B %Y')"
   ]
  },
  {
   "cell_type": "code",
   "execution_count": null,
   "id": "375ee6bb-1cd2-4dd4-90f7-bda755e5bbd0",
   "metadata": {},
   "outputs": [],
   "source": [
    "REVIEW_URLS = [\n",
    "    'https://au.iherb.com/r/lozperi-copper-mask-adult-dot-1-mask-discontinued-item/103839?lang=ru-ru&sort=2&isshowtranslated=true&p=45'\n",
    "]"
   ]
  },
  {
   "cell_type": "code",
   "execution_count": 40,
   "id": "3ae914b5-ebb3-4a3a-bd3d-259601749a05",
   "metadata": {},
   "outputs": [
    {
     "data": {
      "text/plain": [
       "<AxesSubplot:>"
      ]
     },
     "execution_count": 40,
     "metadata": {},
     "output_type": "execute_result"
    },
    {
     "data": {
      "image/png": "[encoded data removed]",
      "text/plain": [
       "<Figure size 640x480 with 1 Axes>"
      ]
     },
     "metadata": {},
     "output_type": "display_data"
    }
   ],
   "source": [
    "df['score'].hist(bins=100)"
   ]
  },
  {
   "cell_type": "code",
   "execution_count": 45,
   "id": "41e5a355-1a68-4036-875f-0bf6cd82ee46",
   "metadata": {},
   "outputs": [
    {
     "data": {
      "text/plain": [
       "array([[<AxesSubplot:xlabel='helpfulNo', ylabel='helpfulNo'>,\n",
       "        <AxesSubplot:xlabel='helpfulYes', ylabel='helpfulNo'>,\n",
       "        <AxesSubplot:xlabel='product_price', ylabel='helpfulNo'>],\n",
       "       [<AxesSubplot:xlabel='helpfulNo', ylabel='helpfulYes'>,\n",
       "        <AxesSubplot:xlabel='helpfulYes', ylabel='helpfulYes'>,\n",
       "        <AxesSubplot:xlabel='product_price', ylabel='helpfulYes'>],\n",
       "       [<AxesSubplot:xlabel='helpfulNo', ylabel='product_price'>,\n",
       "        <AxesSubplot:xlabel='helpfulYes', ylabel='product_price'>,\n",
       "        <AxesSubplot:xlabel='product_price', ylabel='product_price'>]],\n",
       "      dtype=object)"
      ]
     },
     "execution_count": 45,
     "metadata": {},
     "output_type": "execute_result"
    },
    {
     "data": {
      "image/png": "[encoded data removed]",
      "text/plain": [
       "<Figure size 640x480 with 9 Axes>"
      ]
     },
     "metadata": {},
     "output_type": "display_data"
    }
   ],
   "source": [
    "pd.plotting.scatter_matrix(df[['helpfulNo', 'helpfulYes', 'product_price']])"
   ]
  },
  {
   "cell_type": "code",
   "execution_count": 48,
   "id": "22f77703-25e6-4095-9b2d-2ed19c039d1c",
   "metadata": {},
   "outputs": [
    {
     "data": {
      "text/plain": [
       "<AxesSubplot:>"
      ]
     },
     "execution_count": 48,
     "metadata": {},
     "output_type": "execute_result"
    },
    {
     "data": {
      "image/png": "[encoded data removed]",
      "text/plain": [
       "<Figure size 640x480 with 1 Axes>"
      ]
     },
     "metadata": {},
     "output_type": "display_data"
    }
   ],
   "source": [
    "df['productId'].value_counts().plot(kind='bar')"
   ]
  },
  {
   "cell_type": "code",
   "execution_count": 50,
   "id": "f1eaf346-97a4-4d49-be2f-4a0ce5fe5217",
   "metadata": {},
   "outputs": [],
   "source": [
    "import seaborn as sns"
   ]
  },
  {
   "cell_type": "code",
   "execution_count": 55,
   "id": "5636c33c-5507-471e-b2b7-6ee723f26e80",
   "metadata": {},
   "outputs": [
    {
     "data": {
      "text/plain": [
       "<AxesSubplot:xlabel='productId', ylabel='languageCode'>"
      ]
     },
     "execution_count": 55,
     "metadata": {},
     "output_type": "execute_result"
    },
    {
     "data": {
      "image/png": "[encoded data removed]",
      "text/plain": [
       "<Figure size 640x480 with 2 Axes>"
      ]
     },
     "metadata": {},
     "output_type": "display_data"
    }
   ],
   "source": [
    "sns.heatmap(pd.crosstab(index=df['languageCode'], columns=df['productId']), square=True, cmap=plt.cm.viridis)"
   ]
  },
  {
   "cell_type": "code",
   "execution_count": 56,
   "id": "305834f2-5386-4e0e-a2a0-1d31ef952b54",
   "metadata": {},
   "outputs": [
    {
     "name": "stderr",
     "output_type": "stream",
     "text": [
      "2023-04-06 16:31:52.602412: I tensorflow/core/platform/cpu_feature_guard.cc:193] This TensorFlow binary is optimized with oneAPI Deep Neural Network Library (oneDNN) to use the following CPU instructions in performance-critical operations:  AVX2 FMA\n",
      "To enable them in other operations, rebuild TensorFlow with the appropriate compiler flags.\n",
      "2023-04-06 16:31:53.638221: W tensorflow/compiler/xla/stream_executor/platform/default/dso_loader.cc:64] Could not load dynamic library 'libnvinfer.so.7'; dlerror: libnvinfer.so.7: cannot open shared object file: No such file or directory\n",
      "2023-04-06 16:31:53.638279: W tensorflow/compiler/xla/stream_executor/platform/default/dso_loader.cc:64] Could not load dynamic library 'libnvinfer_plugin.so.7'; dlerror: libnvinfer_plugin.so.7: cannot open shared object file: No such file or directory\n",
      "2023-04-06 16:31:53.638285: W tensorflow/compiler/tf2tensorrt/utils/py_utils.cc:38] TF-TRT Warning: Cannot dlopen some TensorRT libraries. If you would like to use Nvidia GPU with TensorRT, please make sure the missing libraries mentioned above are installed properly.\n"
     ]
    }
   ],
   "source": [
    "from transformers import pipeline"
   ]
  },
  {
   "cell_type": "code",
   "execution_count": 58,
   "id": "9fdb7f1c-50a3-4511-b220-1a535f8a1800",
   "metadata": {},
   "outputs": [],
   "source": [
    "times = df['postedDate']"
   ]
  },
  {
   "cell_type": "code",
   "execution_count": 59,
   "id": "431d2660-768b-44d0-a9ee-4a4c7a4e3004",
   "metadata": {},
   "outputs": [
    {
     "data": {
      "text/plain": [
       "id\n",
       "05c2b17e-c28d-4792-930d-27e787d8d4ad    2021-01-27T09:04:10.569Z\n",
       "80e44af8-2edf-4b81-a80a-7e7888d03cc0    2021-02-07T00:56:39.055Z\n",
       "9a76e047-21e4-4da3-8b50-9d2396519b6b    2021-02-06T21:40:02.886Z\n",
       "2890ac54-8707-418e-be3e-8d46231e3672    2021-02-05T16:29:28.906Z\n",
       "9db33354-0457-4efa-bc9c-b5f7ee0eff31    2021-02-05T09:43:42.367Z\n",
       "                                                  ...           \n",
       "03b4c0ee-232c-413c-a793-36678b07fdc0    2020-05-26T19:05:21.892Z\n",
       "b5f22161-4b73-4d6b-bf19-badde1682c8d    2020-05-29T16:52:35.709Z\n",
       "fafdce53-c97c-4e01-9586-50895692468f    2020-05-27T22:53:33.674Z\n",
       "de0471a2-9c82-429d-98d9-92ff3d5943f6    2020-05-23T03:11:01.259Z\n",
       "66cb3271-f7a2-4b04-9874-b97a6393c7b6    2020-05-26T21:48:49.227Z\n",
       "Name: postedDate, Length: 3765, dtype: object"
      ]
     },
     "execution_count": 59,
     "metadata": {},
     "output_type": "execute_result"
    }
   ],
   "source": [
    "times = pd.to_datetime(times)"
   ]
  },
  {
   "cell_type": "code",
   "execution_count": 60,
   "id": "d4421cd0-db73-42ca-8e9e-7afbb80a356a",
   "metadata": {},
   "outputs": [],
   "source": [
    "import calplot"
   ]
  },
  {
   "cell_type": "code",
   "execution_count": 62,
   "id": "296c5722-5574-4a94-bfa4-45aac75e8f63",
   "metadata": {},
   "outputs": [],
   "source": [
    "df['postedDate'] = times"
   ]
  },
  {
   "cell_type": "code",
   "execution_count": 65,
   "id": "f7b45a79-7204-4ea1-b2dd-ba508cf0413f",
   "metadata": {},
   "outputs": [],
   "source": [
    "s = df[['productId', 'postedDate']]\n",
    "s.set_index('postedDate', verify_integrity=True, inplace=True)"
   ]
  },
  {
   "cell_type": "code",
   "execution_count": 85,
   "id": "cacc08c8-7c88-46c7-a3ea-483473d1ab40",
   "metadata": {},
   "outputs": [
    {
     "name": "stderr",
     "output_type": "stream",
     "text": [
      "/tmp/ipykernel_23359/925407058.py:1: FutureWarning: The pandas.np module is deprecated and will be removed from pandas in a future version. Import numpy directly instead.\n",
      "  calplot.calplot(pd.Series(pd.np.ones(len(s)), index=s.index), colorbar=True)\n",
      "/home/jaidevd/conda/lib/python3.9/site-packages/calplot/calplot.py:193: FutureWarning: Indexing a timezone-aware DatetimeIndex with a timezone-naive datetime is deprecated and will raise KeyError in a future version. Use a timezone-aware object instead.\n",
      "  ax.set_xticks([by_day.loc[pd.Timestamp(\n",
      "/home/jaidevd/conda/lib/python3.9/site-packages/calplot/calplot.py:193: FutureWarning: Indexing a timezone-aware DatetimeIndex with a timezone-naive datetime is deprecated and will raise KeyError in a future version. Use a timezone-aware object instead.\n",
      "  ax.set_xticks([by_day.loc[pd.Timestamp(\n"
     ]
    },
    {
     "data": {
      "text/plain": [
       "(<Figure size 1250x340 with 3 Axes>,\n",
       " array([<AxesSubplot:ylabel='2020'>, <AxesSubplot:ylabel='2021'>],\n",
       "       dtype=object))"
      ]
     },
     "execution_count": 85,
     "metadata": {},
     "output_type": "execute_result"
    },
    {
     "data": {
      "image/png": "[encoded data removed]",
      "text/plain": [
       "<Figure size 1250x340 with 3 Axes>"
      ]
     },
     "metadata": {},
     "output_type": "display_data"
    }
   ],
   "source": [
    "calplot.calplot(pd.Series(pd.np.ones(len(s)), index=s.index), colorbar=True)"
   ]
  },
  {
   "cell_type": "code",
   "execution_count": 78,
   "id": "fe18d7c5-bc7e-4c2b-8e4d-60a6c00b0b84",
   "metadata": {},
   "outputs": [
    {
     "name": "stderr",
     "output_type": "stream",
     "text": [
      "/tmp/ipykernel_23359/904483126.py:1: FutureWarning: The pandas.np module is deprecated and will be removed from pandas in a future version. Import numpy directly instead.\n",
      "  pd.Series(pd.np.ones(len(s)), index=s.index)\n"
     ]
    },
    {
     "data": {
      "text/plain": [
       "postedDate\n",
       "2021-01-27 09:04:10.569000+00:00    1.0\n",
       "2021-02-07 00:56:39.055000+00:00    1.0\n",
       "2021-02-06 21:40:02.886000+00:00    1.0\n",
       "2021-02-05 16:29:28.906000+00:00    1.0\n",
       "2021-02-05 09:43:42.367000+00:00    1.0\n",
       "                                   ... \n",
       "2020-05-26 19:05:21.892000+00:00    1.0\n",
       "2020-05-29 16:52:35.709000+00:00    1.0\n",
       "2020-05-27 22:53:33.674000+00:00    1.0\n",
       "2020-05-23 03:11:01.259000+00:00    1.0\n",
       "2020-05-26 21:48:49.227000+00:00    1.0\n",
       "Length: 3765, dtype: float64"
      ]
     },
     "execution_count": 78,
     "metadata": {},
     "output_type": "execute_result"
    }
   ],
   "source": [
    "pd.Series(pd.np.ones(len(s)), index=s.index)"
   ]
  },
  {
   "cell_type": "code",
   "execution_count": 72,
   "id": "2a85251f-e174-4505-95f5-44983c2c64f7",
   "metadata": {},
   "outputs": [],
   "source": [
    "s.index = pd.to_datetime(s.index)"
   ]
  },
  {
   "cell_type": "code",
   "execution_count": 115,
   "id": "89f123ef-ee42-4321-9688-0d28c4699fe4",
   "metadata": {},
   "outputs": [],
   "source": [
    "xdf = df[pd.to_datetime(df['postedDate']).dt.strftime('%Y-%m-%d') == '2020-12-10']"
   ]
  },
  {
   "cell_type": "code",
   "execution_count": 111,
   "id": "b3c521bc-31d3-459b-bad9-413af35590ab",
   "metadata": {},
   "outputs": [
    {
     "data": {
      "text/plain": [
       "<AxesSubplot:xlabel='profileInfo.ugcSummary.reviewCount', ylabel='ratingValue'>"
      ]
     },
     "execution_count": 111,
     "metadata": {},
     "output_type": "execute_result"
    },
    {
     "data": {
      "image/png": "[encoded data removed]",
      "text/plain": [
       "<Figure size 640x480 with 1 Axes>"
      ]
     },
     "metadata": {},
     "output_type": "display_data"
    }
   ],
   "source": [
    "df[df['profileInfo.ugcSummary.reviewCount'] <= 2000].plot.scatter(*['profileInfo.ugcSummary.reviewCount', 'ratingValue'])"
   ]
  },
  {
   "cell_type": "code",
   "execution_count": 110,
   "id": "3a249d3b-a2ad-4c45-a368-5280b49a8186",
   "metadata": {},
   "outputs": [
    {
     "data": {
      "text/plain": [
       "8087.0"
      ]
     },
     "execution_count": 110,
     "metadata": {},
     "output_type": "execute_result"
    }
   ],
   "source": [
    "df['profileInfo.ugcSummary.reviewCount']"
   ]
  },
  {
   "cell_type": "code",
   "execution_count": 112,
   "id": "1ddcd02d-8e09-4300-9990-e3b785e31398",
   "metadata": {},
   "outputs": [
    {
     "data": {
      "text/plain": [
       "iHerb Customer      3310\n",
       "Alexooo                7\n",
       "Vergissmeinnicht       6\n",
       "Ancaria                5\n",
       "OlaSpas                5\n",
       "                    ... \n",
       "YEEEEES                1\n",
       "Ironwell               1\n",
       "Olga L                 1\n",
       "iherbqueen             1\n",
       "Aljawhrah-88           1\n",
       "Name: customerNickname, Length: 351, dtype: int64"
      ]
     },
     "execution_count": 112,
     "metadata": {},
     "output_type": "execute_result"
    }
   ],
   "source": [
    "df['customerNickname'].value_counts()"
   ]
  },
  {
   "cell_type": "code",
   "execution_count": 121,
   "id": "12c707dc-194d-4ce2-8f8c-5ad7d785d910",
   "metadata": {},
   "outputs": [
    {
     "data": {
      "text/plain": [
       "['A very fashionable mask, pleasant to the touch and facial skin, especially during the corona period. It is highly recommended',\n",
       " 'Great and Fashionbale during the Corona time. \\nthanks Iherb!',\n",
       " 'A very fashionable mask, pleasant to the touch and facial skin, especially during the corona period. It is highly recommended']"
      ]
     },
     "execution_count": 121,
     "metadata": {},
     "output_type": "execute_result"
    }
   ],
   "source": [
    "xdf[xdf['customerNickname'] == 'Erez Opincaru'].reviewText.tolist()"
   ]
  },
  {
   "cell_type": "code",
   "execution_count": 118,
   "id": "14ea8379-13b3-4640-9569-21c2f2d512f4",
   "metadata": {},
   "outputs": [],
   "source": [
    "prod = pd.read_table('data/products.tsv')\n",
    "prod.set_index('product_id', inplace=True, verify_integrity=True)"
   ]
  },
  {
   "cell_type": "code",
   "execution_count": 120,
   "id": "2465b2a9-3ea4-4d40-ab24-541e95e03b61",
   "metadata": {},
   "outputs": [
    {
     "data": {
      "text/plain": [
       "product_name            Kitsch, 100% Cotton Reuseable Face Masks, Leop...\n",
       "product_price                                                       17.72\n",
       "price_currency                                                        AUD\n",
       "product_availability                            http://schema.org/InStock\n",
       "product_url             https://au.iherb.com/pr/Kitsch-100-Cotton-Reus...\n",
       "source_url                   https://au.iherb.com/c/protective-face-masks\n",
       "Name: 100237, dtype: object"
      ]
     },
     "execution_count": 120,
     "metadata": {},
     "output_type": "execute_result"
    }
   ],
   "source": [
    "prod.loc[100237]"
   ]
  },
  {
   "cell_type": "code",
   "execution_count": 122,
   "id": "aaae0595-ed3d-4ca5-82ab-fb3eb432273e",
   "metadata": {},
   "outputs": [
    {
     "data": {
      "text/plain": [
       "['A very fashionable mask, pleasant to the touch and facial skin, especially during the corona period. It is highly recommended',\n",
       " 'Great and Fashionbale during the Corona time. \\nthanks Iherb!',\n",
       " 'A very fashionable mask, pleasant to the touch and facial skin, especially during the corona period. It is highly recommended']"
      ]
     },
     "execution_count": 122,
     "metadata": {},
     "output_type": "execute_result"
    }
   ],
   "source": [
    "df[df['customerNickname'] == 'Erez Opincaru'].reviewText.tolist()"
   ]
  },
  {
   "cell_type": "code",
   "execution_count": 123,
   "id": "e35d30bb-0441-4bca-8b2e-6bf3e1a4856d",
   "metadata": {},
   "outputs": [
    {
     "data": {
      "text/html": [
       "<div>\n",
       "<style scoped>\n",
       "    .dataframe tbody tr th:only-of-type {\n",
       "        vertical-align: middle;\n",
       "    }\n",
       "\n",
       "    .dataframe tbody tr th {\n",
       "        vertical-align: top;\n",
       "    }\n",
       "\n",
       "    .dataframe thead th {\n",
       "        text-align: right;\n",
       "    }\n",
       "</style>\n",
       "<table border=\"1\" class=\"dataframe\">\n",
       "  <thead>\n",
       "    <tr style=\"text-align: right;\">\n",
       "      <th></th>\n",
       "      <th>abuseCount</th>\n",
       "      <th>customerNickname</th>\n",
       "      <th>helpfulNo</th>\n",
       "      <th>helpfulYes</th>\n",
       "      <th>imagesCount</th>\n",
       "      <th>languageCode</th>\n",
       "      <th>postedDate</th>\n",
       "      <th>productId</th>\n",
       "      <th>profileInfo.ugcSummary.answerCount</th>\n",
       "      <th>profileInfo.ugcSummary.reviewCount</th>\n",
       "      <th>ratingValue</th>\n",
       "      <th>reviewText</th>\n",
       "      <th>reviewTitle</th>\n",
       "      <th>reviewed</th>\n",
       "      <th>score</th>\n",
       "      <th>languageCode.1</th>\n",
       "      <th>translation.reviewText</th>\n",
       "      <th>translation.reviewTitle</th>\n",
       "      <th>product_name</th>\n",
       "      <th>product_price</th>\n",
       "    </tr>\n",
       "    <tr>\n",
       "      <th>id</th>\n",
       "      <th></th>\n",
       "      <th></th>\n",
       "      <th></th>\n",
       "      <th></th>\n",
       "      <th></th>\n",
       "      <th></th>\n",
       "      <th></th>\n",
       "      <th></th>\n",
       "      <th></th>\n",
       "      <th></th>\n",
       "      <th></th>\n",
       "      <th></th>\n",
       "      <th></th>\n",
       "      <th></th>\n",
       "      <th></th>\n",
       "      <th></th>\n",
       "      <th></th>\n",
       "      <th></th>\n",
       "      <th></th>\n",
       "      <th></th>\n",
       "    </tr>\n",
       "  </thead>\n",
       "  <tbody>\n",
       "    <tr>\n",
       "      <th>3c4f1a5a-e8c1-4c84-9b7e-dda301683fcc</th>\n",
       "      <td>0</td>\n",
       "      <td>iHerb Customer</td>\n",
       "      <td>0</td>\n",
       "      <td>0</td>\n",
       "      <td>0</td>\n",
       "      <td>ja-JP</td>\n",
       "      <td>2020-12-10T21:27:11.23Z</td>\n",
       "      <td>101691</td>\n",
       "      <td>0.0</td>\n",
       "      <td>7.0</td>\n",
       "      <td>50</td>\n",
       "      <td>可愛いし大きさもちょうどいい。</td>\n",
       "      <td>Excellent!</td>\n",
       "      <td>False</td>\n",
       "      <td>1.607636e+09</td>\n",
       "      <td>ja-JP</td>\n",
       "      <td>It&amp;#39;s cute and the size is just right.</td>\n",
       "      <td>en-US</td>\n",
       "      <td>Kitsch, 100% Cotton Reuseable Face Masks, Blus...</td>\n",
       "      <td>17.72</td>\n",
       "    </tr>\n",
       "    <tr>\n",
       "      <th>c622f160-3419-442b-b931-a4c8ce5dfc77</th>\n",
       "      <td>0</td>\n",
       "      <td>iHerb Customer</td>\n",
       "      <td>0</td>\n",
       "      <td>0</td>\n",
       "      <td>0</td>\n",
       "      <td>he-IL</td>\n",
       "      <td>2020-12-10T20:10:24.334Z</td>\n",
       "      <td>101691</td>\n",
       "      <td>0.0</td>\n",
       "      <td>31.0</td>\n",
       "      <td>50</td>\n",
       "      <td>מסכות נעימות, אווריריות, קלות לכביסה.</td>\n",
       "      <td>מצוין!</td>\n",
       "      <td>False</td>\n",
       "      <td>1.607631e+09</td>\n",
       "      <td>he-IL</td>\n",
       "      <td>Pleasant, airy masks, easy to wash.</td>\n",
       "      <td>en-US</td>\n",
       "      <td>Kitsch, 100% Cotton Reuseable Face Masks, Blus...</td>\n",
       "      <td>17.72</td>\n",
       "    </tr>\n",
       "    <tr>\n",
       "      <th>a6f09975-3e59-4b56-ba27-95315d92fe12</th>\n",
       "      <td>0</td>\n",
       "      <td>Erez Opincaru</td>\n",
       "      <td>0</td>\n",
       "      <td>0</td>\n",
       "      <td>0</td>\n",
       "      <td>en-US</td>\n",
       "      <td>2020-12-10T15:22:17.597Z</td>\n",
       "      <td>101691</td>\n",
       "      <td>0.0</td>\n",
       "      <td>55.0</td>\n",
       "      <td>50</td>\n",
       "      <td>A very fashionable mask, pleasant to the touch...</td>\n",
       "      <td>Excellent!</td>\n",
       "      <td>False</td>\n",
       "      <td>1.607614e+09</td>\n",
       "      <td>en-US</td>\n",
       "      <td>NaN</td>\n",
       "      <td>NaN</td>\n",
       "      <td>Kitsch, 100% Cotton Reuseable Face Masks, Blus...</td>\n",
       "      <td>17.72</td>\n",
       "    </tr>\n",
       "    <tr>\n",
       "      <th>aef96457-8101-45b2-b7e0-92e59fc79c92</th>\n",
       "      <td>0</td>\n",
       "      <td>iHerb Customer</td>\n",
       "      <td>0</td>\n",
       "      <td>0</td>\n",
       "      <td>0</td>\n",
       "      <td>en-US</td>\n",
       "      <td>2020-12-10T04:39:05.142Z</td>\n",
       "      <td>101691</td>\n",
       "      <td>0.0</td>\n",
       "      <td>15.0</td>\n",
       "      <td>50</td>\n",
       "      <td>.</td>\n",
       "      <td>Excellent!</td>\n",
       "      <td>False</td>\n",
       "      <td>1.607575e+09</td>\n",
       "      <td>en-US</td>\n",
       "      <td>NaN</td>\n",
       "      <td>NaN</td>\n",
       "      <td>Kitsch, 100% Cotton Reuseable Face Masks, Blus...</td>\n",
       "      <td>17.72</td>\n",
       "    </tr>\n",
       "    <tr>\n",
       "      <th>517972ad-4b5a-4899-8569-d8e6a3a5e51d</th>\n",
       "      <td>0</td>\n",
       "      <td>iHerb Customer</td>\n",
       "      <td>0</td>\n",
       "      <td>0</td>\n",
       "      <td>0</td>\n",
       "      <td>ru-RU</td>\n",
       "      <td>2020-12-10T23:35:32.876Z</td>\n",
       "      <td>102455</td>\n",
       "      <td>0.0</td>\n",
       "      <td>10.0</td>\n",
       "      <td>50</td>\n",
       "      <td>Многоразовая маска. Мне понравилась, что можно...</td>\n",
       "      <td>Прекрасно!</td>\n",
       "      <td>False</td>\n",
       "      <td>1.607643e+09</td>\n",
       "      <td>ru-RU</td>\n",
       "      <td>Reusable mask. I liked that you can adjust the...</td>\n",
       "      <td>en-US</td>\n",
       "      <td>Now Foods, Face Mask, Grey, S-M, 1 Mask</td>\n",
       "      <td>2.95</td>\n",
       "    </tr>\n",
       "  </tbody>\n",
       "</table>\n",
       "</div>"
      ],
      "text/plain": [
       "                                      abuseCount customerNickname  helpfulNo  \\\n",
       "id                                                                             \n",
       "3c4f1a5a-e8c1-4c84-9b7e-dda301683fcc           0   iHerb Customer          0   \n",
       "c622f160-3419-442b-b931-a4c8ce5dfc77           0   iHerb Customer          0   \n",
       "a6f09975-3e59-4b56-ba27-95315d92fe12           0    Erez Opincaru          0   \n",
       "aef96457-8101-45b2-b7e0-92e59fc79c92           0   iHerb Customer          0   \n",
       "517972ad-4b5a-4899-8569-d8e6a3a5e51d           0   iHerb Customer          0   \n",
       "\n",
       "                                      helpfulYes  imagesCount languageCode  \\\n",
       "id                                                                           \n",
       "3c4f1a5a-e8c1-4c84-9b7e-dda301683fcc           0            0        ja-JP   \n",
       "c622f160-3419-442b-b931-a4c8ce5dfc77           0            0        he-IL   \n",
       "a6f09975-3e59-4b56-ba27-95315d92fe12           0            0        en-US   \n",
       "aef96457-8101-45b2-b7e0-92e59fc79c92           0            0        en-US   \n",
       "517972ad-4b5a-4899-8569-d8e6a3a5e51d           0            0        ru-RU   \n",
       "\n",
       "                                                    postedDate  productId  \\\n",
       "id                                                                          \n",
       "3c4f1a5a-e8c1-4c84-9b7e-dda301683fcc   2020-12-10T21:27:11.23Z     101691   \n",
       "c622f160-3419-442b-b931-a4c8ce5dfc77  2020-12-10T20:10:24.334Z     101691   \n",
       "a6f09975-3e59-4b56-ba27-95315d92fe12  2020-12-10T15:22:17.597Z     101691   \n",
       "aef96457-8101-45b2-b7e0-92e59fc79c92  2020-12-10T04:39:05.142Z     101691   \n",
       "517972ad-4b5a-4899-8569-d8e6a3a5e51d  2020-12-10T23:35:32.876Z     102455   \n",
       "\n",
       "                                      profileInfo.ugcSummary.answerCount  \\\n",
       "id                                                                         \n",
       "3c4f1a5a-e8c1-4c84-9b7e-dda301683fcc                                 0.0   \n",
       "c622f160-3419-442b-b931-a4c8ce5dfc77                                 0.0   \n",
       "a6f09975-3e59-4b56-ba27-95315d92fe12                                 0.0   \n",
       "aef96457-8101-45b2-b7e0-92e59fc79c92                                 0.0   \n",
       "517972ad-4b5a-4899-8569-d8e6a3a5e51d                                 0.0   \n",
       "\n",
       "                                      profileInfo.ugcSummary.reviewCount  \\\n",
       "id                                                                         \n",
       "3c4f1a5a-e8c1-4c84-9b7e-dda301683fcc                                 7.0   \n",
       "c622f160-3419-442b-b931-a4c8ce5dfc77                                31.0   \n",
       "a6f09975-3e59-4b56-ba27-95315d92fe12                                55.0   \n",
       "aef96457-8101-45b2-b7e0-92e59fc79c92                                15.0   \n",
       "517972ad-4b5a-4899-8569-d8e6a3a5e51d                                10.0   \n",
       "\n",
       "                                      ratingValue  \\\n",
       "id                                                  \n",
       "3c4f1a5a-e8c1-4c84-9b7e-dda301683fcc           50   \n",
       "c622f160-3419-442b-b931-a4c8ce5dfc77           50   \n",
       "a6f09975-3e59-4b56-ba27-95315d92fe12           50   \n",
       "aef96457-8101-45b2-b7e0-92e59fc79c92           50   \n",
       "517972ad-4b5a-4899-8569-d8e6a3a5e51d           50   \n",
       "\n",
       "                                                                             reviewText  \\\n",
       "id                                                                                        \n",
       "3c4f1a5a-e8c1-4c84-9b7e-dda301683fcc                                    可愛いし大きさもちょうどいい。   \n",
       "c622f160-3419-442b-b931-a4c8ce5dfc77              מסכות נעימות, אווריריות, קלות לכביסה.   \n",
       "a6f09975-3e59-4b56-ba27-95315d92fe12  A very fashionable mask, pleasant to the touch...   \n",
       "aef96457-8101-45b2-b7e0-92e59fc79c92                                                  .   \n",
       "517972ad-4b5a-4899-8569-d8e6a3a5e51d  Многоразовая маска. Мне понравилась, что можно...   \n",
       "\n",
       "                                     reviewTitle  reviewed         score  \\\n",
       "id                                                                         \n",
       "3c4f1a5a-e8c1-4c84-9b7e-dda301683fcc  Excellent!     False  1.607636e+09   \n",
       "c622f160-3419-442b-b931-a4c8ce5dfc77      מצוין!     False  1.607631e+09   \n",
       "a6f09975-3e59-4b56-ba27-95315d92fe12  Excellent!     False  1.607614e+09   \n",
       "aef96457-8101-45b2-b7e0-92e59fc79c92  Excellent!     False  1.607575e+09   \n",
       "517972ad-4b5a-4899-8569-d8e6a3a5e51d  Прекрасно!     False  1.607643e+09   \n",
       "\n",
       "                                     languageCode.1  \\\n",
       "id                                                    \n",
       "3c4f1a5a-e8c1-4c84-9b7e-dda301683fcc          ja-JP   \n",
       "c622f160-3419-442b-b931-a4c8ce5dfc77          he-IL   \n",
       "a6f09975-3e59-4b56-ba27-95315d92fe12          en-US   \n",
       "aef96457-8101-45b2-b7e0-92e59fc79c92          en-US   \n",
       "517972ad-4b5a-4899-8569-d8e6a3a5e51d          ru-RU   \n",
       "\n",
       "                                                                 translation.reviewText  \\\n",
       "id                                                                                        \n",
       "3c4f1a5a-e8c1-4c84-9b7e-dda301683fcc          It&#39;s cute and the size is just right.   \n",
       "c622f160-3419-442b-b931-a4c8ce5dfc77                Pleasant, airy masks, easy to wash.   \n",
       "a6f09975-3e59-4b56-ba27-95315d92fe12                                                NaN   \n",
       "aef96457-8101-45b2-b7e0-92e59fc79c92                                                NaN   \n",
       "517972ad-4b5a-4899-8569-d8e6a3a5e51d  Reusable mask. I liked that you can adjust the...   \n",
       "\n",
       "                                     translation.reviewTitle  \\\n",
       "id                                                             \n",
       "3c4f1a5a-e8c1-4c84-9b7e-dda301683fcc                   en-US   \n",
       "c622f160-3419-442b-b931-a4c8ce5dfc77                   en-US   \n",
       "a6f09975-3e59-4b56-ba27-95315d92fe12                     NaN   \n",
       "aef96457-8101-45b2-b7e0-92e59fc79c92                     NaN   \n",
       "517972ad-4b5a-4899-8569-d8e6a3a5e51d                   en-US   \n",
       "\n",
       "                                                                           product_name  \\\n",
       "id                                                                                        \n",
       "3c4f1a5a-e8c1-4c84-9b7e-dda301683fcc  Kitsch, 100% Cotton Reuseable Face Masks, Blus...   \n",
       "c622f160-3419-442b-b931-a4c8ce5dfc77  Kitsch, 100% Cotton Reuseable Face Masks, Blus...   \n",
       "a6f09975-3e59-4b56-ba27-95315d92fe12  Kitsch, 100% Cotton Reuseable Face Masks, Blus...   \n",
       "aef96457-8101-45b2-b7e0-92e59fc79c92  Kitsch, 100% Cotton Reuseable Face Masks, Blus...   \n",
       "517972ad-4b5a-4899-8569-d8e6a3a5e51d            Now Foods, Face Mask, Grey, S-M, 1 Mask   \n",
       "\n",
       "                                      product_price  \n",
       "id                                                   \n",
       "3c4f1a5a-e8c1-4c84-9b7e-dda301683fcc          17.72  \n",
       "c622f160-3419-442b-b931-a4c8ce5dfc77          17.72  \n",
       "a6f09975-3e59-4b56-ba27-95315d92fe12          17.72  \n",
       "aef96457-8101-45b2-b7e0-92e59fc79c92          17.72  \n",
       "517972ad-4b5a-4899-8569-d8e6a3a5e51d           2.95  "
      ]
     },
     "execution_count": 123,
     "metadata": {},
     "output_type": "execute_result"
    }
   ],
   "source": [
    "xdf.head()"
   ]
  },
  {
   "cell_type": "code",
   "execution_count": 132,
   "id": "7131636e-72c6-451e-bc1e-fe278790f22d",
   "metadata": {},
   "outputs": [
    {
     "data": {
      "text/plain": [
       "'It was written that the quality was the same as N95, so I bought it, and I thought I would use it when the risk seems to be high. I trust it because it is made in korea. There is a sense of security.'"
      ]
     },
     "execution_count": 132,
     "metadata": {},
     "output_type": "execute_result"
    }
   ],
   "source": [
    "xdf[xdf['helpfulNo'] > 0]['translation.reviewText'].iloc[0]"
   ]
  },
  {
   "cell_type": "code",
   "execution_count": 135,
   "id": "0963f7f3-49a8-4579-8756-d6a1fdcefc57",
   "metadata": {},
   "outputs": [
    {
     "data": {
      "text/plain": [
       "0    3585\n",
       "1     107\n",
       "2      40\n",
       "3      15\n",
       "4      14\n",
       "5       4\n",
       "Name: imagesCount, dtype: int64"
      ]
     },
     "execution_count": 135,
     "metadata": {},
     "output_type": "execute_result"
    }
   ],
   "source": [
    "df['imagesCount'].value_counts()"
   ]
  },
  {
   "cell_type": "code",
   "execution_count": 137,
   "id": "b7eb8832-d0da-4bd8-bee2-b0c8d19d335e",
   "metadata": {},
   "outputs": [
    {
     "data": {
      "text/plain": [
       "<AxesSubplot:xlabel='imagesCount', ylabel='helpfulYes'>"
      ]
     },
     "execution_count": 137,
     "metadata": {},
     "output_type": "execute_result"
    },
    {
     "data": {
      "image/png": "[encoded data removed]",
      "text/plain": [
       "<Figure size 640x480 with 1 Axes>"
      ]
     },
     "metadata": {},
     "output_type": "display_data"
    }
   ],
   "source": [
    "df.plot.scatter('imagesCount', 'helpfulYes')"
   ]
  },
  {
   "cell_type": "code",
   "execution_count": 138,
   "id": "43a1dfdb-b952-40a3-8b37-af03753ad09e",
   "metadata": {},
   "outputs": [
    {
     "data": {
      "text/html": [
       "<div>\n",
       "<style scoped>\n",
       "    .dataframe tbody tr th:only-of-type {\n",
       "        vertical-align: middle;\n",
       "    }\n",
       "\n",
       "    .dataframe tbody tr th {\n",
       "        vertical-align: top;\n",
       "    }\n",
       "\n",
       "    .dataframe thead th {\n",
       "        text-align: right;\n",
       "    }\n",
       "</style>\n",
       "<table border=\"1\" class=\"dataframe\">\n",
       "  <thead>\n",
       "    <tr style=\"text-align: right;\">\n",
       "      <th></th>\n",
       "      <th>abuseCount</th>\n",
       "      <th>customerNickname</th>\n",
       "      <th>helpfulNo</th>\n",
       "      <th>helpfulYes</th>\n",
       "      <th>imagesCount</th>\n",
       "      <th>languageCode</th>\n",
       "      <th>postedDate</th>\n",
       "      <th>productId</th>\n",
       "      <th>profileInfo.ugcSummary.answerCount</th>\n",
       "      <th>profileInfo.ugcSummary.reviewCount</th>\n",
       "      <th>ratingValue</th>\n",
       "      <th>reviewText</th>\n",
       "      <th>reviewTitle</th>\n",
       "      <th>reviewed</th>\n",
       "      <th>score</th>\n",
       "      <th>languageCode.1</th>\n",
       "      <th>translation.reviewText</th>\n",
       "      <th>translation.reviewTitle</th>\n",
       "      <th>product_name</th>\n",
       "      <th>product_price</th>\n",
       "    </tr>\n",
       "    <tr>\n",
       "      <th>id</th>\n",
       "      <th></th>\n",
       "      <th></th>\n",
       "      <th></th>\n",
       "      <th></th>\n",
       "      <th></th>\n",
       "      <th></th>\n",
       "      <th></th>\n",
       "      <th></th>\n",
       "      <th></th>\n",
       "      <th></th>\n",
       "      <th></th>\n",
       "      <th></th>\n",
       "      <th></th>\n",
       "      <th></th>\n",
       "      <th></th>\n",
       "      <th></th>\n",
       "      <th></th>\n",
       "      <th></th>\n",
       "      <th></th>\n",
       "      <th></th>\n",
       "    </tr>\n",
       "  </thead>\n",
       "  <tbody>\n",
       "    <tr>\n",
       "      <th>3c4f1a5a-e8c1-4c84-9b7e-dda301683fcc</th>\n",
       "      <td>0</td>\n",
       "      <td>iHerb Customer</td>\n",
       "      <td>0</td>\n",
       "      <td>0</td>\n",
       "      <td>0</td>\n",
       "      <td>ja-JP</td>\n",
       "      <td>2020-12-10T21:27:11.23Z</td>\n",
       "      <td>101691</td>\n",
       "      <td>0.0</td>\n",
       "      <td>7.0</td>\n",
       "      <td>50</td>\n",
       "      <td>可愛いし大きさもちょうどいい。</td>\n",
       "      <td>Excellent!</td>\n",
       "      <td>False</td>\n",
       "      <td>1.607636e+09</td>\n",
       "      <td>ja-JP</td>\n",
       "      <td>It&amp;#39;s cute and the size is just right.</td>\n",
       "      <td>en-US</td>\n",
       "      <td>Kitsch, 100% Cotton Reuseable Face Masks, Blus...</td>\n",
       "      <td>17.72</td>\n",
       "    </tr>\n",
       "    <tr>\n",
       "      <th>c622f160-3419-442b-b931-a4c8ce5dfc77</th>\n",
       "      <td>0</td>\n",
       "      <td>iHerb Customer</td>\n",
       "      <td>0</td>\n",
       "      <td>0</td>\n",
       "      <td>0</td>\n",
       "      <td>he-IL</td>\n",
       "      <td>2020-12-10T20:10:24.334Z</td>\n",
       "      <td>101691</td>\n",
       "      <td>0.0</td>\n",
       "      <td>31.0</td>\n",
       "      <td>50</td>\n",
       "      <td>מסכות נעימות, אווריריות, קלות לכביסה.</td>\n",
       "      <td>מצוין!</td>\n",
       "      <td>False</td>\n",
       "      <td>1.607631e+09</td>\n",
       "      <td>he-IL</td>\n",
       "      <td>Pleasant, airy masks, easy to wash.</td>\n",
       "      <td>en-US</td>\n",
       "      <td>Kitsch, 100% Cotton Reuseable Face Masks, Blus...</td>\n",
       "      <td>17.72</td>\n",
       "    </tr>\n",
       "    <tr>\n",
       "      <th>a6f09975-3e59-4b56-ba27-95315d92fe12</th>\n",
       "      <td>0</td>\n",
       "      <td>Erez Opincaru</td>\n",
       "      <td>0</td>\n",
       "      <td>0</td>\n",
       "      <td>0</td>\n",
       "      <td>en-US</td>\n",
       "      <td>2020-12-10T15:22:17.597Z</td>\n",
       "      <td>101691</td>\n",
       "      <td>0.0</td>\n",
       "      <td>55.0</td>\n",
       "      <td>50</td>\n",
       "      <td>A very fashionable mask, pleasant to the touch...</td>\n",
       "      <td>Excellent!</td>\n",
       "      <td>False</td>\n",
       "      <td>1.607614e+09</td>\n",
       "      <td>en-US</td>\n",
       "      <td>NaN</td>\n",
       "      <td>NaN</td>\n",
       "      <td>Kitsch, 100% Cotton Reuseable Face Masks, Blus...</td>\n",
       "      <td>17.72</td>\n",
       "    </tr>\n",
       "    <tr>\n",
       "      <th>aef96457-8101-45b2-b7e0-92e59fc79c92</th>\n",
       "      <td>0</td>\n",
       "      <td>iHerb Customer</td>\n",
       "      <td>0</td>\n",
       "      <td>0</td>\n",
       "      <td>0</td>\n",
       "      <td>en-US</td>\n",
       "      <td>2020-12-10T04:39:05.142Z</td>\n",
       "      <td>101691</td>\n",
       "      <td>0.0</td>\n",
       "      <td>15.0</td>\n",
       "      <td>50</td>\n",
       "      <td>.</td>\n",
       "      <td>Excellent!</td>\n",
       "      <td>False</td>\n",
       "      <td>1.607575e+09</td>\n",
       "      <td>en-US</td>\n",
       "      <td>NaN</td>\n",
       "      <td>NaN</td>\n",
       "      <td>Kitsch, 100% Cotton Reuseable Face Masks, Blus...</td>\n",
       "      <td>17.72</td>\n",
       "    </tr>\n",
       "    <tr>\n",
       "      <th>517972ad-4b5a-4899-8569-d8e6a3a5e51d</th>\n",
       "      <td>0</td>\n",
       "      <td>iHerb Customer</td>\n",
       "      <td>0</td>\n",
       "      <td>0</td>\n",
       "      <td>0</td>\n",
       "      <td>ru-RU</td>\n",
       "      <td>2020-12-10T23:35:32.876Z</td>\n",
       "      <td>102455</td>\n",
       "      <td>0.0</td>\n",
       "      <td>10.0</td>\n",
       "      <td>50</td>\n",
       "      <td>Многоразовая маска. Мне понравилась, что можно...</td>\n",
       "      <td>Прекрасно!</td>\n",
       "      <td>False</td>\n",
       "      <td>1.607643e+09</td>\n",
       "      <td>ru-RU</td>\n",
       "      <td>Reusable mask. I liked that you can adjust the...</td>\n",
       "      <td>en-US</td>\n",
       "      <td>Now Foods, Face Mask, Grey, S-M, 1 Mask</td>\n",
       "      <td>2.95</td>\n",
       "    </tr>\n",
       "  </tbody>\n",
       "</table>\n",
       "</div>"
      ],
      "text/plain": [
       "                                      abuseCount customerNickname  helpfulNo  \\\n",
       "id                                                                             \n",
       "3c4f1a5a-e8c1-4c84-9b7e-dda301683fcc           0   iHerb Customer          0   \n",
       "c622f160-3419-442b-b931-a4c8ce5dfc77           0   iHerb Customer          0   \n",
       "a6f09975-3e59-4b56-ba27-95315d92fe12           0    Erez Opincaru          0   \n",
       "aef96457-8101-45b2-b7e0-92e59fc79c92           0   iHerb Customer          0   \n",
       "517972ad-4b5a-4899-8569-d8e6a3a5e51d           0   iHerb Customer          0   \n",
       "\n",
       "                                      helpfulYes  imagesCount languageCode  \\\n",
       "id                                                                           \n",
       "3c4f1a5a-e8c1-4c84-9b7e-dda301683fcc           0            0        ja-JP   \n",
       "c622f160-3419-442b-b931-a4c8ce5dfc77           0            0        he-IL   \n",
       "a6f09975-3e59-4b56-ba27-95315d92fe12           0            0        en-US   \n",
       "aef96457-8101-45b2-b7e0-92e59fc79c92           0            0        en-US   \n",
       "517972ad-4b5a-4899-8569-d8e6a3a5e51d           0            0        ru-RU   \n",
       "\n",
       "                                                    postedDate  productId  \\\n",
       "id                                                                          \n",
       "3c4f1a5a-e8c1-4c84-9b7e-dda301683fcc   2020-12-10T21:27:11.23Z     101691   \n",
       "c622f160-3419-442b-b931-a4c8ce5dfc77  2020-12-10T20:10:24.334Z     101691   \n",
       "a6f09975-3e59-4b56-ba27-95315d92fe12  2020-12-10T15:22:17.597Z     101691   \n",
       "aef96457-8101-45b2-b7e0-92e59fc79c92  2020-12-10T04:39:05.142Z     101691   \n",
       "517972ad-4b5a-4899-8569-d8e6a3a5e51d  2020-12-10T23:35:32.876Z     102455   \n",
       "\n",
       "                                      profileInfo.ugcSummary.answerCount  \\\n",
       "id                                                                         \n",
       "3c4f1a5a-e8c1-4c84-9b7e-dda301683fcc                                 0.0   \n",
       "c622f160-3419-442b-b931-a4c8ce5dfc77                                 0.0   \n",
       "a6f09975-3e59-4b56-ba27-95315d92fe12                                 0.0   \n",
       "aef96457-8101-45b2-b7e0-92e59fc79c92                                 0.0   \n",
       "517972ad-4b5a-4899-8569-d8e6a3a5e51d                                 0.0   \n",
       "\n",
       "                                      profileInfo.ugcSummary.reviewCount  \\\n",
       "id                                                                         \n",
       "3c4f1a5a-e8c1-4c84-9b7e-dda301683fcc                                 7.0   \n",
       "c622f160-3419-442b-b931-a4c8ce5dfc77                                31.0   \n",
       "a6f09975-3e59-4b56-ba27-95315d92fe12                                55.0   \n",
       "aef96457-8101-45b2-b7e0-92e59fc79c92                                15.0   \n",
       "517972ad-4b5a-4899-8569-d8e6a3a5e51d                                10.0   \n",
       "\n",
       "                                      ratingValue  \\\n",
       "id                                                  \n",
       "3c4f1a5a-e8c1-4c84-9b7e-dda301683fcc           50   \n",
       "c622f160-3419-442b-b931-a4c8ce5dfc77           50   \n",
       "a6f09975-3e59-4b56-ba27-95315d92fe12           50   \n",
       "aef96457-8101-45b2-b7e0-92e59fc79c92           50   \n",
       "517972ad-4b5a-4899-8569-d8e6a3a5e51d           50   \n",
       "\n",
       "                                                                             reviewText  \\\n",
       "id                                                                                        \n",
       "3c4f1a5a-e8c1-4c84-9b7e-dda301683fcc                                    可愛いし大きさもちょうどいい。   \n",
       "c622f160-3419-442b-b931-a4c8ce5dfc77              מסכות נעימות, אווריריות, קלות לכביסה.   \n",
       "a6f09975-3e59-4b56-ba27-95315d92fe12  A very fashionable mask, pleasant to the touch...   \n",
       "aef96457-8101-45b2-b7e0-92e59fc79c92                                                  .   \n",
       "517972ad-4b5a-4899-8569-d8e6a3a5e51d  Многоразовая маска. Мне понравилась, что можно...   \n",
       "\n",
       "                                     reviewTitle  reviewed         score  \\\n",
       "id                                                                         \n",
       "3c4f1a5a-e8c1-4c84-9b7e-dda301683fcc  Excellent!     False  1.607636e+09   \n",
       "c622f160-3419-442b-b931-a4c8ce5dfc77      מצוין!     False  1.607631e+09   \n",
       "a6f09975-3e59-4b56-ba27-95315d92fe12  Excellent!     False  1.607614e+09   \n",
       "aef96457-8101-45b2-b7e0-92e59fc79c92  Excellent!     False  1.607575e+09   \n",
       "517972ad-4b5a-4899-8569-d8e6a3a5e51d  Прекрасно!     False  1.607643e+09   \n",
       "\n",
       "                                     languageCode.1  \\\n",
       "id                                                    \n",
       "3c4f1a5a-e8c1-4c84-9b7e-dda301683fcc          ja-JP   \n",
       "c622f160-3419-442b-b931-a4c8ce5dfc77          he-IL   \n",
       "a6f09975-3e59-4b56-ba27-95315d92fe12          en-US   \n",
       "aef96457-8101-45b2-b7e0-92e59fc79c92          en-US   \n",
       "517972ad-4b5a-4899-8569-d8e6a3a5e51d          ru-RU   \n",
       "\n",
       "                                                                 translation.reviewText  \\\n",
       "id                                                                                        \n",
       "3c4f1a5a-e8c1-4c84-9b7e-dda301683fcc          It&#39;s cute and the size is just right.   \n",
       "c622f160-3419-442b-b931-a4c8ce5dfc77                Pleasant, airy masks, easy to wash.   \n",
       "a6f09975-3e59-4b56-ba27-95315d92fe12                                                NaN   \n",
       "aef96457-8101-45b2-b7e0-92e59fc79c92                                                NaN   \n",
       "517972ad-4b5a-4899-8569-d8e6a3a5e51d  Reusable mask. I liked that you can adjust the...   \n",
       "\n",
       "                                     translation.reviewTitle  \\\n",
       "id                                                             \n",
       "3c4f1a5a-e8c1-4c84-9b7e-dda301683fcc                   en-US   \n",
       "c622f160-3419-442b-b931-a4c8ce5dfc77                   en-US   \n",
       "a6f09975-3e59-4b56-ba27-95315d92fe12                     NaN   \n",
       "aef96457-8101-45b2-b7e0-92e59fc79c92                     NaN   \n",
       "517972ad-4b5a-4899-8569-d8e6a3a5e51d                   en-US   \n",
       "\n",
       "                                                                           product_name  \\\n",
       "id                                                                                        \n",
       "3c4f1a5a-e8c1-4c84-9b7e-dda301683fcc  Kitsch, 100% Cotton Reuseable Face Masks, Blus...   \n",
       "c622f160-3419-442b-b931-a4c8ce5dfc77  Kitsch, 100% Cotton Reuseable Face Masks, Blus...   \n",
       "a6f09975-3e59-4b56-ba27-95315d92fe12  Kitsch, 100% Cotton Reuseable Face Masks, Blus...   \n",
       "aef96457-8101-45b2-b7e0-92e59fc79c92  Kitsch, 100% Cotton Reuseable Face Masks, Blus...   \n",
       "517972ad-4b5a-4899-8569-d8e6a3a5e51d            Now Foods, Face Mask, Grey, S-M, 1 Mask   \n",
       "\n",
       "                                      product_price  \n",
       "id                                                   \n",
       "3c4f1a5a-e8c1-4c84-9b7e-dda301683fcc          17.72  \n",
       "c622f160-3419-442b-b931-a4c8ce5dfc77          17.72  \n",
       "a6f09975-3e59-4b56-ba27-95315d92fe12          17.72  \n",
       "aef96457-8101-45b2-b7e0-92e59fc79c92          17.72  \n",
       "517972ad-4b5a-4899-8569-d8e6a3a5e51d           2.95  "
      ]
     },
     "execution_count": 138,
     "metadata": {},
     "output_type": "execute_result"
    }
   ],
   "source": [
    "xdf.head()"
   ]
  },
  {
   "cell_type": "code",
   "execution_count": 7,
   "id": "47d8efb9-2b8e-4ba1-bec6-b7b52d679c33",
   "metadata": {},
   "outputs": [
    {
     "data": {
      "text/html": [
       "<div>\n",
       "<style scoped>\n",
       "    .dataframe tbody tr th:only-of-type {\n",
       "        vertical-align: middle;\n",
       "    }\n",
       "\n",
       "    .dataframe tbody tr th {\n",
       "        vertical-align: top;\n",
       "    }\n",
       "\n",
       "    .dataframe thead th {\n",
       "        text-align: right;\n",
       "    }\n",
       "</style>\n",
       "<table border=\"1\" class=\"dataframe\">\n",
       "  <thead>\n",
       "    <tr style=\"text-align: right;\">\n",
       "      <th></th>\n",
       "      <th>abuseCount</th>\n",
       "      <th>customerNickname</th>\n",
       "      <th>helpfulNo</th>\n",
       "      <th>helpfulYes</th>\n",
       "      <th>imagesCount</th>\n",
       "      <th>languageCode</th>\n",
       "      <th>postedDate</th>\n",
       "      <th>productId</th>\n",
       "      <th>profileInfo.ugcSummary.answerCount</th>\n",
       "      <th>profileInfo.ugcSummary.reviewCount</th>\n",
       "      <th>ratingValue</th>\n",
       "      <th>reviewText</th>\n",
       "      <th>reviewTitle</th>\n",
       "      <th>reviewed</th>\n",
       "      <th>score</th>\n",
       "      <th>languageCode.1</th>\n",
       "      <th>translation.reviewText</th>\n",
       "      <th>translation.reviewTitle</th>\n",
       "      <th>product_name</th>\n",
       "      <th>product_price</th>\n",
       "    </tr>\n",
       "    <tr>\n",
       "      <th>id</th>\n",
       "      <th></th>\n",
       "      <th></th>\n",
       "      <th></th>\n",
       "      <th></th>\n",
       "      <th></th>\n",
       "      <th></th>\n",
       "      <th></th>\n",
       "      <th></th>\n",
       "      <th></th>\n",
       "      <th></th>\n",
       "      <th></th>\n",
       "      <th></th>\n",
       "      <th></th>\n",
       "      <th></th>\n",
       "      <th></th>\n",
       "      <th></th>\n",
       "      <th></th>\n",
       "      <th></th>\n",
       "      <th></th>\n",
       "      <th></th>\n",
       "    </tr>\n",
       "  </thead>\n",
       "  <tbody>\n",
       "    <tr>\n",
       "      <th>05c2b17e-c28d-4792-930d-27e787d8d4ad</th>\n",
       "      <td>0</td>\n",
       "      <td>iHerb Customer</td>\n",
       "      <td>0</td>\n",
       "      <td>6</td>\n",
       "      <td>1</td>\n",
       "      <td>en-US</td>\n",
       "      <td>2021-01-27T09:04:10.569Z</td>\n",
       "      <td>103839</td>\n",
       "      <td>0.0</td>\n",
       "      <td>34.0</td>\n",
       "      <td>50</td>\n",
       "      <td>The mask quality and the color is good. It fit...</td>\n",
       "      <td>Dotted Pattern Is Nice</td>\n",
       "      <td>True</td>\n",
       "      <td>1.614071e+09</td>\n",
       "      <td>en-US</td>\n",
       "      <td>NaN</td>\n",
       "      <td>NaN</td>\n",
       "      <td>Lozperi, Copper Mask, Adult, Dot, 1 Count</td>\n",
       "      <td>6.85</td>\n",
       "    </tr>\n",
       "    <tr>\n",
       "      <th>80e44af8-2edf-4b81-a80a-7e7888d03cc0</th>\n",
       "      <td>0</td>\n",
       "      <td>iHerb Customer</td>\n",
       "      <td>0</td>\n",
       "      <td>0</td>\n",
       "      <td>0</td>\n",
       "      <td>ru-RU</td>\n",
       "      <td>2021-02-07T00:56:39.055Z</td>\n",
       "      <td>103839</td>\n",
       "      <td>0.0</td>\n",
       "      <td>37.0</td>\n",
       "      <td>50</td>\n",
       "      <td>Внуку очень понравилось. Удобная маска.</td>\n",
       "      <td>Прекрасно!</td>\n",
       "      <td>False</td>\n",
       "      <td>1.612659e+09</td>\n",
       "      <td>ru-RU</td>\n",
       "      <td>The grandson really liked it. Comfortable mask.</td>\n",
       "      <td>en-US</td>\n",
       "      <td>Lozperi, Copper Mask, Adult, Dot, 1 Count</td>\n",
       "      <td>6.85</td>\n",
       "    </tr>\n",
       "    <tr>\n",
       "      <th>9a76e047-21e4-4da3-8b50-9d2396519b6b</th>\n",
       "      <td>0</td>\n",
       "      <td>iHerb Customer</td>\n",
       "      <td>0</td>\n",
       "      <td>0</td>\n",
       "      <td>0</td>\n",
       "      <td>en-US</td>\n",
       "      <td>2021-02-06T21:40:02.886Z</td>\n",
       "      <td>103839</td>\n",
       "      <td>0.0</td>\n",
       "      <td>3.0</td>\n",
       "      <td>40</td>\n",
       "      <td>Easy to put on &amp; comfortable to wear.</td>\n",
       "      <td>Good</td>\n",
       "      <td>False</td>\n",
       "      <td>1.612648e+09</td>\n",
       "      <td>en-US</td>\n",
       "      <td>NaN</td>\n",
       "      <td>NaN</td>\n",
       "      <td>Lozperi, Copper Mask, Adult, Dot, 1 Count</td>\n",
       "      <td>6.85</td>\n",
       "    </tr>\n",
       "    <tr>\n",
       "      <th>2890ac54-8707-418e-be3e-8d46231e3672</th>\n",
       "      <td>0</td>\n",
       "      <td>InnaIgorevna</td>\n",
       "      <td>0</td>\n",
       "      <td>0</td>\n",
       "      <td>0</td>\n",
       "      <td>ru-RU</td>\n",
       "      <td>2021-02-05T16:29:28.906Z</td>\n",
       "      <td>103839</td>\n",
       "      <td>0.0</td>\n",
       "      <td>16.0</td>\n",
       "      <td>40</td>\n",
       "      <td>Тонкая, приятная к телу маска. Расцветка тоже ...</td>\n",
       "      <td>Хорошо</td>\n",
       "      <td>False</td>\n",
       "      <td>1.612543e+09</td>\n",
       "      <td>ru-RU</td>\n",
       "      <td>A thin mask that is pleasant to the body. I li...</td>\n",
       "      <td>en-US</td>\n",
       "      <td>Lozperi, Copper Mask, Adult, Dot, 1 Count</td>\n",
       "      <td>6.85</td>\n",
       "    </tr>\n",
       "    <tr>\n",
       "      <th>9db33354-0457-4efa-bc9c-b5f7ee0eff31</th>\n",
       "      <td>0</td>\n",
       "      <td>iHerb Customer</td>\n",
       "      <td>0</td>\n",
       "      <td>0</td>\n",
       "      <td>0</td>\n",
       "      <td>ru-RU</td>\n",
       "      <td>2021-02-05T09:43:42.367Z</td>\n",
       "      <td>103839</td>\n",
       "      <td>0.0</td>\n",
       "      <td>19.0</td>\n",
       "      <td>50</td>\n",
       "      <td>Отличная маска! Мне подошла идеально. Слегка е...</td>\n",
       "      <td>Прекрасно!</td>\n",
       "      <td>False</td>\n",
       "      <td>1.612518e+09</td>\n",
       "      <td>ru-RU</td>\n",
       "      <td>Great mask! It suited me perfectly. There is a...</td>\n",
       "      <td>en-US</td>\n",
       "      <td>Lozperi, Copper Mask, Adult, Dot, 1 Count</td>\n",
       "      <td>6.85</td>\n",
       "    </tr>\n",
       "  </tbody>\n",
       "</table>\n",
       "</div>"
      ],
      "text/plain": [
       "                                      abuseCount customerNickname  helpfulNo  \\\n",
       "id                                                                             \n",
       "05c2b17e-c28d-4792-930d-27e787d8d4ad           0   iHerb Customer          0   \n",
       "80e44af8-2edf-4b81-a80a-7e7888d03cc0           0   iHerb Customer          0   \n",
       "9a76e047-21e4-4da3-8b50-9d2396519b6b           0   iHerb Customer          0   \n",
       "2890ac54-8707-418e-be3e-8d46231e3672           0     InnaIgorevna          0   \n",
       "9db33354-0457-4efa-bc9c-b5f7ee0eff31           0   iHerb Customer          0   \n",
       "\n",
       "                                      helpfulYes  imagesCount languageCode  \\\n",
       "id                                                                           \n",
       "05c2b17e-c28d-4792-930d-27e787d8d4ad           6            1        en-US   \n",
       "80e44af8-2edf-4b81-a80a-7e7888d03cc0           0            0        ru-RU   \n",
       "9a76e047-21e4-4da3-8b50-9d2396519b6b           0            0        en-US   \n",
       "2890ac54-8707-418e-be3e-8d46231e3672           0            0        ru-RU   \n",
       "9db33354-0457-4efa-bc9c-b5f7ee0eff31           0            0        ru-RU   \n",
       "\n",
       "                                                    postedDate  productId  \\\n",
       "id                                                                          \n",
       "05c2b17e-c28d-4792-930d-27e787d8d4ad  2021-01-27T09:04:10.569Z     103839   \n",
       "80e44af8-2edf-4b81-a80a-7e7888d03cc0  2021-02-07T00:56:39.055Z     103839   \n",
       "9a76e047-21e4-4da3-8b50-9d2396519b6b  2021-02-06T21:40:02.886Z     103839   \n",
       "2890ac54-8707-418e-be3e-8d46231e3672  2021-02-05T16:29:28.906Z     103839   \n",
       "9db33354-0457-4efa-bc9c-b5f7ee0eff31  2021-02-05T09:43:42.367Z     103839   \n",
       "\n",
       "                                      profileInfo.ugcSummary.answerCount  \\\n",
       "id                                                                         \n",
       "05c2b17e-c28d-4792-930d-27e787d8d4ad                                 0.0   \n",
       "80e44af8-2edf-4b81-a80a-7e7888d03cc0                                 0.0   \n",
       "9a76e047-21e4-4da3-8b50-9d2396519b6b                                 0.0   \n",
       "2890ac54-8707-418e-be3e-8d46231e3672                                 0.0   \n",
       "9db33354-0457-4efa-bc9c-b5f7ee0eff31                                 0.0   \n",
       "\n",
       "                                      profileInfo.ugcSummary.reviewCount  \\\n",
       "id                                                                         \n",
       "05c2b17e-c28d-4792-930d-27e787d8d4ad                                34.0   \n",
       "80e44af8-2edf-4b81-a80a-7e7888d03cc0                                37.0   \n",
       "9a76e047-21e4-4da3-8b50-9d2396519b6b                                 3.0   \n",
       "2890ac54-8707-418e-be3e-8d46231e3672                                16.0   \n",
       "9db33354-0457-4efa-bc9c-b5f7ee0eff31                                19.0   \n",
       "\n",
       "                                      ratingValue  \\\n",
       "id                                                  \n",
       "05c2b17e-c28d-4792-930d-27e787d8d4ad           50   \n",
       "80e44af8-2edf-4b81-a80a-7e7888d03cc0           50   \n",
       "9a76e047-21e4-4da3-8b50-9d2396519b6b           40   \n",
       "2890ac54-8707-418e-be3e-8d46231e3672           40   \n",
       "9db33354-0457-4efa-bc9c-b5f7ee0eff31           50   \n",
       "\n",
       "                                                                             reviewText  \\\n",
       "id                                                                                        \n",
       "05c2b17e-c28d-4792-930d-27e787d8d4ad  The mask quality and the color is good. It fit...   \n",
       "80e44af8-2edf-4b81-a80a-7e7888d03cc0            Внуку очень понравилось. Удобная маска.   \n",
       "9a76e047-21e4-4da3-8b50-9d2396519b6b              Easy to put on & comfortable to wear.   \n",
       "2890ac54-8707-418e-be3e-8d46231e3672  Тонкая, приятная к телу маска. Расцветка тоже ...   \n",
       "9db33354-0457-4efa-bc9c-b5f7ee0eff31  Отличная маска! Мне подошла идеально. Слегка е...   \n",
       "\n",
       "                                                 reviewTitle  reviewed  \\\n",
       "id                                                                       \n",
       "05c2b17e-c28d-4792-930d-27e787d8d4ad  Dotted Pattern Is Nice      True   \n",
       "80e44af8-2edf-4b81-a80a-7e7888d03cc0              Прекрасно!     False   \n",
       "9a76e047-21e4-4da3-8b50-9d2396519b6b                    Good     False   \n",
       "2890ac54-8707-418e-be3e-8d46231e3672                  Хорошо     False   \n",
       "9db33354-0457-4efa-bc9c-b5f7ee0eff31              Прекрасно!     False   \n",
       "\n",
       "                                             score languageCode.1  \\\n",
       "id                                                                  \n",
       "05c2b17e-c28d-4792-930d-27e787d8d4ad  1.614071e+09          en-US   \n",
       "80e44af8-2edf-4b81-a80a-7e7888d03cc0  1.612659e+09          ru-RU   \n",
       "9a76e047-21e4-4da3-8b50-9d2396519b6b  1.612648e+09          en-US   \n",
       "2890ac54-8707-418e-be3e-8d46231e3672  1.612543e+09          ru-RU   \n",
       "9db33354-0457-4efa-bc9c-b5f7ee0eff31  1.612518e+09          ru-RU   \n",
       "\n",
       "                                                                 translation.reviewText  \\\n",
       "id                                                                                        \n",
       "05c2b17e-c28d-4792-930d-27e787d8d4ad                                                NaN   \n",
       "80e44af8-2edf-4b81-a80a-7e7888d03cc0    The grandson really liked it. Comfortable mask.   \n",
       "9a76e047-21e4-4da3-8b50-9d2396519b6b                                                NaN   \n",
       "2890ac54-8707-418e-be3e-8d46231e3672  A thin mask that is pleasant to the body. I li...   \n",
       "9db33354-0457-4efa-bc9c-b5f7ee0eff31  Great mask! It suited me perfectly. There is a...   \n",
       "\n",
       "                                     translation.reviewTitle  \\\n",
       "id                                                             \n",
       "05c2b17e-c28d-4792-930d-27e787d8d4ad                     NaN   \n",
       "80e44af8-2edf-4b81-a80a-7e7888d03cc0                   en-US   \n",
       "9a76e047-21e4-4da3-8b50-9d2396519b6b                     NaN   \n",
       "2890ac54-8707-418e-be3e-8d46231e3672                   en-US   \n",
       "9db33354-0457-4efa-bc9c-b5f7ee0eff31                   en-US   \n",
       "\n",
       "                                                                   product_name  \\\n",
       "id                                                                                \n",
       "05c2b17e-c28d-4792-930d-27e787d8d4ad  Lozperi, Copper Mask, Adult, Dot, 1 Count   \n",
       "80e44af8-2edf-4b81-a80a-7e7888d03cc0  Lozperi, Copper Mask, Adult, Dot, 1 Count   \n",
       "9a76e047-21e4-4da3-8b50-9d2396519b6b  Lozperi, Copper Mask, Adult, Dot, 1 Count   \n",
       "2890ac54-8707-418e-be3e-8d46231e3672  Lozperi, Copper Mask, Adult, Dot, 1 Count   \n",
       "9db33354-0457-4efa-bc9c-b5f7ee0eff31  Lozperi, Copper Mask, Adult, Dot, 1 Count   \n",
       "\n",
       "                                      product_price  \n",
       "id                                                   \n",
       "05c2b17e-c28d-4792-930d-27e787d8d4ad           6.85  \n",
       "80e44af8-2edf-4b81-a80a-7e7888d03cc0           6.85  \n",
       "9a76e047-21e4-4da3-8b50-9d2396519b6b           6.85  \n",
       "2890ac54-8707-418e-be3e-8d46231e3672           6.85  \n",
       "9db33354-0457-4efa-bc9c-b5f7ee0eff31           6.85  "
      ]
     },
     "execution_count": 7,
     "metadata": {},
     "output_type": "execute_result"
    }
   ],
   "source": [
    "df.head()"
   ]
  },
  {
   "cell_type": "code",
   "execution_count": 139,
   "id": "1f04a8d8-748d-4434-85a6-8d75875f967c",
   "metadata": {},
   "outputs": [
    {
     "data": {
      "text/plain": [
       "False    2712\n",
       "True     1053\n",
       "Name: reviewed, dtype: int64"
      ]
     },
     "execution_count": 139,
     "metadata": {},
     "output_type": "execute_result"
    }
   ],
   "source": [
    "df['reviewed'].value_counts()"
   ]
  },
  {
   "cell_type": "code",
   "execution_count": 140,
   "id": "eb2c7462-3b1f-43d2-9a10-7334d65be8aa",
   "metadata": {},
   "outputs": [
    {
     "data": {
      "text/plain": [
       "False    121\n",
       "True       8\n",
       "Name: reviewed, dtype: int64"
      ]
     },
     "execution_count": 140,
     "metadata": {},
     "output_type": "execute_result"
    }
   ],
   "source": [
    "xdf['reviewed'].value_counts()"
   ]
  },
  {
   "cell_type": "code",
   "execution_count": 142,
   "id": "52b59072-0a95-4f1b-9784-4e4fecc4ad68",
   "metadata": {},
   "outputs": [
    {
     "data": {
      "text/plain": [
       "1607117994.2096574"
      ]
     },
     "execution_count": 142,
     "metadata": {},
     "output_type": "execute_result"
    }
   ],
   "source": [
    "df['score'].mean()"
   ]
  },
  {
   "cell_type": "code",
   "execution_count": 143,
   "id": "456699bf-1be9-467f-b39b-b45204494a86",
   "metadata": {},
   "outputs": [
    {
     "data": {
      "text/plain": [
       "1607637622.5206597"
      ]
     },
     "execution_count": 143,
     "metadata": {},
     "output_type": "execute_result"
    }
   ],
   "source": [
    "xdf['score'].mean()"
   ]
  },
  {
   "cell_type": "code",
   "execution_count": 145,
   "id": "947148f0-d2f5-4cf0-9fc6-5ba3e6bbe7ab",
   "metadata": {},
   "outputs": [
    {
     "data": {
      "text/plain": [
       "SunJoy, KN95, Professional Protective Disposable Face Mask, 10 Pack            658\n",
       "Kitsch, 100% Cotton Reuseable Face Masks, Leopard, 3 Pack                      530\n",
       "Kosette, Nano Reusable Face Protection Mask, Medium, 1 Mask                    475\n",
       "Zidian, Disposable Protective Mask, 50 Pack                                    337\n",
       "Kosette, Nano Reusable Face Protection Mask, Large, 1 Mask                     304\n",
       "Kitsch, 100% Cotton Reusable Face Masks, Neutral, 3 Pack                       259\n",
       "La Hauteur, Disposable KF94 ( N95 / KN95/ FFP2 ) Mask, 1 Mask                  225\n",
       "HIGUARD, Disposable KF94 ( N95 / KN95/ FFP2 ) Mask, 1 Mask                     168\n",
       "Tony Moly, CTT KN95 Respirator Mask, 5 Count                                   145\n",
       "Kitsch, 100% Cotton Reuseable Face Masks, Blush, 3 Pack                        107\n",
       "Luseta Beauty, Disposable Protection Face Mask, 50 Pack                         90\n",
       "Now Foods, Face Mask, Grey, S-M, 1 Mask                                         68\n",
       "YJ Corporation, Disposable KF94 ( N95 / KN95/ FFP2 ) Mask, for Kids, 1 Mask     68\n",
       "Hwipure, Disposable KF94 ( N95 / KN95/ FFP2 ) Mask, 1 Mask                      63\n",
       "Puritas, 10 Days Mask, Large, 3 Pack                                            46\n",
       "Landsberg, 3 Ply Disposable Protective Face Mask, 50 Pack                       43\n",
       "Lozperi, Copper Mask, Adult, Black, 1 Mask                                      42\n",
       "Dr. Puri, Disposable KF94 ( N95 / KN95/ FFP2 ) Mask, 20 Masks                   40\n",
       "One Fine Day, Disposable KF94 ( N95 / KN95/ FFP2 ) Mask, 1 Mask                 25\n",
       "Hwipure, Disposable KF94 ( N95 / KN95/ FFP2 ) Mask,  25 Masks                   21\n",
       "Lozperi, Copper Mask, Adult, Gray, 1 Mask                                       20\n",
       "Lozperi, Copper Mask, Adult, Dot, 1 Count                                       12\n",
       "Lozperi, Copper Mask, Kids, Gray, 1 Count                                        8\n",
       "Lozperi, Copper Mask, Kids, Black, 1 Mask                                        7\n",
       "Kosette, Fashion Mask with Filter Pocket,  3 Masks                               2\n",
       "Kosette, PM 2.5 Replaceable Filter, 24 Filters                                   2\n",
       "Name: product_name, dtype: int64"
      ]
     },
     "execution_count": 145,
     "metadata": {},
     "output_type": "execute_result"
    }
   ],
   "source": [
    "df['product_name'].value_counts()"
   ]
  },
  {
   "cell_type": "code",
   "execution_count": 146,
   "id": "a30f14c7-08cd-477a-aeea-c49c755f6d34",
   "metadata": {},
   "outputs": [
    {
     "data": {
      "text/plain": [
       "SunJoy, KN95, Professional Protective Disposable Face Mask, 10 Pack    27\n",
       "Kitsch, 100% Cotton Reuseable Face Masks, Leopard, 3 Pack              22\n",
       "Kosette, Nano Reusable Face Protection Mask, Large, 1 Mask             12\n",
       "Zidian, Disposable Protective Mask, 50 Pack                            11\n",
       "Kosette, Nano Reusable Face Protection Mask, Medium, 1 Mask            10\n",
       "Kitsch, 100% Cotton Reusable Face Masks, Neutral, 3 Pack               10\n",
       "Tony Moly, CTT KN95 Respirator Mask, 5 Count                            9\n",
       "HIGUARD, Disposable KF94 ( N95 / KN95/ FFP2 ) Mask, 1 Mask              7\n",
       "La Hauteur, Disposable KF94 ( N95 / KN95/ FFP2 ) Mask, 1 Mask           6\n",
       "Kitsch, 100% Cotton Reuseable Face Masks, Blush, 3 Pack                 4\n",
       "Now Foods, Face Mask, Grey, S-M, 1 Mask                                 4\n",
       "Landsberg, 3 Ply Disposable Protective Face Mask, 50 Pack               4\n",
       "One Fine Day, Disposable KF94 ( N95 / KN95/ FFP2 ) Mask, 1 Mask         1\n",
       "Dr. Puri, Disposable KF94 ( N95 / KN95/ FFP2 ) Mask, 20 Masks           1\n",
       "Luseta Beauty, Disposable Protection Face Mask, 50 Pack                 1\n",
       "Name: product_name, dtype: int64"
      ]
     },
     "execution_count": 146,
     "metadata": {},
     "output_type": "execute_result"
    }
   ],
   "source": [
    "xdf['product_name'].value_counts()"
   ]
  },
  {
   "cell_type": "code",
   "execution_count": 9,
   "id": "1cab4cdb-eb06-4ecc-baea-e2950e4e7ce0",
   "metadata": {},
   "outputs": [
    {
     "data": {
      "text/plain": [
       "'The mask quality and the color is good. It fits to my face fine. '"
      ]
     },
     "execution_count": 9,
     "metadata": {},
     "output_type": "execute_result"
    }
   ],
   "source": [
    "df['reviewText'].iloc[0]"
   ]
  },
  {
   "cell_type": "code",
   "execution_count": 10,
   "id": "dea4c43a-3be5-4f79-af74-c50c9f497673",
   "metadata": {},
   "outputs": [],
   "source": [
    "from sklearn.feature_extraction.text import CountVectorizer"
   ]
  },
  {
   "cell_type": "code",
   "execution_count": 19,
   "id": "fc1f4518-e5cb-4320-9d95-9dcc896902b8",
   "metadata": {},
   "outputs": [],
   "source": [
    "from sklearn.decomposition import LatentDirichletAllocation"
   ]
  },
  {
   "cell_type": "code",
   "execution_count": 12,
   "id": "998aadf7-5252-46e5-bff6-a119719d78ce",
   "metadata": {},
   "outputs": [],
   "source": [
    "cv = CountVectorizer(stop_words='english')"
   ]
  },
  {
   "cell_type": "code",
   "execution_count": 16,
   "id": "c4bf6a4f-bdb5-4dbb-bd6a-36392dfb87f1",
   "metadata": {},
   "outputs": [],
   "source": [
    "E_reviews = df[df['languageCode'] == 'en-US']\n",
    "X = cv.fit_transform(E_reviews['reviewText'].tolist())"
   ]
  },
  {
   "cell_type": "code",
   "execution_count": 17,
   "id": "ad64bf44-7ace-4ecd-8348-d437084481b6",
   "metadata": {},
   "outputs": [
    {
     "data": {
      "text/plain": [
       "<1807x2522 sparse matrix of type '<class 'numpy.int64'>'\n",
       "\twith 14106 stored elements in Compressed Sparse Row format>"
      ]
     },
     "execution_count": 17,
     "metadata": {},
     "output_type": "execute_result"
    }
   ],
   "source": [
    "X"
   ]
  },
  {
   "cell_type": "code",
   "execution_count": 21,
   "id": "704238fb-82fa-46ac-9691-7b93b3ba244c",
   "metadata": {},
   "outputs": [],
   "source": [
    "lda = LatentDirichletAllocation(\n",
    "    n_components=10,\n",
    "    max_iter=5,\n",
    "    learning_method=\"online\",\n",
    "    learning_offset=50.0,\n",
    "    random_state=0,\n",
    ")\n",
    "x_red = lda.fit_transform(X)"
   ]
  },
  {
   "cell_type": "code",
   "execution_count": 22,
   "id": "4e644b1a-3c91-4a85-882b-41bfd9614440",
   "metadata": {},
   "outputs": [
    {
     "data": {
      "text/plain": [
       "(1807, 10)"
      ]
     },
     "execution_count": 22,
     "metadata": {},
     "output_type": "execute_result"
    }
   ],
   "source": [
    "x_red.shape"
   ]
  },
  {
   "cell_type": "code",
   "execution_count": 25,
   "id": "b676e020-3f47-4e23-bcf1-af8e5280f986",
   "metadata": {},
   "outputs": [
    {
     "data": {
      "text/plain": [
       "array([0.01250003, 0.01250006, 0.01250019, 0.01250001, 0.88749402,\n",
       "       0.0125    , 0.01250031, 0.01250001, 0.01250537, 0.0125    ])"
      ]
     },
     "execution_count": 25,
     "metadata": {},
     "output_type": "execute_result"
    }
   ],
   "source": [
    "x_red[0]"
   ]
  },
  {
   "cell_type": "code",
   "execution_count": 32,
   "id": "ddd9066f-d571-4b14-a10f-35e88ac509f8",
   "metadata": {},
   "outputs": [
    {
     "data": {
      "image/png": "[encoded data removed]",
      "text/plain": [
       "<Figure size 1500x800 with 20 Axes>"
      ]
     },
     "metadata": {},
     "output_type": "display_data"
    }
   ],
   "source": [
    "lda = LatentDirichletAllocation(\n",
    "    n_components=20,\n",
    "    max_iter=5,\n",
    "    learning_method=\"online\",\n",
    "    learning_offset=50.0,\n",
    "    random_state=0,\n",
    ")\n",
    "x_red = lda.fit_transform(X)\n",
    "\n",
    "def plot_top_words(model, feature_names, n_top_words, title):\n",
    "    fig, axes = plt.subplots(4, 5, figsize=(15, 8), sharex=True)\n",
    "    axes = axes.flatten()\n",
    "    for topic_idx, topic in enumerate(model.components_):\n",
    "        top_features_ind = topic.argsort()[: -n_top_words - 1 : -1]\n",
    "        top_features = [feature_names[i] for i in top_features_ind]\n",
    "        weights = topic[top_features_ind]\n",
    "\n",
    "        ax = axes[topic_idx]\n",
    "        ax.barh(top_features, weights, height=0.7)\n",
    "        ax.set_title(f\"Topic {topic_idx +1}\", fontdict={\"fontsize\": 15})\n",
    "        ax.invert_yaxis()\n",
    "        ax.tick_params(axis=\"both\", which=\"major\", labelsize=10)\n",
    "        for i in \"top right left\".split():\n",
    "            ax.spines[i].set_visible(False)\n",
    "        fig.suptitle(title, fontsize=20)\n",
    "\n",
    "    plt.subplots_adjust(top=0.90, bottom=0.05, wspace=0.90, hspace=0.3)\n",
    "\n",
    "\n",
    "tf_feature_names = cv.get_feature_names()\n",
    "plot_top_words(lda, tf_feature_names, 5, \"Topics in LDA model\")"
   ]
  },
  {
   "cell_type": "code",
   "execution_count": null,
   "id": "1859623a-6786-4a97-8206-96586b9e3f51",
   "metadata": {},
   "outputs": [],
   "source": [
    "cv.get"
   ]
  }
 ],
 "metadata": {
  "kernelspec": {
   "display_name": "Python 3 (ipykernel)",
   "language": "python",
   "name": "python3"
  },
  "language_info": {
   "codemirror_mode": {
    "name": "ipython",
    "version": 3
   },
   "file_extension": ".py",
   "mimetype": "text/x-python",
   "name": "python",
   "nbconvert_exporter": "python",
   "pygments_lexer": "ipython3",
   "version": "3.9.12"
  }
 },
 "nbformat": 4,
 "nbformat_minor": 5
}
