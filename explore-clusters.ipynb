{
 "cells": [
  {
   "cell_type": "code",
   "execution_count": 1,
   "id": "3e3a2bc0-b37c-4c95-bfc2-b8591e7a47aa",
   "metadata": {},
   "outputs": [],
   "source": [
    "import pandas as pd\n",
    "df = pd.read_table('data/clustered.tsv', index_col=['id'])\n",
    "df['answerCount'] = df.pop('profileInfo.ugcSummary.answerCount')\n",
    "df['reviewCount'] = df.pop('profileInfo.ugcSummary.reviewCount')"
   ]
  },
  {
   "cell_type": "code",
   "execution_count": 2,
   "id": "8f2c0b21-7ff0-40c5-8b47-63cf27529be6",
   "metadata": {},
   "outputs": [
    {
     "data": {
      "text/html": [
       "<div>\n",
       "<style scoped>\n",
       "    .dataframe tbody tr th:only-of-type {\n",
       "        vertical-align: middle;\n",
       "    }\n",
       "\n",
       "    .dataframe tbody tr th {\n",
       "        vertical-align: top;\n",
       "    }\n",
       "\n",
       "    .dataframe thead th {\n",
       "        text-align: right;\n",
       "    }\n",
       "</style>\n",
       "<table border=\"1\" class=\"dataframe\">\n",
       "  <thead>\n",
       "    <tr style=\"text-align: right;\">\n",
       "      <th></th>\n",
       "      <th>languageCode</th>\n",
       "      <th>postedDate</th>\n",
       "      <th>productId</th>\n",
       "      <th>ratingValue</th>\n",
       "      <th>reviewText</th>\n",
       "      <th>reviewTitle</th>\n",
       "      <th>reviewed</th>\n",
       "      <th>score</th>\n",
       "      <th>languageCode.1</th>\n",
       "      <th>translation.reviewText</th>\n",
       "      <th>...</th>\n",
       "      <th>product_name</th>\n",
       "      <th>material</th>\n",
       "      <th>n_masks</th>\n",
       "      <th>brand</th>\n",
       "      <th>product_price</th>\n",
       "      <th>dayofweek</th>\n",
       "      <th>hour</th>\n",
       "      <th>label_id</th>\n",
       "      <th>answerCount</th>\n",
       "      <th>reviewCount</th>\n",
       "    </tr>\n",
       "    <tr>\n",
       "      <th>id</th>\n",
       "      <th></th>\n",
       "      <th></th>\n",
       "      <th></th>\n",
       "      <th></th>\n",
       "      <th></th>\n",
       "      <th></th>\n",
       "      <th></th>\n",
       "      <th></th>\n",
       "      <th></th>\n",
       "      <th></th>\n",
       "      <th></th>\n",
       "      <th></th>\n",
       "      <th></th>\n",
       "      <th></th>\n",
       "      <th></th>\n",
       "      <th></th>\n",
       "      <th></th>\n",
       "      <th></th>\n",
       "      <th></th>\n",
       "      <th></th>\n",
       "      <th></th>\n",
       "    </tr>\n",
       "  </thead>\n",
       "  <tbody>\n",
       "    <tr>\n",
       "      <th>05c2b17e-c28d-4792-930d-27e787d8d4ad</th>\n",
       "      <td>en-US</td>\n",
       "      <td>2021-01-27 09:04:10.569000+00:00</td>\n",
       "      <td>103839</td>\n",
       "      <td>50</td>\n",
       "      <td>The mask quality and the color is good. It fit...</td>\n",
       "      <td>Dotted Pattern Is Nice</td>\n",
       "      <td>True</td>\n",
       "      <td>1.614071e+09</td>\n",
       "      <td>en-US</td>\n",
       "      <td>NaN</td>\n",
       "      <td>...</td>\n",
       "      <td>Lozperi, Copper Mask, Adult, Dot, 1 Count</td>\n",
       "      <td>copper</td>\n",
       "      <td>1</td>\n",
       "      <td>Lozperi</td>\n",
       "      <td>6.85</td>\n",
       "      <td>2</td>\n",
       "      <td>9</td>\n",
       "      <td>4.0</td>\n",
       "      <td>0.0</td>\n",
       "      <td>34.0</td>\n",
       "    </tr>\n",
       "    <tr>\n",
       "      <th>80e44af8-2edf-4b81-a80a-7e7888d03cc0</th>\n",
       "      <td>ru-RU</td>\n",
       "      <td>2021-02-07 00:56:39.055000+00:00</td>\n",
       "      <td>103839</td>\n",
       "      <td>50</td>\n",
       "      <td>Внуку очень понравилось. Удобная маска.</td>\n",
       "      <td>Прекрасно!</td>\n",
       "      <td>False</td>\n",
       "      <td>1.612659e+09</td>\n",
       "      <td>ru-RU</td>\n",
       "      <td>The grandson really liked it. Comfortable mask.</td>\n",
       "      <td>...</td>\n",
       "      <td>Lozperi, Copper Mask, Adult, Dot, 1 Count</td>\n",
       "      <td>copper</td>\n",
       "      <td>1</td>\n",
       "      <td>Lozperi</td>\n",
       "      <td>6.85</td>\n",
       "      <td>6</td>\n",
       "      <td>0</td>\n",
       "      <td>8.0</td>\n",
       "      <td>0.0</td>\n",
       "      <td>37.0</td>\n",
       "    </tr>\n",
       "    <tr>\n",
       "      <th>9a76e047-21e4-4da3-8b50-9d2396519b6b</th>\n",
       "      <td>en-US</td>\n",
       "      <td>2021-02-06 21:40:02.886000+00:00</td>\n",
       "      <td>103839</td>\n",
       "      <td>40</td>\n",
       "      <td>Easy to put on &amp; comfortable to wear.</td>\n",
       "      <td>Good</td>\n",
       "      <td>False</td>\n",
       "      <td>1.612648e+09</td>\n",
       "      <td>en-US</td>\n",
       "      <td>NaN</td>\n",
       "      <td>...</td>\n",
       "      <td>Lozperi, Copper Mask, Adult, Dot, 1 Count</td>\n",
       "      <td>copper</td>\n",
       "      <td>1</td>\n",
       "      <td>Lozperi</td>\n",
       "      <td>6.85</td>\n",
       "      <td>5</td>\n",
       "      <td>21</td>\n",
       "      <td>6.0</td>\n",
       "      <td>0.0</td>\n",
       "      <td>3.0</td>\n",
       "    </tr>\n",
       "    <tr>\n",
       "      <th>2890ac54-8707-418e-be3e-8d46231e3672</th>\n",
       "      <td>ru-RU</td>\n",
       "      <td>2021-02-05 16:29:28.906000+00:00</td>\n",
       "      <td>103839</td>\n",
       "      <td>40</td>\n",
       "      <td>Тонкая, приятная к телу маска. Расцветка тоже ...</td>\n",
       "      <td>Хорошо</td>\n",
       "      <td>False</td>\n",
       "      <td>1.612543e+09</td>\n",
       "      <td>ru-RU</td>\n",
       "      <td>A thin mask that is pleasant to the body. I li...</td>\n",
       "      <td>...</td>\n",
       "      <td>Lozperi, Copper Mask, Adult, Dot, 1 Count</td>\n",
       "      <td>copper</td>\n",
       "      <td>1</td>\n",
       "      <td>Lozperi</td>\n",
       "      <td>6.85</td>\n",
       "      <td>4</td>\n",
       "      <td>16</td>\n",
       "      <td>1.0</td>\n",
       "      <td>0.0</td>\n",
       "      <td>16.0</td>\n",
       "    </tr>\n",
       "    <tr>\n",
       "      <th>9db33354-0457-4efa-bc9c-b5f7ee0eff31</th>\n",
       "      <td>ru-RU</td>\n",
       "      <td>2021-02-05 09:43:42.367000+00:00</td>\n",
       "      <td>103839</td>\n",
       "      <td>50</td>\n",
       "      <td>Отличная маска! Мне подошла идеально. Слегка е...</td>\n",
       "      <td>Прекрасно!</td>\n",
       "      <td>False</td>\n",
       "      <td>1.612518e+09</td>\n",
       "      <td>ru-RU</td>\n",
       "      <td>Great mask! It suited me perfectly. There is a...</td>\n",
       "      <td>...</td>\n",
       "      <td>Lozperi, Copper Mask, Adult, Dot, 1 Count</td>\n",
       "      <td>copper</td>\n",
       "      <td>1</td>\n",
       "      <td>Lozperi</td>\n",
       "      <td>6.85</td>\n",
       "      <td>4</td>\n",
       "      <td>9</td>\n",
       "      <td>2.0</td>\n",
       "      <td>0.0</td>\n",
       "      <td>19.0</td>\n",
       "    </tr>\n",
       "  </tbody>\n",
       "</table>\n",
       "<p>5 rows × 21 columns</p>\n",
       "</div>"
      ],
      "text/plain": [
       "                                     languageCode  \\\n",
       "id                                                  \n",
       "05c2b17e-c28d-4792-930d-27e787d8d4ad        en-US   \n",
       "80e44af8-2edf-4b81-a80a-7e7888d03cc0        ru-RU   \n",
       "9a76e047-21e4-4da3-8b50-9d2396519b6b        en-US   \n",
       "2890ac54-8707-418e-be3e-8d46231e3672        ru-RU   \n",
       "9db33354-0457-4efa-bc9c-b5f7ee0eff31        ru-RU   \n",
       "\n",
       "                                                            postedDate  \\\n",
       "id                                                                       \n",
       "05c2b17e-c28d-4792-930d-27e787d8d4ad  2021-01-27 09:04:10.569000+00:00   \n",
       "80e44af8-2edf-4b81-a80a-7e7888d03cc0  2021-02-07 00:56:39.055000+00:00   \n",
       "9a76e047-21e4-4da3-8b50-9d2396519b6b  2021-02-06 21:40:02.886000+00:00   \n",
       "2890ac54-8707-418e-be3e-8d46231e3672  2021-02-05 16:29:28.906000+00:00   \n",
       "9db33354-0457-4efa-bc9c-b5f7ee0eff31  2021-02-05 09:43:42.367000+00:00   \n",
       "\n",
       "                                      productId  ratingValue  \\\n",
       "id                                                             \n",
       "05c2b17e-c28d-4792-930d-27e787d8d4ad     103839           50   \n",
       "80e44af8-2edf-4b81-a80a-7e7888d03cc0     103839           50   \n",
       "9a76e047-21e4-4da3-8b50-9d2396519b6b     103839           40   \n",
       "2890ac54-8707-418e-be3e-8d46231e3672     103839           40   \n",
       "9db33354-0457-4efa-bc9c-b5f7ee0eff31     103839           50   \n",
       "\n",
       "                                                                             reviewText  \\\n",
       "id                                                                                        \n",
       "05c2b17e-c28d-4792-930d-27e787d8d4ad  The mask quality and the color is good. It fit...   \n",
       "80e44af8-2edf-4b81-a80a-7e7888d03cc0            Внуку очень понравилось. Удобная маска.   \n",
       "9a76e047-21e4-4da3-8b50-9d2396519b6b              Easy to put on & comfortable to wear.   \n",
       "2890ac54-8707-418e-be3e-8d46231e3672  Тонкая, приятная к телу маска. Расцветка тоже ...   \n",
       "9db33354-0457-4efa-bc9c-b5f7ee0eff31  Отличная маска! Мне подошла идеально. Слегка е...   \n",
       "\n",
       "                                                 reviewTitle  reviewed  \\\n",
       "id                                                                       \n",
       "05c2b17e-c28d-4792-930d-27e787d8d4ad  Dotted Pattern Is Nice      True   \n",
       "80e44af8-2edf-4b81-a80a-7e7888d03cc0              Прекрасно!     False   \n",
       "9a76e047-21e4-4da3-8b50-9d2396519b6b                    Good     False   \n",
       "2890ac54-8707-418e-be3e-8d46231e3672                  Хорошо     False   \n",
       "9db33354-0457-4efa-bc9c-b5f7ee0eff31              Прекрасно!     False   \n",
       "\n",
       "                                             score languageCode.1  \\\n",
       "id                                                                  \n",
       "05c2b17e-c28d-4792-930d-27e787d8d4ad  1.614071e+09          en-US   \n",
       "80e44af8-2edf-4b81-a80a-7e7888d03cc0  1.612659e+09          ru-RU   \n",
       "9a76e047-21e4-4da3-8b50-9d2396519b6b  1.612648e+09          en-US   \n",
       "2890ac54-8707-418e-be3e-8d46231e3672  1.612543e+09          ru-RU   \n",
       "9db33354-0457-4efa-bc9c-b5f7ee0eff31  1.612518e+09          ru-RU   \n",
       "\n",
       "                                                                 translation.reviewText  \\\n",
       "id                                                                                        \n",
       "05c2b17e-c28d-4792-930d-27e787d8d4ad                                                NaN   \n",
       "80e44af8-2edf-4b81-a80a-7e7888d03cc0    The grandson really liked it. Comfortable mask.   \n",
       "9a76e047-21e4-4da3-8b50-9d2396519b6b                                                NaN   \n",
       "2890ac54-8707-418e-be3e-8d46231e3672  A thin mask that is pleasant to the body. I li...   \n",
       "9db33354-0457-4efa-bc9c-b5f7ee0eff31  Great mask! It suited me perfectly. There is a...   \n",
       "\n",
       "                                      ...  \\\n",
       "id                                    ...   \n",
       "05c2b17e-c28d-4792-930d-27e787d8d4ad  ...   \n",
       "80e44af8-2edf-4b81-a80a-7e7888d03cc0  ...   \n",
       "9a76e047-21e4-4da3-8b50-9d2396519b6b  ...   \n",
       "2890ac54-8707-418e-be3e-8d46231e3672  ...   \n",
       "9db33354-0457-4efa-bc9c-b5f7ee0eff31  ...   \n",
       "\n",
       "                                                                   product_name  \\\n",
       "id                                                                                \n",
       "05c2b17e-c28d-4792-930d-27e787d8d4ad  Lozperi, Copper Mask, Adult, Dot, 1 Count   \n",
       "80e44af8-2edf-4b81-a80a-7e7888d03cc0  Lozperi, Copper Mask, Adult, Dot, 1 Count   \n",
       "9a76e047-21e4-4da3-8b50-9d2396519b6b  Lozperi, Copper Mask, Adult, Dot, 1 Count   \n",
       "2890ac54-8707-418e-be3e-8d46231e3672  Lozperi, Copper Mask, Adult, Dot, 1 Count   \n",
       "9db33354-0457-4efa-bc9c-b5f7ee0eff31  Lozperi, Copper Mask, Adult, Dot, 1 Count   \n",
       "\n",
       "                                     material n_masks    brand product_price  \\\n",
       "id                                                                             \n",
       "05c2b17e-c28d-4792-930d-27e787d8d4ad   copper       1  Lozperi          6.85   \n",
       "80e44af8-2edf-4b81-a80a-7e7888d03cc0   copper       1  Lozperi          6.85   \n",
       "9a76e047-21e4-4da3-8b50-9d2396519b6b   copper       1  Lozperi          6.85   \n",
       "2890ac54-8707-418e-be3e-8d46231e3672   copper       1  Lozperi          6.85   \n",
       "9db33354-0457-4efa-bc9c-b5f7ee0eff31   copper       1  Lozperi          6.85   \n",
       "\n",
       "                                      dayofweek  hour  label_id  answerCount  \\\n",
       "id                                                                             \n",
       "05c2b17e-c28d-4792-930d-27e787d8d4ad          2     9       4.0          0.0   \n",
       "80e44af8-2edf-4b81-a80a-7e7888d03cc0          6     0       8.0          0.0   \n",
       "9a76e047-21e4-4da3-8b50-9d2396519b6b          5    21       6.0          0.0   \n",
       "2890ac54-8707-418e-be3e-8d46231e3672          4    16       1.0          0.0   \n",
       "9db33354-0457-4efa-bc9c-b5f7ee0eff31          4     9       2.0          0.0   \n",
       "\n",
       "                                      reviewCount  \n",
       "id                                                 \n",
       "05c2b17e-c28d-4792-930d-27e787d8d4ad         34.0  \n",
       "80e44af8-2edf-4b81-a80a-7e7888d03cc0         37.0  \n",
       "9a76e047-21e4-4da3-8b50-9d2396519b6b          3.0  \n",
       "2890ac54-8707-418e-be3e-8d46231e3672         16.0  \n",
       "9db33354-0457-4efa-bc9c-b5f7ee0eff31         19.0  \n",
       "\n",
       "[5 rows x 21 columns]"
      ]
     },
     "execution_count": 2,
     "metadata": {},
     "output_type": "execute_result"
    }
   ],
   "source": [
    "df[df.columns[5:]].head()"
   ]
  },
  {
   "cell_type": "code",
   "execution_count": 4,
   "id": "6d98a4e4-f50c-46df-94b6-4b833a20caea",
   "metadata": {},
   "outputs": [],
   "source": [
    "c_feats = ['label_id', 'languageCode', 'answerCount', 'reviewCount', 'dayofweek', 'hour']\n",
    "clusters = df[c_feats].copy()"
   ]
  },
  {
   "cell_type": "code",
   "execution_count": 5,
   "id": "3be958cd-d0b6-4c4e-9f68-ac81859d33f0",
   "metadata": {},
   "outputs": [
    {
     "data": {
      "text/plain": [
       "5.0     481\n",
       "1.0     437\n",
       "4.0     415\n",
       "2.0     409\n",
       "3.0     401\n",
       "6.0     383\n",
       "11.0    350\n",
       "0.0     314\n",
       "7.0     306\n",
       "8.0     249\n",
       "9.0      11\n",
       "10.0      3\n",
       "Name: label_id, dtype: int64"
      ]
     },
     "execution_count": 5,
     "metadata": {},
     "output_type": "execute_result"
    }
   ],
   "source": [
    "clusters['label_id'].value_counts()"
   ]
  },
  {
   "cell_type": "code",
   "execution_count": 6,
   "id": "e27a06e7-bd75-453c-9e0e-b6d73ece2362",
   "metadata": {},
   "outputs": [],
   "source": [
    "clusters.loc[~clusters['languageCode'].isin(['en-US', 'ru-RU']), 'languageCode'] = 'other'"
   ]
  },
  {
   "cell_type": "code",
   "execution_count": 7,
   "id": "82bb261f-4b22-4972-9c8c-11d412f73363",
   "metadata": {},
   "outputs": [
    {
     "name": "stdout",
     "output_type": "stream",
     "text": [
      "other    0.666667\n",
      "en-US    0.333333\n",
      "Name: languageCode, dtype: float64\n"
     ]
    },
    {
     "data": {
      "text/html": [
       "<div>\n",
       "<style scoped>\n",
       "    .dataframe tbody tr th:only-of-type {\n",
       "        vertical-align: middle;\n",
       "    }\n",
       "\n",
       "    .dataframe tbody tr th {\n",
       "        vertical-align: top;\n",
       "    }\n",
       "\n",
       "    .dataframe thead th {\n",
       "        text-align: right;\n",
       "    }\n",
       "</style>\n",
       "<table border=\"1\" class=\"dataframe\">\n",
       "  <thead>\n",
       "    <tr style=\"text-align: right;\">\n",
       "      <th></th>\n",
       "      <th>languageCode</th>\n",
       "      <th>answerCount</th>\n",
       "      <th>reviewCount</th>\n",
       "      <th>dayofweek</th>\n",
       "      <th>hour</th>\n",
       "    </tr>\n",
       "    <tr>\n",
       "      <th>id</th>\n",
       "      <th></th>\n",
       "      <th></th>\n",
       "      <th></th>\n",
       "      <th></th>\n",
       "      <th></th>\n",
       "    </tr>\n",
       "  </thead>\n",
       "  <tbody>\n",
       "    <tr>\n",
       "      <th>3e9267e7-01c0-45f2-8621-0253d4dbbbcd</th>\n",
       "      <td>other</td>\n",
       "      <td>0.0</td>\n",
       "      <td>8087.0</td>\n",
       "      <td>5</td>\n",
       "      <td>17</td>\n",
       "    </tr>\n",
       "    <tr>\n",
       "      <th>7b25a873-8f4c-41c9-9d87-a722785dc80c</th>\n",
       "      <td>other</td>\n",
       "      <td>0.0</td>\n",
       "      <td>8087.0</td>\n",
       "      <td>5</td>\n",
       "      <td>17</td>\n",
       "    </tr>\n",
       "    <tr>\n",
       "      <th>a83fffe2-e22e-4625-b440-699ae0b41d4f</th>\n",
       "      <td>en-US</td>\n",
       "      <td>0.0</td>\n",
       "      <td>8087.0</td>\n",
       "      <td>6</td>\n",
       "      <td>13</td>\n",
       "    </tr>\n",
       "  </tbody>\n",
       "</table>\n",
       "</div>"
      ],
      "text/plain": [
       "                                     languageCode  answerCount  reviewCount  \\\n",
       "id                                                                            \n",
       "3e9267e7-01c0-45f2-8621-0253d4dbbbcd        other          0.0       8087.0   \n",
       "7b25a873-8f4c-41c9-9d87-a722785dc80c        other          0.0       8087.0   \n",
       "a83fffe2-e22e-4625-b440-699ae0b41d4f        en-US          0.0       8087.0   \n",
       "\n",
       "                                      dayofweek  hour  \n",
       "id                                                     \n",
       "3e9267e7-01c0-45f2-8621-0253d4dbbbcd          5    17  \n",
       "7b25a873-8f4c-41c9-9d87-a722785dc80c          5    17  \n",
       "a83fffe2-e22e-4625-b440-699ae0b41d4f          6    13  "
      ]
     },
     "execution_count": 7,
     "metadata": {},
     "output_type": "execute_result"
    }
   ],
   "source": [
    "k = clusters[clusters['label_id'] == 10]\n",
    "print(k['languageCode'].value_counts(normalize=True))\n",
    "k.drop(['label_id'], axis=1)"
   ]
  },
  {
   "cell_type": "code",
   "execution_count": 8,
   "id": "f8d08b3b-e073-4017-bce4-c9724fb59e14",
   "metadata": {},
   "outputs": [
    {
     "data": {
      "text/html": [
       "<div>\n",
       "<style scoped>\n",
       "    .dataframe tbody tr th:only-of-type {\n",
       "        vertical-align: middle;\n",
       "    }\n",
       "\n",
       "    .dataframe tbody tr th {\n",
       "        vertical-align: top;\n",
       "    }\n",
       "\n",
       "    .dataframe thead th {\n",
       "        text-align: right;\n",
       "    }\n",
       "</style>\n",
       "<table border=\"1\" class=\"dataframe\">\n",
       "  <thead>\n",
       "    <tr style=\"text-align: right;\">\n",
       "      <th></th>\n",
       "      <th>answerCount</th>\n",
       "      <th>reviewCount</th>\n",
       "    </tr>\n",
       "    <tr>\n",
       "      <th>label_id</th>\n",
       "      <th></th>\n",
       "      <th></th>\n",
       "    </tr>\n",
       "  </thead>\n",
       "  <tbody>\n",
       "    <tr>\n",
       "      <th>0.0</th>\n",
       "      <td>1.643312</td>\n",
       "      <td>49.585987</td>\n",
       "    </tr>\n",
       "    <tr>\n",
       "      <th>1.0</th>\n",
       "      <td>2.356979</td>\n",
       "      <td>81.322654</td>\n",
       "    </tr>\n",
       "    <tr>\n",
       "      <th>2.0</th>\n",
       "      <td>3.420538</td>\n",
       "      <td>86.696822</td>\n",
       "    </tr>\n",
       "    <tr>\n",
       "      <th>3.0</th>\n",
       "      <td>1.536160</td>\n",
       "      <td>71.531172</td>\n",
       "    </tr>\n",
       "    <tr>\n",
       "      <th>4.0</th>\n",
       "      <td>2.906024</td>\n",
       "      <td>83.385542</td>\n",
       "    </tr>\n",
       "    <tr>\n",
       "      <th>5.0</th>\n",
       "      <td>2.147609</td>\n",
       "      <td>65.742204</td>\n",
       "    </tr>\n",
       "    <tr>\n",
       "      <th>6.0</th>\n",
       "      <td>3.143603</td>\n",
       "      <td>64.853786</td>\n",
       "    </tr>\n",
       "    <tr>\n",
       "      <th>7.0</th>\n",
       "      <td>1.663399</td>\n",
       "      <td>89.173203</td>\n",
       "    </tr>\n",
       "    <tr>\n",
       "      <th>8.0</th>\n",
       "      <td>2.248996</td>\n",
       "      <td>42.433735</td>\n",
       "    </tr>\n",
       "    <tr>\n",
       "      <th>9.0</th>\n",
       "      <td>428.454545</td>\n",
       "      <td>164.454545</td>\n",
       "    </tr>\n",
       "    <tr>\n",
       "      <th>10.0</th>\n",
       "      <td>0.000000</td>\n",
       "      <td>8087.000000</td>\n",
       "    </tr>\n",
       "    <tr>\n",
       "      <th>11.0</th>\n",
       "      <td>2.451429</td>\n",
       "      <td>90.674286</td>\n",
       "    </tr>\n",
       "  </tbody>\n",
       "</table>\n",
       "</div>"
      ],
      "text/plain": [
       "          answerCount  reviewCount\n",
       "label_id                          \n",
       "0.0          1.643312    49.585987\n",
       "1.0          2.356979    81.322654\n",
       "2.0          3.420538    86.696822\n",
       "3.0          1.536160    71.531172\n",
       "4.0          2.906024    83.385542\n",
       "5.0          2.147609    65.742204\n",
       "6.0          3.143603    64.853786\n",
       "7.0          1.663399    89.173203\n",
       "8.0          2.248996    42.433735\n",
       "9.0        428.454545   164.454545\n",
       "10.0         0.000000  8087.000000\n",
       "11.0         2.451429    90.674286"
      ]
     },
     "execution_count": 8,
     "metadata": {},
     "output_type": "execute_result"
    }
   ],
   "source": [
    "clusters.groupby('label_id')[['answerCount', 'reviewCount']].mean()"
   ]
  },
  {
   "cell_type": "code",
   "execution_count": 9,
   "id": "ac40d2d2-79e5-43af-b538-42e2fe77e836",
   "metadata": {},
   "outputs": [],
   "source": [
    "import seaborn as sns"
   ]
  },
  {
   "cell_type": "code",
   "execution_count": 10,
   "id": "43ccc217-edd3-4a4f-b2d2-b445556479df",
   "metadata": {},
   "outputs": [
    {
     "data": {
      "text/plain": [
       "id\n",
       "05c2b17e-c28d-4792-930d-27e787d8d4ad    4\n",
       "80e44af8-2edf-4b81-a80a-7e7888d03cc0    8\n",
       "9a76e047-21e4-4da3-8b50-9d2396519b6b    6\n",
       "2890ac54-8707-418e-be3e-8d46231e3672    1\n",
       "9db33354-0457-4efa-bc9c-b5f7ee0eff31    2\n",
       "                                       ..\n",
       "03b4c0ee-232c-413c-a793-36678b07fdc0    5\n",
       "b5f22161-4b73-4d6b-bf19-badde1682c8d    1\n",
       "fafdce53-c97c-4e01-9586-50895692468f    5\n",
       "de0471a2-9c82-429d-98d9-92ff3d5943f6    8\n",
       "66cb3271-f7a2-4b04-9874-b97a6393c7b6    5\n",
       "Name: label_id, Length: 3759, dtype: int64"
      ]
     },
     "execution_count": 10,
     "metadata": {},
     "output_type": "execute_result"
    }
   ],
   "source": [
    "df['label_id'].dropna().astype(int)"
   ]
  },
  {
   "cell_type": "code",
   "execution_count": 11,
   "id": "518226ca-f522-4574-830f-c274bdd9d9e0",
   "metadata": {},
   "outputs": [],
   "source": [
    "import matplotlib.pyplot as plt"
   ]
  },
  {
   "cell_type": "code",
   "execution_count": 27,
   "id": "75483fa3-cb6c-4ded-9831-5449467f1b56",
   "metadata": {},
   "outputs": [
    {
     "data": {
      "text/plain": [
       "Text(120.72222222222221, 0.5, 'Product Ratings')"
      ]
     },
     "execution_count": 27,
     "metadata": {},
     "output_type": "execute_result"
    },
    {
     "data": {
      "image/png": "[encoded data removed]",
      "text/plain": [
       "<Figure size 1200x800 with 1 Axes>"
      ]
     },
     "metadata": {},
     "output_type": "display_data"
    }
   ],
   "source": [
    "x = df[df['label_id'] != 10]\n",
    "ct = pd.crosstab(index=x['ratingValue'], columns=x['label_id'].dropna().astype(int))\n",
    "fig, ax = plt.subplots(figsize=(12, 8))\n",
    "ax = sns.heatmap(ct.iloc[::-1], square=True, annot=True, fmt='d', cmap=plt.cm.Blues, cbar=False)\n",
    "ax.set_xlabel('User Clusters')\n",
    "ax.set_ylabel('Product Ratings')"
   ]
  },
  {
   "cell_type": "code",
   "execution_count": 26,
   "id": "94e773b3-e041-4c1e-b27a-3d073a232489",
   "metadata": {},
   "outputs": [
    {
     "data": {
      "text/plain": [
       "<AxesSubplot:xlabel='label_id'>"
      ]
     },
     "execution_count": 26,
     "metadata": {},
     "output_type": "execute_result"
    },
    {
     "data": {
      "image/png": "[encoded data removed]",
      "text/plain": [
       "<Figure size 640x480 with 1 Axes>"
      ]
     },
     "metadata": {},
     "output_type": "display_data"
    }
   ],
   "source": [
    "x.groupby('label_id')['ratingValue'].mean().sort_values().plot(kind='bar')"
   ]
  },
  {
   "cell_type": "code",
   "execution_count": 21,
   "id": "a0ebf7c9-1473-45f3-aa71-d1a7ff6a6c18",
   "metadata": {},
   "outputs": [
    {
     "data": {
      "text/plain": [
       "Text(373.97222222222223, 0.5, 'Brands')"
      ]
     },
     "execution_count": 21,
     "metadata": {},
     "output_type": "execute_result"
    },
    {
     "data": {
      "image/png": "[encoded data removed]",
      "text/plain": [
       "<Figure size 1200x800 with 1 Axes>"
      ]
     },
     "metadata": {},
     "output_type": "display_data"
    }
   ],
   "source": [
    "ct = pd.crosstab(index=x['brand'], columns=x['label_id'].dropna().astype(int))\n",
    "fig, ax = plt.subplots(figsize=(12, 8))\n",
    "ax = sns.heatmap(ct, square=True, annot=True, fmt='d', cmap=plt.cm.Blues, cbar=False)\n",
    "ax.set_xlabel('User Clusters')\n",
    "ax.set_ylabel('Brands')"
   ]
  },
  {
   "cell_type": "code",
   "execution_count": 28,
   "id": "a387c0cb-2840-4c96-9803-a2d715265804",
   "metadata": {},
   "outputs": [
    {
     "data": {
      "text/plain": [
       "label_id\n",
       "0.0     16\n",
       "1.0     16\n",
       "2.0     16\n",
       "3.0     16\n",
       "4.0     16\n",
       "5.0     16\n",
       "6.0     16\n",
       "7.0     15\n",
       "8.0     16\n",
       "9.0      7\n",
       "11.0    16\n",
       "Name: brand, dtype: int64"
      ]
     },
     "execution_count": 28,
     "metadata": {},
     "output_type": "execute_result"
    }
   ],
   "source": [
    "x.groupby('label_id')['brand'].nunique()"
   ]
  },
  {
   "cell_type": "code",
   "execution_count": 38,
   "id": "8a9fff2c-fd52-4b89-b441-55028385c25c",
   "metadata": {},
   "outputs": [],
   "source": [
    "XX = x.groupby('label_id')[['reviewCount', 'answerCount']].mean().reset_index()"
   ]
  },
  {
   "cell_type": "code",
   "execution_count": null,
   "id": "53f368b1-848b-465c-838f-2896bdd84b7a",
   "metadata": {},
   "outputs": [],
   "source": []
  },
  {
   "cell_type": "code",
   "execution_count": 40,
   "id": "d736818a-108b-4a08-b714-dbc2de9ab833",
   "metadata": {},
   "outputs": [
    {
     "data": {
      "text/html": [
       "<div>\n",
       "<style scoped>\n",
       "    .dataframe tbody tr th:only-of-type {\n",
       "        vertical-align: middle;\n",
       "    }\n",
       "\n",
       "    .dataframe tbody tr th {\n",
       "        vertical-align: top;\n",
       "    }\n",
       "\n",
       "    .dataframe thead th {\n",
       "        text-align: right;\n",
       "    }\n",
       "</style>\n",
       "<table border=\"1\" class=\"dataframe\">\n",
       "  <thead>\n",
       "    <tr style=\"text-align: right;\">\n",
       "      <th></th>\n",
       "      <th>label_id</th>\n",
       "      <th>reviewCount</th>\n",
       "      <th>answerCount</th>\n",
       "    </tr>\n",
       "  </thead>\n",
       "  <tbody>\n",
       "    <tr>\n",
       "      <th>0</th>\n",
       "      <td>0.0</td>\n",
       "      <td>49.585987</td>\n",
       "      <td>1.643312</td>\n",
       "    </tr>\n",
       "    <tr>\n",
       "      <th>1</th>\n",
       "      <td>1.0</td>\n",
       "      <td>81.322654</td>\n",
       "      <td>2.356979</td>\n",
       "    </tr>\n",
       "    <tr>\n",
       "      <th>2</th>\n",
       "      <td>2.0</td>\n",
       "      <td>86.696822</td>\n",
       "      <td>3.420538</td>\n",
       "    </tr>\n",
       "    <tr>\n",
       "      <th>3</th>\n",
       "      <td>3.0</td>\n",
       "      <td>71.531172</td>\n",
       "      <td>1.536160</td>\n",
       "    </tr>\n",
       "    <tr>\n",
       "      <th>4</th>\n",
       "      <td>4.0</td>\n",
       "      <td>83.385542</td>\n",
       "      <td>2.906024</td>\n",
       "    </tr>\n",
       "    <tr>\n",
       "      <th>5</th>\n",
       "      <td>5.0</td>\n",
       "      <td>65.742204</td>\n",
       "      <td>2.147609</td>\n",
       "    </tr>\n",
       "    <tr>\n",
       "      <th>6</th>\n",
       "      <td>6.0</td>\n",
       "      <td>64.853786</td>\n",
       "      <td>3.143603</td>\n",
       "    </tr>\n",
       "    <tr>\n",
       "      <th>7</th>\n",
       "      <td>7.0</td>\n",
       "      <td>89.173203</td>\n",
       "      <td>1.663399</td>\n",
       "    </tr>\n",
       "    <tr>\n",
       "      <th>8</th>\n",
       "      <td>8.0</td>\n",
       "      <td>42.433735</td>\n",
       "      <td>2.248996</td>\n",
       "    </tr>\n",
       "    <tr>\n",
       "      <th>9</th>\n",
       "      <td>9.0</td>\n",
       "      <td>164.454545</td>\n",
       "      <td>428.454545</td>\n",
       "    </tr>\n",
       "    <tr>\n",
       "      <th>10</th>\n",
       "      <td>11.0</td>\n",
       "      <td>90.674286</td>\n",
       "      <td>2.451429</td>\n",
       "    </tr>\n",
       "  </tbody>\n",
       "</table>\n",
       "</div>"
      ],
      "text/plain": [
       "    label_id  reviewCount  answerCount\n",
       "0        0.0    49.585987     1.643312\n",
       "1        1.0    81.322654     2.356979\n",
       "2        2.0    86.696822     3.420538\n",
       "3        3.0    71.531172     1.536160\n",
       "4        4.0    83.385542     2.906024\n",
       "5        5.0    65.742204     2.147609\n",
       "6        6.0    64.853786     3.143603\n",
       "7        7.0    89.173203     1.663399\n",
       "8        8.0    42.433735     2.248996\n",
       "9        9.0   164.454545   428.454545\n",
       "10      11.0    90.674286     2.451429"
      ]
     },
     "execution_count": 40,
     "metadata": {},
     "output_type": "execute_result"
    }
   ],
   "source": [
    "XX"
   ]
  },
  {
   "cell_type": "code",
   "execution_count": 48,
   "id": "70fcfee6-d816-4eae-bdfc-33a318526bc1",
   "metadata": {},
   "outputs": [],
   "source": [
    "plt.style.use('ggplot')"
   ]
  },
  {
   "cell_type": "code",
   "execution_count": 49,
   "id": "4ce2a029-40f4-4a09-ad5f-3910e1b946a8",
   "metadata": {},
   "outputs": [
    {
     "data": {
      "text/plain": [
       "<AxesSubplot:xlabel='label_id', ylabel='answerCount'>"
      ]
     },
     "execution_count": 49,
     "metadata": {},
     "output_type": "execute_result"
    },
    {
     "data": {
      "image/png": "[encoded data removed]",
      "text/plain": [
       "<Figure size 640x480 with 1 Axes>"
      ]
     },
     "metadata": {},
     "output_type": "display_data"
    }
   ],
   "source": [
    "ax = sns.barplot(data=XX, x='label_id', y='reviewCount', color='b')\n",
    "sns.barplot(data=XX, x='label_id', y='answerCount', color='g')"
   ]
  },
  {
   "cell_type": "code",
   "execution_count": 54,
   "id": "06c9c62f-172c-44ff-9113-01d6b33b1d66",
   "metadata": {},
   "outputs": [
    {
     "data": {
      "text/plain": [
       "Text(0.5, 0, 'User Clusters')"
      ]
     },
     "execution_count": 54,
     "metadata": {},
     "output_type": "execute_result"
    },
    {
     "data": {
      "image/png": "[encoded data removed]",
      "text/plain": [
       "<Figure size 640x480 with 1 Axes>"
      ]
     },
     "metadata": {},
     "output_type": "display_data"
    }
   ],
   "source": [
    "XX['label_id'] = XX['label_id'].astype(int)\n",
    "ax = XX.set_index('label_id').sort_values('reviewCount').plot.bar(stacked=True)\n",
    "ax.set_xlabel('User Clusters')"
   ]
  },
  {
   "cell_type": "code",
   "execution_count": 55,
   "id": "0f27d503-8e86-4a57-b61e-5216367abb5a",
   "metadata": {},
   "outputs": [],
   "source": [
    "from calplot import calplot"
   ]
  },
  {
   "cell_type": "code",
   "execution_count": 70,
   "id": "1a4c1c10-32be-41ab-baf5-c4642af4dba8",
   "metadata": {},
   "outputs": [],
   "source": [
    "tdf = df.copy()\n",
    "tdf.index = pd.to_datetime(df['postedDate'])\n",
    "tdf['counter'] = 1"
   ]
  },
  {
   "cell_type": "code",
   "execution_count": 77,
   "id": "3b643072-395a-42c5-b0db-0e80fd000484",
   "metadata": {},
   "outputs": [
    {
     "name": "stderr",
     "output_type": "stream",
     "text": [
      "/home/jaidevd/conda/lib/python3.9/site-packages/calplot/calplot.py:193: FutureWarning: Indexing a timezone-aware DatetimeIndex with a timezone-naive datetime is deprecated and will raise KeyError in a future version. Use a timezone-aware object instead.\n",
      "  ax.set_xticks([by_day.loc[pd.Timestamp(\n",
      "/home/jaidevd/conda/lib/python3.9/site-packages/calplot/calplot.py:193: FutureWarning: Indexing a timezone-aware DatetimeIndex with a timezone-naive datetime is deprecated and will raise KeyError in a future version. Use a timezone-aware object instead.\n",
      "  ax.set_xticks([by_day.loc[pd.Timestamp(\n"
     ]
    },
    {
     "data": {
      "text/plain": [
       "(<Figure size 1000x340 with 2 Axes>,\n",
       " array([<AxesSubplot:ylabel='2020'>, <AxesSubplot:ylabel='2021'>],\n",
       "       dtype=object))"
      ]
     },
     "execution_count": 77,
     "metadata": {},
     "output_type": "execute_result"
    },
    {
     "data": {
      "image/png": "[encoded data removed]",
      "text/plain": [
       "<Figure size 1000x340 with 2 Axes>"
      ]
     },
     "metadata": {},
     "output_type": "display_data"
    }
   ],
   "source": [
    "calplot(tdf[tdf['label_id'] == 6]['counter'])"
   ]
  },
  {
   "cell_type": "code",
   "execution_count": 67,
   "id": "80948776-7d1c-4358-be92-ea2d35a00800",
   "metadata": {},
   "outputs": [
    {
     "data": {
      "text/plain": [
       "id\n",
       "05c2b17e-c28d-4792-930d-27e787d8d4ad   2021-01-27 09:04:10.569000+00:00\n",
       "80e44af8-2edf-4b81-a80a-7e7888d03cc0   2021-02-07 00:56:39.055000+00:00\n",
       "9a76e047-21e4-4da3-8b50-9d2396519b6b   2021-02-06 21:40:02.886000+00:00\n",
       "2890ac54-8707-418e-be3e-8d46231e3672   2021-02-05 16:29:28.906000+00:00\n",
       "9db33354-0457-4efa-bc9c-b5f7ee0eff31   2021-02-05 09:43:42.367000+00:00\n",
       "Name: postedDate, dtype: datetime64[ns, UTC]"
      ]
     },
     "execution_count": 67,
     "metadata": {},
     "output_type": "execute_result"
    }
   ],
   "source": [
    "tdf.head()"
   ]
  },
  {
   "cell_type": "code",
   "execution_count": 63,
   "id": "458235f7-f033-4ac0-bb09-34d6e3c8f482",
   "metadata": {},
   "outputs": [
    {
     "data": {
      "text/html": [
       "<div>\n",
       "<style scoped>\n",
       "    .dataframe tbody tr th:only-of-type {\n",
       "        vertical-align: middle;\n",
       "    }\n",
       "\n",
       "    .dataframe tbody tr th {\n",
       "        vertical-align: top;\n",
       "    }\n",
       "\n",
       "    .dataframe thead th {\n",
       "        text-align: right;\n",
       "    }\n",
       "</style>\n",
       "<table border=\"1\" class=\"dataframe\">\n",
       "  <thead>\n",
       "    <tr style=\"text-align: right;\">\n",
       "      <th></th>\n",
       "      <th>abuseCount</th>\n",
       "      <th>customerNickname</th>\n",
       "      <th>helpfulNo</th>\n",
       "      <th>helpfulYes</th>\n",
       "      <th>imagesCount</th>\n",
       "      <th>languageCode</th>\n",
       "      <th>productId</th>\n",
       "      <th>ratingValue</th>\n",
       "      <th>reviewText</th>\n",
       "      <th>reviewTitle</th>\n",
       "      <th>...</th>\n",
       "      <th>product_name</th>\n",
       "      <th>material</th>\n",
       "      <th>n_masks</th>\n",
       "      <th>brand</th>\n",
       "      <th>product_price</th>\n",
       "      <th>dayofweek</th>\n",
       "      <th>hour</th>\n",
       "      <th>label_id</th>\n",
       "      <th>answerCount</th>\n",
       "      <th>reviewCount</th>\n",
       "    </tr>\n",
       "    <tr>\n",
       "      <th>postedDate</th>\n",
       "      <th></th>\n",
       "      <th></th>\n",
       "      <th></th>\n",
       "      <th></th>\n",
       "      <th></th>\n",
       "      <th></th>\n",
       "      <th></th>\n",
       "      <th></th>\n",
       "      <th></th>\n",
       "      <th></th>\n",
       "      <th></th>\n",
       "      <th></th>\n",
       "      <th></th>\n",
       "      <th></th>\n",
       "      <th></th>\n",
       "      <th></th>\n",
       "      <th></th>\n",
       "      <th></th>\n",
       "      <th></th>\n",
       "      <th></th>\n",
       "      <th></th>\n",
       "    </tr>\n",
       "  </thead>\n",
       "  <tbody>\n",
       "    <tr>\n",
       "      <th>2021-01-27 09:04:10.569000+00:00</th>\n",
       "      <td>0</td>\n",
       "      <td>iHerb Customer</td>\n",
       "      <td>0</td>\n",
       "      <td>6</td>\n",
       "      <td>1</td>\n",
       "      <td>en-US</td>\n",
       "      <td>103839</td>\n",
       "      <td>50</td>\n",
       "      <td>The mask quality and the color is good. It fit...</td>\n",
       "      <td>Dotted Pattern Is Nice</td>\n",
       "      <td>...</td>\n",
       "      <td>Lozperi, Copper Mask, Adult, Dot, 1 Count</td>\n",
       "      <td>copper</td>\n",
       "      <td>1</td>\n",
       "      <td>Lozperi</td>\n",
       "      <td>6.85</td>\n",
       "      <td>2</td>\n",
       "      <td>9</td>\n",
       "      <td>4.0</td>\n",
       "      <td>0.0</td>\n",
       "      <td>34.0</td>\n",
       "    </tr>\n",
       "    <tr>\n",
       "      <th>2021-02-07 00:56:39.055000+00:00</th>\n",
       "      <td>0</td>\n",
       "      <td>iHerb Customer</td>\n",
       "      <td>0</td>\n",
       "      <td>0</td>\n",
       "      <td>0</td>\n",
       "      <td>ru-RU</td>\n",
       "      <td>103839</td>\n",
       "      <td>50</td>\n",
       "      <td>Внуку очень понравилось. Удобная маска.</td>\n",
       "      <td>Прекрасно!</td>\n",
       "      <td>...</td>\n",
       "      <td>Lozperi, Copper Mask, Adult, Dot, 1 Count</td>\n",
       "      <td>copper</td>\n",
       "      <td>1</td>\n",
       "      <td>Lozperi</td>\n",
       "      <td>6.85</td>\n",
       "      <td>6</td>\n",
       "      <td>0</td>\n",
       "      <td>8.0</td>\n",
       "      <td>0.0</td>\n",
       "      <td>37.0</td>\n",
       "    </tr>\n",
       "    <tr>\n",
       "      <th>2021-02-06 21:40:02.886000+00:00</th>\n",
       "      <td>0</td>\n",
       "      <td>iHerb Customer</td>\n",
       "      <td>0</td>\n",
       "      <td>0</td>\n",
       "      <td>0</td>\n",
       "      <td>en-US</td>\n",
       "      <td>103839</td>\n",
       "      <td>40</td>\n",
       "      <td>Easy to put on &amp; comfortable to wear.</td>\n",
       "      <td>Good</td>\n",
       "      <td>...</td>\n",
       "      <td>Lozperi, Copper Mask, Adult, Dot, 1 Count</td>\n",
       "      <td>copper</td>\n",
       "      <td>1</td>\n",
       "      <td>Lozperi</td>\n",
       "      <td>6.85</td>\n",
       "      <td>5</td>\n",
       "      <td>21</td>\n",
       "      <td>6.0</td>\n",
       "      <td>0.0</td>\n",
       "      <td>3.0</td>\n",
       "    </tr>\n",
       "    <tr>\n",
       "      <th>2021-02-05 16:29:28.906000+00:00</th>\n",
       "      <td>0</td>\n",
       "      <td>InnaIgorevna</td>\n",
       "      <td>0</td>\n",
       "      <td>0</td>\n",
       "      <td>0</td>\n",
       "      <td>ru-RU</td>\n",
       "      <td>103839</td>\n",
       "      <td>40</td>\n",
       "      <td>Тонкая, приятная к телу маска. Расцветка тоже ...</td>\n",
       "      <td>Хорошо</td>\n",
       "      <td>...</td>\n",
       "      <td>Lozperi, Copper Mask, Adult, Dot, 1 Count</td>\n",
       "      <td>copper</td>\n",
       "      <td>1</td>\n",
       "      <td>Lozperi</td>\n",
       "      <td>6.85</td>\n",
       "      <td>4</td>\n",
       "      <td>16</td>\n",
       "      <td>1.0</td>\n",
       "      <td>0.0</td>\n",
       "      <td>16.0</td>\n",
       "    </tr>\n",
       "    <tr>\n",
       "      <th>2021-02-05 09:43:42.367000+00:00</th>\n",
       "      <td>0</td>\n",
       "      <td>iHerb Customer</td>\n",
       "      <td>0</td>\n",
       "      <td>0</td>\n",
       "      <td>0</td>\n",
       "      <td>ru-RU</td>\n",
       "      <td>103839</td>\n",
       "      <td>50</td>\n",
       "      <td>Отличная маска! Мне подошла идеально. Слегка е...</td>\n",
       "      <td>Прекрасно!</td>\n",
       "      <td>...</td>\n",
       "      <td>Lozperi, Copper Mask, Adult, Dot, 1 Count</td>\n",
       "      <td>copper</td>\n",
       "      <td>1</td>\n",
       "      <td>Lozperi</td>\n",
       "      <td>6.85</td>\n",
       "      <td>4</td>\n",
       "      <td>9</td>\n",
       "      <td>2.0</td>\n",
       "      <td>0.0</td>\n",
       "      <td>19.0</td>\n",
       "    </tr>\n",
       "  </tbody>\n",
       "</table>\n",
       "<p>5 rows × 25 columns</p>\n",
       "</div>"
      ],
      "text/plain": [
       "                                  abuseCount customerNickname  helpfulNo  \\\n",
       "postedDate                                                                 \n",
       "2021-01-27 09:04:10.569000+00:00           0   iHerb Customer          0   \n",
       "2021-02-07 00:56:39.055000+00:00           0   iHerb Customer          0   \n",
       "2021-02-06 21:40:02.886000+00:00           0   iHerb Customer          0   \n",
       "2021-02-05 16:29:28.906000+00:00           0     InnaIgorevna          0   \n",
       "2021-02-05 09:43:42.367000+00:00           0   iHerb Customer          0   \n",
       "\n",
       "                                  helpfulYes  imagesCount languageCode  \\\n",
       "postedDate                                                               \n",
       "2021-01-27 09:04:10.569000+00:00           6            1        en-US   \n",
       "2021-02-07 00:56:39.055000+00:00           0            0        ru-RU   \n",
       "2021-02-06 21:40:02.886000+00:00           0            0        en-US   \n",
       "2021-02-05 16:29:28.906000+00:00           0            0        ru-RU   \n",
       "2021-02-05 09:43:42.367000+00:00           0            0        ru-RU   \n",
       "\n",
       "                                  productId  ratingValue  \\\n",
       "postedDate                                                 \n",
       "2021-01-27 09:04:10.569000+00:00     103839           50   \n",
       "2021-02-07 00:56:39.055000+00:00     103839           50   \n",
       "2021-02-06 21:40:02.886000+00:00     103839           40   \n",
       "2021-02-05 16:29:28.906000+00:00     103839           40   \n",
       "2021-02-05 09:43:42.367000+00:00     103839           50   \n",
       "\n",
       "                                                                         reviewText  \\\n",
       "postedDate                                                                            \n",
       "2021-01-27 09:04:10.569000+00:00  The mask quality and the color is good. It fit...   \n",
       "2021-02-07 00:56:39.055000+00:00            Внуку очень понравилось. Удобная маска.   \n",
       "2021-02-06 21:40:02.886000+00:00              Easy to put on & comfortable to wear.   \n",
       "2021-02-05 16:29:28.906000+00:00  Тонкая, приятная к телу маска. Расцветка тоже ...   \n",
       "2021-02-05 09:43:42.367000+00:00  Отличная маска! Мне подошла идеально. Слегка е...   \n",
       "\n",
       "                                             reviewTitle  ...  \\\n",
       "postedDate                                                ...   \n",
       "2021-01-27 09:04:10.569000+00:00  Dotted Pattern Is Nice  ...   \n",
       "2021-02-07 00:56:39.055000+00:00              Прекрасно!  ...   \n",
       "2021-02-06 21:40:02.886000+00:00                    Good  ...   \n",
       "2021-02-05 16:29:28.906000+00:00                  Хорошо  ...   \n",
       "2021-02-05 09:43:42.367000+00:00              Прекрасно!  ...   \n",
       "\n",
       "                                                               product_name  \\\n",
       "postedDate                                                                    \n",
       "2021-01-27 09:04:10.569000+00:00  Lozperi, Copper Mask, Adult, Dot, 1 Count   \n",
       "2021-02-07 00:56:39.055000+00:00  Lozperi, Copper Mask, Adult, Dot, 1 Count   \n",
       "2021-02-06 21:40:02.886000+00:00  Lozperi, Copper Mask, Adult, Dot, 1 Count   \n",
       "2021-02-05 16:29:28.906000+00:00  Lozperi, Copper Mask, Adult, Dot, 1 Count   \n",
       "2021-02-05 09:43:42.367000+00:00  Lozperi, Copper Mask, Adult, Dot, 1 Count   \n",
       "\n",
       "                                  material n_masks    brand product_price  \\\n",
       "postedDate                                                                  \n",
       "2021-01-27 09:04:10.569000+00:00    copper       1  Lozperi          6.85   \n",
       "2021-02-07 00:56:39.055000+00:00    copper       1  Lozperi          6.85   \n",
       "2021-02-06 21:40:02.886000+00:00    copper       1  Lozperi          6.85   \n",
       "2021-02-05 16:29:28.906000+00:00    copper       1  Lozperi          6.85   \n",
       "2021-02-05 09:43:42.367000+00:00    copper       1  Lozperi          6.85   \n",
       "\n",
       "                                 dayofweek hour  label_id answerCount  \\\n",
       "postedDate                                                              \n",
       "2021-01-27 09:04:10.569000+00:00         2    9       4.0         0.0   \n",
       "2021-02-07 00:56:39.055000+00:00         6    0       8.0         0.0   \n",
       "2021-02-06 21:40:02.886000+00:00         5   21       6.0         0.0   \n",
       "2021-02-05 16:29:28.906000+00:00         4   16       1.0         0.0   \n",
       "2021-02-05 09:43:42.367000+00:00         4    9       2.0         0.0   \n",
       "\n",
       "                                  reviewCount  \n",
       "postedDate                                     \n",
       "2021-01-27 09:04:10.569000+00:00         34.0  \n",
       "2021-02-07 00:56:39.055000+00:00         37.0  \n",
       "2021-02-06 21:40:02.886000+00:00          3.0  \n",
       "2021-02-05 16:29:28.906000+00:00         16.0  \n",
       "2021-02-05 09:43:42.367000+00:00         19.0  \n",
       "\n",
       "[5 rows x 25 columns]"
      ]
     },
     "execution_count": 63,
     "metadata": {},
     "output_type": "execute_result"
    }
   ],
   "source": [
    "tdf.head()"
   ]
  },
  {
   "cell_type": "code",
   "execution_count": null,
   "id": "6d77405c-37e1-4a1a-b4d5-9f987628c586",
   "metadata": {},
   "outputs": [],
   "source": []
  }
 ],
 "metadata": {
  "kernelspec": {
   "display_name": "Python 3 (ipykernel)",
   "language": "python",
   "name": "python3"
  },
  "language_info": {
   "codemirror_mode": {
    "name": "ipython",
    "version": 3
   },
   "file_extension": ".py",
   "mimetype": "text/x-python",
   "name": "python",
   "nbconvert_exporter": "python",
   "pygments_lexer": "ipython3",
   "version": "3.9.12"
  }
 },
 "nbformat": 4,
 "nbformat_minor": 5
}
