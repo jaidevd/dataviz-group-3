{
  "cells": [
    {
      "cell_type": "markdown",
      "source": [
        "Link to colab:\n",
        "https://colab.research.google.com/drive/1wYr9mRykawmX3Ppb4NYo6rOHeGb9hLoN?usp=sharing"
      ],
      "metadata": {
        "id": "oiVlwIRv57c6"
      }
    },
    {
      "cell_type": "markdown",
      "source": [
        "Importing necessary libraries"
      ],
      "metadata": {
        "id": "_qhN_Ldkszi5"
      }
    },
    {
      "cell_type": "code",
      "execution_count": 1,
      "metadata": {
        "id": "1l_BPnN1nAAv"
      },
      "outputs": [],
      "source": [
        "import numpy as np\n",
        "import pandas as pd\n",
        "import matplotlib.pyplot as plt\n",
        "import seaborn as sns\n",
        "import sklearn"
      ]
    },
    {
      "cell_type": "markdown",
      "source": [
        "Importing the give datasets"
      ],
      "metadata": {
        "id": "VFx6doPxsyfw"
      }
    },
    {
      "cell_type": "code",
      "execution_count": 2,
      "metadata": {
        "id": "6bIXjIMVnVWk"
      },
      "outputs": [],
      "source": [
        "products = pd.read_csv(\"/content/products.tsv\", sep=\"\\t\")\n",
        "reviews = pd.read_csv(\"/content/reviews.tsv\", sep=\"\\t\")"
      ]
    },
    {
      "cell_type": "code",
      "execution_count": 3,
      "metadata": {
        "colab": {
          "base_uri": "https://localhost:8080/",
          "height": 337
        },
        "id": "K6bg_MNSnVTL",
        "outputId": "7f844a24-b1b8-4dcc-8165-36a2848f34c6"
      },
      "outputs": [
        {
          "output_type": "execute_result",
          "data": {
            "text/plain": [
              "   product_id                                       product_name  \\\n",
              "0      103205  Hwipure, Disposable KF94 ( N95 / KN95/ FFP2 ) ...   \n",
              "1      101774  HIGUARD, Disposable KF94 ( N95 / KN95/ FFP2 ) ...   \n",
              "2      101955  SunJoy, KN95, Professional Protective Disposab...   \n",
              "3      103838         Lozperi, Copper Mask, Adult, Black, 1 Mask   \n",
              "4      102734        Zidian, Disposable Protective Mask, 50 Pack   \n",
              "\n",
              "   product_price price_currency       product_availability  \\\n",
              "0           2.95            AUD  http://schema.org/InStock   \n",
              "1           2.95            AUD  http://schema.org/InStock   \n",
              "2           8.86            AUD  http://schema.org/InStock   \n",
              "3           6.85            AUD  http://schema.org/InStock   \n",
              "4          15.35            AUD  http://schema.org/InStock   \n",
              "\n",
              "                                         product_url  \\\n",
              "0  https://au.iherb.com/pr/Hwipure-Disposable-KF9...   \n",
              "1  https://au.iherb.com/pr/HIGUARD-Disposable-KF9...   \n",
              "2  https://au.iherb.com/pr/SunJoy-KN95-Profession...   \n",
              "3  https://au.iherb.com/pr/Lozperi-Copper-Mask-Ad...   \n",
              "4  https://au.iherb.com/pr/Zidian-Disposable-Prot...   \n",
              "\n",
              "                                     source_url  \n",
              "0  https://au.iherb.com/c/protective-face-masks  \n",
              "1  https://au.iherb.com/c/protective-face-masks  \n",
              "2  https://au.iherb.com/c/protective-face-masks  \n",
              "3  https://au.iherb.com/c/protective-face-masks  \n",
              "4  https://au.iherb.com/c/protective-face-masks  "
            ],
            "text/html": [
              "\n",
              "  <div id=\"df-d21080d4-2e4f-44ca-91dd-7872997ac5f9\">\n",
              "    <div class=\"colab-df-container\">\n",
              "      <div>\n",
              "<style scoped>\n",
              "    .dataframe tbody tr th:only-of-type {\n",
              "        vertical-align: middle;\n",
              "    }\n",
              "\n",
              "    .dataframe tbody tr th {\n",
              "        vertical-align: top;\n",
              "    }\n",
              "\n",
              "    .dataframe thead th {\n",
              "        text-align: right;\n",
              "    }\n",
              "</style>\n",
              "<table border=\"1\" class=\"dataframe\">\n",
              "  <thead>\n",
              "    <tr style=\"text-align: right;\">\n",
              "      <th></th>\n",
              "      <th>product_id</th>\n",
              "      <th>product_name</th>\n",
              "      <th>product_price</th>\n",
              "      <th>price_currency</th>\n",
              "      <th>product_availability</th>\n",
              "      <th>product_url</th>\n",
              "      <th>source_url</th>\n",
              "    </tr>\n",
              "  </thead>\n",
              "  <tbody>\n",
              "    <tr>\n",
              "      <th>0</th>\n",
              "      <td>103205</td>\n",
              "      <td>Hwipure, Disposable KF94 ( N95 / KN95/ FFP2 ) ...</td>\n",
              "      <td>2.95</td>\n",
              "      <td>AUD</td>\n",
              "      <td>http://schema.org/InStock</td>\n",
              "      <td>https://au.iherb.com/pr/Hwipure-Disposable-KF9...</td>\n",
              "      <td>https://au.iherb.com/c/protective-face-masks</td>\n",
              "    </tr>\n",
              "    <tr>\n",
              "      <th>1</th>\n",
              "      <td>101774</td>\n",
              "      <td>HIGUARD, Disposable KF94 ( N95 / KN95/ FFP2 ) ...</td>\n",
              "      <td>2.95</td>\n",
              "      <td>AUD</td>\n",
              "      <td>http://schema.org/InStock</td>\n",
              "      <td>https://au.iherb.com/pr/HIGUARD-Disposable-KF9...</td>\n",
              "      <td>https://au.iherb.com/c/protective-face-masks</td>\n",
              "    </tr>\n",
              "    <tr>\n",
              "      <th>2</th>\n",
              "      <td>101955</td>\n",
              "      <td>SunJoy, KN95, Professional Protective Disposab...</td>\n",
              "      <td>8.86</td>\n",
              "      <td>AUD</td>\n",
              "      <td>http://schema.org/InStock</td>\n",
              "      <td>https://au.iherb.com/pr/SunJoy-KN95-Profession...</td>\n",
              "      <td>https://au.iherb.com/c/protective-face-masks</td>\n",
              "    </tr>\n",
              "    <tr>\n",
              "      <th>3</th>\n",
              "      <td>103838</td>\n",
              "      <td>Lozperi, Copper Mask, Adult, Black, 1 Mask</td>\n",
              "      <td>6.85</td>\n",
              "      <td>AUD</td>\n",
              "      <td>http://schema.org/InStock</td>\n",
              "      <td>https://au.iherb.com/pr/Lozperi-Copper-Mask-Ad...</td>\n",
              "      <td>https://au.iherb.com/c/protective-face-masks</td>\n",
              "    </tr>\n",
              "    <tr>\n",
              "      <th>4</th>\n",
              "      <td>102734</td>\n",
              "      <td>Zidian, Disposable Protective Mask, 50 Pack</td>\n",
              "      <td>15.35</td>\n",
              "      <td>AUD</td>\n",
              "      <td>http://schema.org/InStock</td>\n",
              "      <td>https://au.iherb.com/pr/Zidian-Disposable-Prot...</td>\n",
              "      <td>https://au.iherb.com/c/protective-face-masks</td>\n",
              "    </tr>\n",
              "  </tbody>\n",
              "</table>\n",
              "</div>\n",
              "      <button class=\"colab-df-convert\" onclick=\"convertToInteractive('df-d21080d4-2e4f-44ca-91dd-7872997ac5f9')\"\n",
              "              title=\"Convert this dataframe to an interactive table.\"\n",
              "              style=\"display:none;\">\n",
              "        \n",
              "  <svg xmlns=\"http://www.w3.org/2000/svg\" height=\"24px\"viewBox=\"0 0 24 24\"\n",
              "       width=\"24px\">\n",
              "    <path d=\"M0 0h24v24H0V0z\" fill=\"none\"/>\n",
              "    <path d=\"M18.56 5.44l.94 2.06.94-2.06 2.06-.94-2.06-.94-.94-2.06-.94 2.06-2.06.94zm-11 1L8.5 8.5l.94-2.06 2.06-.94-2.06-.94L8.5 2.5l-.94 2.06-2.06.94zm10 10l.94 2.06.94-2.06 2.06-.94-2.06-.94-.94-2.06-.94 2.06-2.06.94z\"/><path d=\"M17.41 7.96l-1.37-1.37c-.4-.4-.92-.59-1.43-.59-.52 0-1.04.2-1.43.59L10.3 9.45l-7.72 7.72c-.78.78-.78 2.05 0 2.83L4 21.41c.39.39.9.59 1.41.59.51 0 1.02-.2 1.41-.59l7.78-7.78 2.81-2.81c.8-.78.8-2.07 0-2.86zM5.41 20L4 18.59l7.72-7.72 1.47 1.35L5.41 20z\"/>\n",
              "  </svg>\n",
              "      </button>\n",
              "      \n",
              "  <style>\n",
              "    .colab-df-container {\n",
              "      display:flex;\n",
              "      flex-wrap:wrap;\n",
              "      gap: 12px;\n",
              "    }\n",
              "\n",
              "    .colab-df-convert {\n",
              "      background-color: #E8F0FE;\n",
              "      border: none;\n",
              "      border-radius: 50%;\n",
              "      cursor: pointer;\n",
              "      display: none;\n",
              "      fill: #1967D2;\n",
              "      height: 32px;\n",
              "      padding: 0 0 0 0;\n",
              "      width: 32px;\n",
              "    }\n",
              "\n",
              "    .colab-df-convert:hover {\n",
              "      background-color: #E2EBFA;\n",
              "      box-shadow: 0px 1px 2px rgba(60, 64, 67, 0.3), 0px 1px 3px 1px rgba(60, 64, 67, 0.15);\n",
              "      fill: #174EA6;\n",
              "    }\n",
              "\n",
              "    [theme=dark] .colab-df-convert {\n",
              "      background-color: #3B4455;\n",
              "      fill: #D2E3FC;\n",
              "    }\n",
              "\n",
              "    [theme=dark] .colab-df-convert:hover {\n",
              "      background-color: #434B5C;\n",
              "      box-shadow: 0px 1px 3px 1px rgba(0, 0, 0, 0.15);\n",
              "      filter: drop-shadow(0px 1px 2px rgba(0, 0, 0, 0.3));\n",
              "      fill: #FFFFFF;\n",
              "    }\n",
              "  </style>\n",
              "\n",
              "      <script>\n",
              "        const buttonEl =\n",
              "          document.querySelector('#df-d21080d4-2e4f-44ca-91dd-7872997ac5f9 button.colab-df-convert');\n",
              "        buttonEl.style.display =\n",
              "          google.colab.kernel.accessAllowed ? 'block' : 'none';\n",
              "\n",
              "        async function convertToInteractive(key) {\n",
              "          const element = document.querySelector('#df-d21080d4-2e4f-44ca-91dd-7872997ac5f9');\n",
              "          const dataTable =\n",
              "            await google.colab.kernel.invokeFunction('convertToInteractive',\n",
              "                                                     [key], {});\n",
              "          if (!dataTable) return;\n",
              "\n",
              "          const docLinkHtml = 'Like what you see? Visit the ' +\n",
              "            '<a target=\"_blank\" href=https://colab.research.google.com/notebooks/data_table.ipynb>data table notebook</a>'\n",
              "            + ' to learn more about interactive tables.';\n",
              "          element.innerHTML = '';\n",
              "          dataTable['output_type'] = 'display_data';\n",
              "          await google.colab.output.renderOutput(dataTable, element);\n",
              "          const docLink = document.createElement('div');\n",
              "          docLink.innerHTML = docLinkHtml;\n",
              "          element.appendChild(docLink);\n",
              "        }\n",
              "      </script>\n",
              "    </div>\n",
              "  </div>\n",
              "  "
            ]
          },
          "metadata": {},
          "execution_count": 3
        }
      ],
      "source": [
        "products.head()"
      ]
    },
    {
      "cell_type": "code",
      "execution_count": 4,
      "metadata": {
        "colab": {
          "base_uri": "https://localhost:8080/"
        },
        "id": "EFz-zgCaogiO",
        "outputId": "2ed44e50-eaea-4506-f263-e448969c7875"
      },
      "outputs": [
        {
          "output_type": "execute_result",
          "data": {
            "text/plain": [
              "product_id              0\n",
              "product_name            0\n",
              "product_price           0\n",
              "price_currency          0\n",
              "product_availability    0\n",
              "product_url             0\n",
              "source_url              0\n",
              "dtype: int64"
            ]
          },
          "metadata": {},
          "execution_count": 4
        }
      ],
      "source": [
        "products.isnull().sum()"
      ]
    },
    {
      "cell_type": "code",
      "execution_count": 5,
      "metadata": {
        "colab": {
          "base_uri": "https://localhost:8080/",
          "height": 565
        },
        "id": "l4iFKDv-obh-",
        "outputId": "19e3decd-4ae2-43a3-fa4d-3f344eced3e4"
      },
      "outputs": [
        {
          "output_type": "execute_result",
          "data": {
            "text/plain": [
              "   abuseCount customerNickname  helpfulNo  helpfulYes  \\\n",
              "0           0   iHerb Customer          0           6   \n",
              "1           0   iHerb Customer          0           0   \n",
              "2           0   iHerb Customer          0           0   \n",
              "3           0     InnaIgorevna          0           0   \n",
              "4           0   iHerb Customer          0           0   \n",
              "\n",
              "                                     id  imagesCount languageCode  \\\n",
              "0  05c2b17e-c28d-4792-930d-27e787d8d4ad            1        en-US   \n",
              "1  80e44af8-2edf-4b81-a80a-7e7888d03cc0            0        ru-RU   \n",
              "2  9a76e047-21e4-4da3-8b50-9d2396519b6b            0        en-US   \n",
              "3  2890ac54-8707-418e-be3e-8d46231e3672            0        ru-RU   \n",
              "4  9db33354-0457-4efa-bc9c-b5f7ee0eff31            0        ru-RU   \n",
              "\n",
              "                 postedDate  productId  profileInfo.ugcSummary.answerCount  \\\n",
              "0  2021-01-27T09:04:10.569Z     103839                                 0.0   \n",
              "1  2021-02-07T00:56:39.055Z     103839                                 0.0   \n",
              "2  2021-02-06T21:40:02.886Z     103839                                 0.0   \n",
              "3  2021-02-05T16:29:28.906Z     103839                                 0.0   \n",
              "4  2021-02-05T09:43:42.367Z     103839                                 0.0   \n",
              "\n",
              "   profileInfo.ugcSummary.reviewCount  ratingValue  \\\n",
              "0                                34.0           50   \n",
              "1                                37.0           50   \n",
              "2                                 3.0           40   \n",
              "3                                16.0           40   \n",
              "4                                19.0           50   \n",
              "\n",
              "                                          reviewText             reviewTitle  \\\n",
              "0  The mask quality and the color is good. It fit...  Dotted Pattern Is Nice   \n",
              "1            Внуку очень понравилось. Удобная маска.              Прекрасно!   \n",
              "2              Easy to put on & comfortable to wear.                    Good   \n",
              "3  Тонкая, приятная к телу маска. Расцветка тоже ...                  Хорошо   \n",
              "4  Отличная маска! Мне подошла идеально. Слегка е...              Прекрасно!   \n",
              "\n",
              "   reviewed         score languageCode.1  \\\n",
              "0      True  1.614071e+09          en-US   \n",
              "1     False  1.612659e+09          ru-RU   \n",
              "2     False  1.612648e+09          en-US   \n",
              "3     False  1.612543e+09          ru-RU   \n",
              "4     False  1.612518e+09          ru-RU   \n",
              "\n",
              "                              translation.reviewText translation.reviewTitle  \n",
              "0                                                NaN                     NaN  \n",
              "1    The grandson really liked it. Comfortable mask.                   en-US  \n",
              "2                                                NaN                     NaN  \n",
              "3  A thin mask that is pleasant to the body. I li...                   en-US  \n",
              "4  Great mask! It suited me perfectly. There is a...                   en-US  "
            ],
            "text/html": [
              "\n",
              "  <div id=\"df-8e6a5d35-01ec-4713-b3ce-02874140c47a\">\n",
              "    <div class=\"colab-df-container\">\n",
              "      <div>\n",
              "<style scoped>\n",
              "    .dataframe tbody tr th:only-of-type {\n",
              "        vertical-align: middle;\n",
              "    }\n",
              "\n",
              "    .dataframe tbody tr th {\n",
              "        vertical-align: top;\n",
              "    }\n",
              "\n",
              "    .dataframe thead th {\n",
              "        text-align: right;\n",
              "    }\n",
              "</style>\n",
              "<table border=\"1\" class=\"dataframe\">\n",
              "  <thead>\n",
              "    <tr style=\"text-align: right;\">\n",
              "      <th></th>\n",
              "      <th>abuseCount</th>\n",
              "      <th>customerNickname</th>\n",
              "      <th>helpfulNo</th>\n",
              "      <th>helpfulYes</th>\n",
              "      <th>id</th>\n",
              "      <th>imagesCount</th>\n",
              "      <th>languageCode</th>\n",
              "      <th>postedDate</th>\n",
              "      <th>productId</th>\n",
              "      <th>profileInfo.ugcSummary.answerCount</th>\n",
              "      <th>profileInfo.ugcSummary.reviewCount</th>\n",
              "      <th>ratingValue</th>\n",
              "      <th>reviewText</th>\n",
              "      <th>reviewTitle</th>\n",
              "      <th>reviewed</th>\n",
              "      <th>score</th>\n",
              "      <th>languageCode.1</th>\n",
              "      <th>translation.reviewText</th>\n",
              "      <th>translation.reviewTitle</th>\n",
              "    </tr>\n",
              "  </thead>\n",
              "  <tbody>\n",
              "    <tr>\n",
              "      <th>0</th>\n",
              "      <td>0</td>\n",
              "      <td>iHerb Customer</td>\n",
              "      <td>0</td>\n",
              "      <td>6</td>\n",
              "      <td>05c2b17e-c28d-4792-930d-27e787d8d4ad</td>\n",
              "      <td>1</td>\n",
              "      <td>en-US</td>\n",
              "      <td>2021-01-27T09:04:10.569Z</td>\n",
              "      <td>103839</td>\n",
              "      <td>0.0</td>\n",
              "      <td>34.0</td>\n",
              "      <td>50</td>\n",
              "      <td>The mask quality and the color is good. It fit...</td>\n",
              "      <td>Dotted Pattern Is Nice</td>\n",
              "      <td>True</td>\n",
              "      <td>1.614071e+09</td>\n",
              "      <td>en-US</td>\n",
              "      <td>NaN</td>\n",
              "      <td>NaN</td>\n",
              "    </tr>\n",
              "    <tr>\n",
              "      <th>1</th>\n",
              "      <td>0</td>\n",
              "      <td>iHerb Customer</td>\n",
              "      <td>0</td>\n",
              "      <td>0</td>\n",
              "      <td>80e44af8-2edf-4b81-a80a-7e7888d03cc0</td>\n",
              "      <td>0</td>\n",
              "      <td>ru-RU</td>\n",
              "      <td>2021-02-07T00:56:39.055Z</td>\n",
              "      <td>103839</td>\n",
              "      <td>0.0</td>\n",
              "      <td>37.0</td>\n",
              "      <td>50</td>\n",
              "      <td>Внуку очень понравилось. Удобная маска.</td>\n",
              "      <td>Прекрасно!</td>\n",
              "      <td>False</td>\n",
              "      <td>1.612659e+09</td>\n",
              "      <td>ru-RU</td>\n",
              "      <td>The grandson really liked it. Comfortable mask.</td>\n",
              "      <td>en-US</td>\n",
              "    </tr>\n",
              "    <tr>\n",
              "      <th>2</th>\n",
              "      <td>0</td>\n",
              "      <td>iHerb Customer</td>\n",
              "      <td>0</td>\n",
              "      <td>0</td>\n",
              "      <td>9a76e047-21e4-4da3-8b50-9d2396519b6b</td>\n",
              "      <td>0</td>\n",
              "      <td>en-US</td>\n",
              "      <td>2021-02-06T21:40:02.886Z</td>\n",
              "      <td>103839</td>\n",
              "      <td>0.0</td>\n",
              "      <td>3.0</td>\n",
              "      <td>40</td>\n",
              "      <td>Easy to put on &amp; comfortable to wear.</td>\n",
              "      <td>Good</td>\n",
              "      <td>False</td>\n",
              "      <td>1.612648e+09</td>\n",
              "      <td>en-US</td>\n",
              "      <td>NaN</td>\n",
              "      <td>NaN</td>\n",
              "    </tr>\n",
              "    <tr>\n",
              "      <th>3</th>\n",
              "      <td>0</td>\n",
              "      <td>InnaIgorevna</td>\n",
              "      <td>0</td>\n",
              "      <td>0</td>\n",
              "      <td>2890ac54-8707-418e-be3e-8d46231e3672</td>\n",
              "      <td>0</td>\n",
              "      <td>ru-RU</td>\n",
              "      <td>2021-02-05T16:29:28.906Z</td>\n",
              "      <td>103839</td>\n",
              "      <td>0.0</td>\n",
              "      <td>16.0</td>\n",
              "      <td>40</td>\n",
              "      <td>Тонкая, приятная к телу маска. Расцветка тоже ...</td>\n",
              "      <td>Хорошо</td>\n",
              "      <td>False</td>\n",
              "      <td>1.612543e+09</td>\n",
              "      <td>ru-RU</td>\n",
              "      <td>A thin mask that is pleasant to the body. I li...</td>\n",
              "      <td>en-US</td>\n",
              "    </tr>\n",
              "    <tr>\n",
              "      <th>4</th>\n",
              "      <td>0</td>\n",
              "      <td>iHerb Customer</td>\n",
              "      <td>0</td>\n",
              "      <td>0</td>\n",
              "      <td>9db33354-0457-4efa-bc9c-b5f7ee0eff31</td>\n",
              "      <td>0</td>\n",
              "      <td>ru-RU</td>\n",
              "      <td>2021-02-05T09:43:42.367Z</td>\n",
              "      <td>103839</td>\n",
              "      <td>0.0</td>\n",
              "      <td>19.0</td>\n",
              "      <td>50</td>\n",
              "      <td>Отличная маска! Мне подошла идеально. Слегка е...</td>\n",
              "      <td>Прекрасно!</td>\n",
              "      <td>False</td>\n",
              "      <td>1.612518e+09</td>\n",
              "      <td>ru-RU</td>\n",
              "      <td>Great mask! It suited me perfectly. There is a...</td>\n",
              "      <td>en-US</td>\n",
              "    </tr>\n",
              "  </tbody>\n",
              "</table>\n",
              "</div>\n",
              "      <button class=\"colab-df-convert\" onclick=\"convertToInteractive('df-8e6a5d35-01ec-4713-b3ce-02874140c47a')\"\n",
              "              title=\"Convert this dataframe to an interactive table.\"\n",
              "              style=\"display:none;\">\n",
              "        \n",
              "  <svg xmlns=\"http://www.w3.org/2000/svg\" height=\"24px\"viewBox=\"0 0 24 24\"\n",
              "       width=\"24px\">\n",
              "    <path d=\"M0 0h24v24H0V0z\" fill=\"none\"/>\n",
              "    <path d=\"M18.56 5.44l.94 2.06.94-2.06 2.06-.94-2.06-.94-.94-2.06-.94 2.06-2.06.94zm-11 1L8.5 8.5l.94-2.06 2.06-.94-2.06-.94L8.5 2.5l-.94 2.06-2.06.94zm10 10l.94 2.06.94-2.06 2.06-.94-2.06-.94-.94-2.06-.94 2.06-2.06.94z\"/><path d=\"M17.41 7.96l-1.37-1.37c-.4-.4-.92-.59-1.43-.59-.52 0-1.04.2-1.43.59L10.3 9.45l-7.72 7.72c-.78.78-.78 2.05 0 2.83L4 21.41c.39.39.9.59 1.41.59.51 0 1.02-.2 1.41-.59l7.78-7.78 2.81-2.81c.8-.78.8-2.07 0-2.86zM5.41 20L4 18.59l7.72-7.72 1.47 1.35L5.41 20z\"/>\n",
              "  </svg>\n",
              "      </button>\n",
              "      \n",
              "  <style>\n",
              "    .colab-df-container {\n",
              "      display:flex;\n",
              "      flex-wrap:wrap;\n",
              "      gap: 12px;\n",
              "    }\n",
              "\n",
              "    .colab-df-convert {\n",
              "      background-color: #E8F0FE;\n",
              "      border: none;\n",
              "      border-radius: 50%;\n",
              "      cursor: pointer;\n",
              "      display: none;\n",
              "      fill: #1967D2;\n",
              "      height: 32px;\n",
              "      padding: 0 0 0 0;\n",
              "      width: 32px;\n",
              "    }\n",
              "\n",
              "    .colab-df-convert:hover {\n",
              "      background-color: #E2EBFA;\n",
              "      box-shadow: 0px 1px 2px rgba(60, 64, 67, 0.3), 0px 1px 3px 1px rgba(60, 64, 67, 0.15);\n",
              "      fill: #174EA6;\n",
              "    }\n",
              "\n",
              "    [theme=dark] .colab-df-convert {\n",
              "      background-color: #3B4455;\n",
              "      fill: #D2E3FC;\n",
              "    }\n",
              "\n",
              "    [theme=dark] .colab-df-convert:hover {\n",
              "      background-color: #434B5C;\n",
              "      box-shadow: 0px 1px 3px 1px rgba(0, 0, 0, 0.15);\n",
              "      filter: drop-shadow(0px 1px 2px rgba(0, 0, 0, 0.3));\n",
              "      fill: #FFFFFF;\n",
              "    }\n",
              "  </style>\n",
              "\n",
              "      <script>\n",
              "        const buttonEl =\n",
              "          document.querySelector('#df-8e6a5d35-01ec-4713-b3ce-02874140c47a button.colab-df-convert');\n",
              "        buttonEl.style.display =\n",
              "          google.colab.kernel.accessAllowed ? 'block' : 'none';\n",
              "\n",
              "        async function convertToInteractive(key) {\n",
              "          const element = document.querySelector('#df-8e6a5d35-01ec-4713-b3ce-02874140c47a');\n",
              "          const dataTable =\n",
              "            await google.colab.kernel.invokeFunction('convertToInteractive',\n",
              "                                                     [key], {});\n",
              "          if (!dataTable) return;\n",
              "\n",
              "          const docLinkHtml = 'Like what you see? Visit the ' +\n",
              "            '<a target=\"_blank\" href=https://colab.research.google.com/notebooks/data_table.ipynb>data table notebook</a>'\n",
              "            + ' to learn more about interactive tables.';\n",
              "          element.innerHTML = '';\n",
              "          dataTable['output_type'] = 'display_data';\n",
              "          await google.colab.output.renderOutput(dataTable, element);\n",
              "          const docLink = document.createElement('div');\n",
              "          docLink.innerHTML = docLinkHtml;\n",
              "          element.appendChild(docLink);\n",
              "        }\n",
              "      </script>\n",
              "    </div>\n",
              "  </div>\n",
              "  "
            ]
          },
          "metadata": {},
          "execution_count": 5
        }
      ],
      "source": [
        "reviews.head()"
      ]
    },
    {
      "cell_type": "code",
      "execution_count": 6,
      "metadata": {
        "colab": {
          "base_uri": "https://localhost:8080/"
        },
        "id": "yNx_VKHcopxY",
        "outputId": "b69a3209-339f-4203-d4c5-71777216af5e"
      },
      "outputs": [
        {
          "output_type": "execute_result",
          "data": {
            "text/plain": [
              "abuseCount                               0\n",
              "customerNickname                         0\n",
              "helpfulNo                                0\n",
              "helpfulYes                               0\n",
              "id                                       0\n",
              "imagesCount                              0\n",
              "languageCode                             0\n",
              "postedDate                               0\n",
              "productId                                0\n",
              "profileInfo.ugcSummary.answerCount       6\n",
              "profileInfo.ugcSummary.reviewCount       6\n",
              "ratingValue                              0\n",
              "reviewText                               0\n",
              "reviewTitle                              0\n",
              "reviewed                                 0\n",
              "score                                    0\n",
              "languageCode.1                           0\n",
              "translation.reviewText                1855\n",
              "translation.reviewTitle               1855\n",
              "dtype: int64"
            ]
          },
          "metadata": {},
          "execution_count": 6
        }
      ],
      "source": [
        "reviews.isnull().sum()"
      ]
    },
    {
      "cell_type": "code",
      "source": [
        "# '''Distribution of price of products'''\n",
        "# plt.scatter(products[\"product_id\"],products[\"product_price\"])\n",
        "# plt.xlabel(\"product_id\")\n",
        "# plt.ylabel(\"product_price\")\n",
        "# plt.title(\"Price of Different Products \")\n",
        "# plt.show()"
      ],
      "metadata": {
        "id": "STiMUa2Q9Ert"
      },
      "execution_count": 7,
      "outputs": []
    },
    {
      "cell_type": "markdown",
      "source": [
        "**Which products have the highest and lowest prices?**"
      ],
      "metadata": {
        "id": "GLZpdo8TtW5A"
      }
    },
    {
      "cell_type": "code",
      "source": [
        "for i in range(len(products[\"product_price\"])):\n",
        "  if products[\"product_price\"][i] == max(products[\"product_price\"]):\n",
        "    print(\"Highest price = \",products[\"product_price\"][i], \" for \" ,products[\"product_id\"][i], \",\", products[\"product_name\"][i])\n",
        "  elif products[\"product_price\"][i] == min(products[\"product_price\"]):\n",
        "    print(\"Lowest price = \",products[\"product_price\"][i],\" for \",products[\"product_id\"][i], \",\", products[\"product_name\"][i])"
      ],
      "metadata": {
        "colab": {
          "base_uri": "https://localhost:8080/"
        },
        "id": "taMe6MFA-CyG",
        "outputId": "c929f0e7-dbac-4262-fba6-98f9f65f3b80"
      },
      "execution_count": 8,
      "outputs": [
        {
          "output_type": "stream",
          "name": "stdout",
          "text": [
            "Lowest price =  2.95  for  103205 , Hwipure, Disposable KF94 ( N95 / KN95/ FFP2 ) Mask, 1 Mask\n",
            "Lowest price =  2.95  for  101774 , HIGUARD, Disposable KF94 ( N95 / KN95/ FFP2 ) Mask, 1 Mask\n",
            "Highest price =  50.19  for  103204 , Hwipure, Disposable KF94 ( N95 / KN95/ FFP2 ) Mask,  25 Masks\n",
            "Lowest price =  2.95  for  102455 , Now Foods, Face Mask, Grey, S-M, 1 Mask\n"
          ]
        }
      ]
    },
    {
      "cell_type": "markdown",
      "source": [
        "Importing the derived dataset of product names"
      ],
      "metadata": {
        "id": "MBZDXWJOtzsI"
      }
    },
    {
      "cell_type": "code",
      "source": [
        "productnames = pd.read_csv(\"/content/productnames.csv\")"
      ],
      "metadata": {
        "id": "ELOu3oYHe00n"
      },
      "execution_count": 9,
      "outputs": []
    },
    {
      "cell_type": "code",
      "source": [
        "productnames.head()"
      ],
      "metadata": {
        "colab": {
          "base_uri": "https://localhost:8080/",
          "height": 206
        },
        "id": "LBpaaKo0gEzT",
        "outputId": "6a652431-8492-4b76-8fc2-50c5887c4e56"
      },
      "execution_count": 10,
      "outputs": [
        {
          "output_type": "execute_result",
          "data": {
            "text/plain": [
              "   product_id     brand                                  mask_type     user  \\\n",
              "0      102522  Dr. Puri  Disposable KF94 ( N95 / KN95/ FFP2 ) Mask      NaN   \n",
              "1      101774   HIGUARD  Disposable KF94 ( N95 / KN95/ FFP2 ) Mask      NaN   \n",
              "2      103205   Hwipure  Disposable KF94 ( N95 / KN95/ FFP2 ) Mask      NaN   \n",
              "3      103204   Hwipure  Disposable KF94 ( N95 / KN95/ FFP2 ) Mask      NaN   \n",
              "4      101692    Kitsch            100% Cotton Reusable Face Masks  Neutral   \n",
              "\n",
              "  color  qty   pkg  \n",
              "0   NaN   20  Pack  \n",
              "1   NaN    1  Mask  \n",
              "2   NaN    1  Mask  \n",
              "3   NaN   25  Pack  \n",
              "4   NaN    3  Pack  "
            ],
            "text/html": [
              "\n",
              "  <div id=\"df-183f97fc-7e2f-4ad2-be76-631d5d380cdb\">\n",
              "    <div class=\"colab-df-container\">\n",
              "      <div>\n",
              "<style scoped>\n",
              "    .dataframe tbody tr th:only-of-type {\n",
              "        vertical-align: middle;\n",
              "    }\n",
              "\n",
              "    .dataframe tbody tr th {\n",
              "        vertical-align: top;\n",
              "    }\n",
              "\n",
              "    .dataframe thead th {\n",
              "        text-align: right;\n",
              "    }\n",
              "</style>\n",
              "<table border=\"1\" class=\"dataframe\">\n",
              "  <thead>\n",
              "    <tr style=\"text-align: right;\">\n",
              "      <th></th>\n",
              "      <th>product_id</th>\n",
              "      <th>brand</th>\n",
              "      <th>mask_type</th>\n",
              "      <th>user</th>\n",
              "      <th>color</th>\n",
              "      <th>qty</th>\n",
              "      <th>pkg</th>\n",
              "    </tr>\n",
              "  </thead>\n",
              "  <tbody>\n",
              "    <tr>\n",
              "      <th>0</th>\n",
              "      <td>102522</td>\n",
              "      <td>Dr. Puri</td>\n",
              "      <td>Disposable KF94 ( N95 / KN95/ FFP2 ) Mask</td>\n",
              "      <td>NaN</td>\n",
              "      <td>NaN</td>\n",
              "      <td>20</td>\n",
              "      <td>Pack</td>\n",
              "    </tr>\n",
              "    <tr>\n",
              "      <th>1</th>\n",
              "      <td>101774</td>\n",
              "      <td>HIGUARD</td>\n",
              "      <td>Disposable KF94 ( N95 / KN95/ FFP2 ) Mask</td>\n",
              "      <td>NaN</td>\n",
              "      <td>NaN</td>\n",
              "      <td>1</td>\n",
              "      <td>Mask</td>\n",
              "    </tr>\n",
              "    <tr>\n",
              "      <th>2</th>\n",
              "      <td>103205</td>\n",
              "      <td>Hwipure</td>\n",
              "      <td>Disposable KF94 ( N95 / KN95/ FFP2 ) Mask</td>\n",
              "      <td>NaN</td>\n",
              "      <td>NaN</td>\n",
              "      <td>1</td>\n",
              "      <td>Mask</td>\n",
              "    </tr>\n",
              "    <tr>\n",
              "      <th>3</th>\n",
              "      <td>103204</td>\n",
              "      <td>Hwipure</td>\n",
              "      <td>Disposable KF94 ( N95 / KN95/ FFP2 ) Mask</td>\n",
              "      <td>NaN</td>\n",
              "      <td>NaN</td>\n",
              "      <td>25</td>\n",
              "      <td>Pack</td>\n",
              "    </tr>\n",
              "    <tr>\n",
              "      <th>4</th>\n",
              "      <td>101692</td>\n",
              "      <td>Kitsch</td>\n",
              "      <td>100% Cotton Reusable Face Masks</td>\n",
              "      <td>Neutral</td>\n",
              "      <td>NaN</td>\n",
              "      <td>3</td>\n",
              "      <td>Pack</td>\n",
              "    </tr>\n",
              "  </tbody>\n",
              "</table>\n",
              "</div>\n",
              "      <button class=\"colab-df-convert\" onclick=\"convertToInteractive('df-183f97fc-7e2f-4ad2-be76-631d5d380cdb')\"\n",
              "              title=\"Convert this dataframe to an interactive table.\"\n",
              "              style=\"display:none;\">\n",
              "        \n",
              "  <svg xmlns=\"http://www.w3.org/2000/svg\" height=\"24px\"viewBox=\"0 0 24 24\"\n",
              "       width=\"24px\">\n",
              "    <path d=\"M0 0h24v24H0V0z\" fill=\"none\"/>\n",
              "    <path d=\"M18.56 5.44l.94 2.06.94-2.06 2.06-.94-2.06-.94-.94-2.06-.94 2.06-2.06.94zm-11 1L8.5 8.5l.94-2.06 2.06-.94-2.06-.94L8.5 2.5l-.94 2.06-2.06.94zm10 10l.94 2.06.94-2.06 2.06-.94-2.06-.94-.94-2.06-.94 2.06-2.06.94z\"/><path d=\"M17.41 7.96l-1.37-1.37c-.4-.4-.92-.59-1.43-.59-.52 0-1.04.2-1.43.59L10.3 9.45l-7.72 7.72c-.78.78-.78 2.05 0 2.83L4 21.41c.39.39.9.59 1.41.59.51 0 1.02-.2 1.41-.59l7.78-7.78 2.81-2.81c.8-.78.8-2.07 0-2.86zM5.41 20L4 18.59l7.72-7.72 1.47 1.35L5.41 20z\"/>\n",
              "  </svg>\n",
              "      </button>\n",
              "      \n",
              "  <style>\n",
              "    .colab-df-container {\n",
              "      display:flex;\n",
              "      flex-wrap:wrap;\n",
              "      gap: 12px;\n",
              "    }\n",
              "\n",
              "    .colab-df-convert {\n",
              "      background-color: #E8F0FE;\n",
              "      border: none;\n",
              "      border-radius: 50%;\n",
              "      cursor: pointer;\n",
              "      display: none;\n",
              "      fill: #1967D2;\n",
              "      height: 32px;\n",
              "      padding: 0 0 0 0;\n",
              "      width: 32px;\n",
              "    }\n",
              "\n",
              "    .colab-df-convert:hover {\n",
              "      background-color: #E2EBFA;\n",
              "      box-shadow: 0px 1px 2px rgba(60, 64, 67, 0.3), 0px 1px 3px 1px rgba(60, 64, 67, 0.15);\n",
              "      fill: #174EA6;\n",
              "    }\n",
              "\n",
              "    [theme=dark] .colab-df-convert {\n",
              "      background-color: #3B4455;\n",
              "      fill: #D2E3FC;\n",
              "    }\n",
              "\n",
              "    [theme=dark] .colab-df-convert:hover {\n",
              "      background-color: #434B5C;\n",
              "      box-shadow: 0px 1px 3px 1px rgba(0, 0, 0, 0.15);\n",
              "      filter: drop-shadow(0px 1px 2px rgba(0, 0, 0, 0.3));\n",
              "      fill: #FFFFFF;\n",
              "    }\n",
              "  </style>\n",
              "\n",
              "      <script>\n",
              "        const buttonEl =\n",
              "          document.querySelector('#df-183f97fc-7e2f-4ad2-be76-631d5d380cdb button.colab-df-convert');\n",
              "        buttonEl.style.display =\n",
              "          google.colab.kernel.accessAllowed ? 'block' : 'none';\n",
              "\n",
              "        async function convertToInteractive(key) {\n",
              "          const element = document.querySelector('#df-183f97fc-7e2f-4ad2-be76-631d5d380cdb');\n",
              "          const dataTable =\n",
              "            await google.colab.kernel.invokeFunction('convertToInteractive',\n",
              "                                                     [key], {});\n",
              "          if (!dataTable) return;\n",
              "\n",
              "          const docLinkHtml = 'Like what you see? Visit the ' +\n",
              "            '<a target=\"_blank\" href=https://colab.research.google.com/notebooks/data_table.ipynb>data table notebook</a>'\n",
              "            + ' to learn more about interactive tables.';\n",
              "          element.innerHTML = '';\n",
              "          dataTable['output_type'] = 'display_data';\n",
              "          await google.colab.output.renderOutput(dataTable, element);\n",
              "          const docLink = document.createElement('div');\n",
              "          docLink.innerHTML = docLinkHtml;\n",
              "          element.appendChild(docLink);\n",
              "        }\n",
              "      </script>\n",
              "    </div>\n",
              "  </div>\n",
              "  "
            ]
          },
          "metadata": {},
          "execution_count": 10
        }
      ]
    },
    {
      "cell_type": "markdown",
      "source": [
        "Combining the product and productnames dataset "
      ],
      "metadata": {
        "id": "bPgPnzMCuRlE"
      }
    },
    {
      "cell_type": "code",
      "source": [
        "df1 = products.join(productnames.set_index('product_id'), on='product_id')\n",
        "print(df1.shape)"
      ],
      "metadata": {
        "colab": {
          "base_uri": "https://localhost:8080/"
        },
        "id": "s1qFL09AgQcy",
        "outputId": "db5812ca-3c64-4da7-8c4d-23680979f460"
      },
      "execution_count": 11,
      "outputs": [
        {
          "output_type": "stream",
          "name": "stdout",
          "text": [
            "(27, 13)\n"
          ]
        }
      ]
    },
    {
      "cell_type": "code",
      "source": [
        "df1.head()"
      ],
      "metadata": {
        "colab": {
          "base_uri": "https://localhost:8080/",
          "height": 582
        },
        "id": "D5O2H0Kmgg7i",
        "outputId": "362faa51-84d6-4dd2-f7c6-d18edc8ac68a"
      },
      "execution_count": 12,
      "outputs": [
        {
          "output_type": "execute_result",
          "data": {
            "text/plain": [
              "   product_id                                       product_name  \\\n",
              "0      103205  Hwipure, Disposable KF94 ( N95 / KN95/ FFP2 ) ...   \n",
              "1      101774  HIGUARD, Disposable KF94 ( N95 / KN95/ FFP2 ) ...   \n",
              "2      101955  SunJoy, KN95, Professional Protective Disposab...   \n",
              "3      103838         Lozperi, Copper Mask, Adult, Black, 1 Mask   \n",
              "4      102734        Zidian, Disposable Protective Mask, 50 Pack   \n",
              "\n",
              "   product_price price_currency       product_availability  \\\n",
              "0           2.95            AUD  http://schema.org/InStock   \n",
              "1           2.95            AUD  http://schema.org/InStock   \n",
              "2           8.86            AUD  http://schema.org/InStock   \n",
              "3           6.85            AUD  http://schema.org/InStock   \n",
              "4          15.35            AUD  http://schema.org/InStock   \n",
              "\n",
              "                                         product_url  \\\n",
              "0  https://au.iherb.com/pr/Hwipure-Disposable-KF9...   \n",
              "1  https://au.iherb.com/pr/HIGUARD-Disposable-KF9...   \n",
              "2  https://au.iherb.com/pr/SunJoy-KN95-Profession...   \n",
              "3  https://au.iherb.com/pr/Lozperi-Copper-Mask-Ad...   \n",
              "4  https://au.iherb.com/pr/Zidian-Disposable-Prot...   \n",
              "\n",
              "                                     source_url    brand  \\\n",
              "0  https://au.iherb.com/c/protective-face-masks  Hwipure   \n",
              "1  https://au.iherb.com/c/protective-face-masks  HIGUARD   \n",
              "2  https://au.iherb.com/c/protective-face-masks   SunJoy   \n",
              "3  https://au.iherb.com/c/protective-face-masks  Lozperi   \n",
              "4  https://au.iherb.com/c/protective-face-masks   Zidian   \n",
              "\n",
              "                                           mask_type   user  color  qty   pkg  \n",
              "0          Disposable KF94 ( N95 / KN95/ FFP2 ) Mask    NaN    NaN    1  Mask  \n",
              "1          Disposable KF94 ( N95 / KN95/ FFP2 ) Mask    NaN    NaN    1  Mask  \n",
              "2  KN95 Professional Protective Disposable Face Mask    NaN    NaN   10  Pack  \n",
              "3                                        Copper Mask  Adult  Black    1  Mask  \n",
              "4                         Disposable Protective Mask    NaN    NaN   50  Pack  "
            ],
            "text/html": [
              "\n",
              "  <div id=\"df-8947a859-57fe-4f2b-9032-2917e0c54279\">\n",
              "    <div class=\"colab-df-container\">\n",
              "      <div>\n",
              "<style scoped>\n",
              "    .dataframe tbody tr th:only-of-type {\n",
              "        vertical-align: middle;\n",
              "    }\n",
              "\n",
              "    .dataframe tbody tr th {\n",
              "        vertical-align: top;\n",
              "    }\n",
              "\n",
              "    .dataframe thead th {\n",
              "        text-align: right;\n",
              "    }\n",
              "</style>\n",
              "<table border=\"1\" class=\"dataframe\">\n",
              "  <thead>\n",
              "    <tr style=\"text-align: right;\">\n",
              "      <th></th>\n",
              "      <th>product_id</th>\n",
              "      <th>product_name</th>\n",
              "      <th>product_price</th>\n",
              "      <th>price_currency</th>\n",
              "      <th>product_availability</th>\n",
              "      <th>product_url</th>\n",
              "      <th>source_url</th>\n",
              "      <th>brand</th>\n",
              "      <th>mask_type</th>\n",
              "      <th>user</th>\n",
              "      <th>color</th>\n",
              "      <th>qty</th>\n",
              "      <th>pkg</th>\n",
              "    </tr>\n",
              "  </thead>\n",
              "  <tbody>\n",
              "    <tr>\n",
              "      <th>0</th>\n",
              "      <td>103205</td>\n",
              "      <td>Hwipure, Disposable KF94 ( N95 / KN95/ FFP2 ) ...</td>\n",
              "      <td>2.95</td>\n",
              "      <td>AUD</td>\n",
              "      <td>http://schema.org/InStock</td>\n",
              "      <td>https://au.iherb.com/pr/Hwipure-Disposable-KF9...</td>\n",
              "      <td>https://au.iherb.com/c/protective-face-masks</td>\n",
              "      <td>Hwipure</td>\n",
              "      <td>Disposable KF94 ( N95 / KN95/ FFP2 ) Mask</td>\n",
              "      <td>NaN</td>\n",
              "      <td>NaN</td>\n",
              "      <td>1</td>\n",
              "      <td>Mask</td>\n",
              "    </tr>\n",
              "    <tr>\n",
              "      <th>1</th>\n",
              "      <td>101774</td>\n",
              "      <td>HIGUARD, Disposable KF94 ( N95 / KN95/ FFP2 ) ...</td>\n",
              "      <td>2.95</td>\n",
              "      <td>AUD</td>\n",
              "      <td>http://schema.org/InStock</td>\n",
              "      <td>https://au.iherb.com/pr/HIGUARD-Disposable-KF9...</td>\n",
              "      <td>https://au.iherb.com/c/protective-face-masks</td>\n",
              "      <td>HIGUARD</td>\n",
              "      <td>Disposable KF94 ( N95 / KN95/ FFP2 ) Mask</td>\n",
              "      <td>NaN</td>\n",
              "      <td>NaN</td>\n",
              "      <td>1</td>\n",
              "      <td>Mask</td>\n",
              "    </tr>\n",
              "    <tr>\n",
              "      <th>2</th>\n",
              "      <td>101955</td>\n",
              "      <td>SunJoy, KN95, Professional Protective Disposab...</td>\n",
              "      <td>8.86</td>\n",
              "      <td>AUD</td>\n",
              "      <td>http://schema.org/InStock</td>\n",
              "      <td>https://au.iherb.com/pr/SunJoy-KN95-Profession...</td>\n",
              "      <td>https://au.iherb.com/c/protective-face-masks</td>\n",
              "      <td>SunJoy</td>\n",
              "      <td>KN95 Professional Protective Disposable Face Mask</td>\n",
              "      <td>NaN</td>\n",
              "      <td>NaN</td>\n",
              "      <td>10</td>\n",
              "      <td>Pack</td>\n",
              "    </tr>\n",
              "    <tr>\n",
              "      <th>3</th>\n",
              "      <td>103838</td>\n",
              "      <td>Lozperi, Copper Mask, Adult, Black, 1 Mask</td>\n",
              "      <td>6.85</td>\n",
              "      <td>AUD</td>\n",
              "      <td>http://schema.org/InStock</td>\n",
              "      <td>https://au.iherb.com/pr/Lozperi-Copper-Mask-Ad...</td>\n",
              "      <td>https://au.iherb.com/c/protective-face-masks</td>\n",
              "      <td>Lozperi</td>\n",
              "      <td>Copper Mask</td>\n",
              "      <td>Adult</td>\n",
              "      <td>Black</td>\n",
              "      <td>1</td>\n",
              "      <td>Mask</td>\n",
              "    </tr>\n",
              "    <tr>\n",
              "      <th>4</th>\n",
              "      <td>102734</td>\n",
              "      <td>Zidian, Disposable Protective Mask, 50 Pack</td>\n",
              "      <td>15.35</td>\n",
              "      <td>AUD</td>\n",
              "      <td>http://schema.org/InStock</td>\n",
              "      <td>https://au.iherb.com/pr/Zidian-Disposable-Prot...</td>\n",
              "      <td>https://au.iherb.com/c/protective-face-masks</td>\n",
              "      <td>Zidian</td>\n",
              "      <td>Disposable Protective Mask</td>\n",
              "      <td>NaN</td>\n",
              "      <td>NaN</td>\n",
              "      <td>50</td>\n",
              "      <td>Pack</td>\n",
              "    </tr>\n",
              "  </tbody>\n",
              "</table>\n",
              "</div>\n",
              "      <button class=\"colab-df-convert\" onclick=\"convertToInteractive('df-8947a859-57fe-4f2b-9032-2917e0c54279')\"\n",
              "              title=\"Convert this dataframe to an interactive table.\"\n",
              "              style=\"display:none;\">\n",
              "        \n",
              "  <svg xmlns=\"http://www.w3.org/2000/svg\" height=\"24px\"viewBox=\"0 0 24 24\"\n",
              "       width=\"24px\">\n",
              "    <path d=\"M0 0h24v24H0V0z\" fill=\"none\"/>\n",
              "    <path d=\"M18.56 5.44l.94 2.06.94-2.06 2.06-.94-2.06-.94-.94-2.06-.94 2.06-2.06.94zm-11 1L8.5 8.5l.94-2.06 2.06-.94-2.06-.94L8.5 2.5l-.94 2.06-2.06.94zm10 10l.94 2.06.94-2.06 2.06-.94-2.06-.94-.94-2.06-.94 2.06-2.06.94z\"/><path d=\"M17.41 7.96l-1.37-1.37c-.4-.4-.92-.59-1.43-.59-.52 0-1.04.2-1.43.59L10.3 9.45l-7.72 7.72c-.78.78-.78 2.05 0 2.83L4 21.41c.39.39.9.59 1.41.59.51 0 1.02-.2 1.41-.59l7.78-7.78 2.81-2.81c.8-.78.8-2.07 0-2.86zM5.41 20L4 18.59l7.72-7.72 1.47 1.35L5.41 20z\"/>\n",
              "  </svg>\n",
              "      </button>\n",
              "      \n",
              "  <style>\n",
              "    .colab-df-container {\n",
              "      display:flex;\n",
              "      flex-wrap:wrap;\n",
              "      gap: 12px;\n",
              "    }\n",
              "\n",
              "    .colab-df-convert {\n",
              "      background-color: #E8F0FE;\n",
              "      border: none;\n",
              "      border-radius: 50%;\n",
              "      cursor: pointer;\n",
              "      display: none;\n",
              "      fill: #1967D2;\n",
              "      height: 32px;\n",
              "      padding: 0 0 0 0;\n",
              "      width: 32px;\n",
              "    }\n",
              "\n",
              "    .colab-df-convert:hover {\n",
              "      background-color: #E2EBFA;\n",
              "      box-shadow: 0px 1px 2px rgba(60, 64, 67, 0.3), 0px 1px 3px 1px rgba(60, 64, 67, 0.15);\n",
              "      fill: #174EA6;\n",
              "    }\n",
              "\n",
              "    [theme=dark] .colab-df-convert {\n",
              "      background-color: #3B4455;\n",
              "      fill: #D2E3FC;\n",
              "    }\n",
              "\n",
              "    [theme=dark] .colab-df-convert:hover {\n",
              "      background-color: #434B5C;\n",
              "      box-shadow: 0px 1px 3px 1px rgba(0, 0, 0, 0.15);\n",
              "      filter: drop-shadow(0px 1px 2px rgba(0, 0, 0, 0.3));\n",
              "      fill: #FFFFFF;\n",
              "    }\n",
              "  </style>\n",
              "\n",
              "      <script>\n",
              "        const buttonEl =\n",
              "          document.querySelector('#df-8947a859-57fe-4f2b-9032-2917e0c54279 button.colab-df-convert');\n",
              "        buttonEl.style.display =\n",
              "          google.colab.kernel.accessAllowed ? 'block' : 'none';\n",
              "\n",
              "        async function convertToInteractive(key) {\n",
              "          const element = document.querySelector('#df-8947a859-57fe-4f2b-9032-2917e0c54279');\n",
              "          const dataTable =\n",
              "            await google.colab.kernel.invokeFunction('convertToInteractive',\n",
              "                                                     [key], {});\n",
              "          if (!dataTable) return;\n",
              "\n",
              "          const docLinkHtml = 'Like what you see? Visit the ' +\n",
              "            '<a target=\"_blank\" href=https://colab.research.google.com/notebooks/data_table.ipynb>data table notebook</a>'\n",
              "            + ' to learn more about interactive tables.';\n",
              "          element.innerHTML = '';\n",
              "          dataTable['output_type'] = 'display_data';\n",
              "          await google.colab.output.renderOutput(dataTable, element);\n",
              "          const docLink = document.createElement('div');\n",
              "          docLink.innerHTML = docLinkHtml;\n",
              "          element.appendChild(docLink);\n",
              "        }\n",
              "      </script>\n",
              "    </div>\n",
              "  </div>\n",
              "  "
            ]
          },
          "metadata": {},
          "execution_count": 12
        }
      ]
    },
    {
      "cell_type": "markdown",
      "source": [
        "Combining the products and reviews dataset"
      ],
      "metadata": {
        "id": "fyzTpcF3utWr"
      }
    },
    {
      "cell_type": "code",
      "execution_count": 13,
      "metadata": {
        "colab": {
          "base_uri": "https://localhost:8080/"
        },
        "id": "U0-8ERNWow2Z",
        "outputId": "61b7d30c-27e9-4079-b03c-84349c34d3c6"
      },
      "outputs": [
        {
          "output_type": "stream",
          "name": "stdout",
          "text": [
            "(3849, 31)\n"
          ]
        }
      ],
      "source": [
        "df = reviews.join(df1.set_index('product_id'), on='productId')\n",
        "print(df.shape)"
      ]
    },
    {
      "cell_type": "code",
      "execution_count": 14,
      "metadata": {
        "colab": {
          "base_uri": "https://localhost:8080/"
        },
        "id": "MGGOxjzSo0z3",
        "outputId": "84235790-f794-4592-8c52-6a65a6ae3ee7"
      },
      "outputs": [
        {
          "output_type": "stream",
          "name": "stdout",
          "text": [
            "(3849, 26)\n"
          ]
        }
      ],
      "source": [
        "df = df.drop([\"price_currency\",\"product_availability\",\"product_url\",\"source_url\",\"languageCode.1\"],axis=1)\n",
        "print(df.shape)"
      ]
    },
    {
      "cell_type": "markdown",
      "source": [
        "Columns in the combined dataset"
      ],
      "metadata": {
        "id": "ADwbS58MwP5P"
      }
    },
    {
      "cell_type": "code",
      "source": [
        "df.head()"
      ],
      "metadata": {
        "colab": {
          "base_uri": "https://localhost:8080/",
          "height": 560
        },
        "id": "7B5ikdntN06q",
        "outputId": "21dbeaf9-6dd0-4355-e4c8-edab7548bcb6"
      },
      "execution_count": 15,
      "outputs": [
        {
          "output_type": "execute_result",
          "data": {
            "text/plain": [
              "   abuseCount customerNickname  helpfulNo  helpfulYes  \\\n",
              "0           0   iHerb Customer          0           6   \n",
              "1           0   iHerb Customer          0           0   \n",
              "2           0   iHerb Customer          0           0   \n",
              "3           0     InnaIgorevna          0           0   \n",
              "4           0   iHerb Customer          0           0   \n",
              "\n",
              "                                     id  imagesCount languageCode  \\\n",
              "0  05c2b17e-c28d-4792-930d-27e787d8d4ad            1        en-US   \n",
              "1  80e44af8-2edf-4b81-a80a-7e7888d03cc0            0        ru-RU   \n",
              "2  9a76e047-21e4-4da3-8b50-9d2396519b6b            0        en-US   \n",
              "3  2890ac54-8707-418e-be3e-8d46231e3672            0        ru-RU   \n",
              "4  9db33354-0457-4efa-bc9c-b5f7ee0eff31            0        ru-RU   \n",
              "\n",
              "                 postedDate  productId  profileInfo.ugcSummary.answerCount  \\\n",
              "0  2021-01-27T09:04:10.569Z     103839                                 0.0   \n",
              "1  2021-02-07T00:56:39.055Z     103839                                 0.0   \n",
              "2  2021-02-06T21:40:02.886Z     103839                                 0.0   \n",
              "3  2021-02-05T16:29:28.906Z     103839                                 0.0   \n",
              "4  2021-02-05T09:43:42.367Z     103839                                 0.0   \n",
              "\n",
              "   ...                             translation.reviewText  \\\n",
              "0  ...                                                NaN   \n",
              "1  ...    The grandson really liked it. Comfortable mask.   \n",
              "2  ...                                                NaN   \n",
              "3  ...  A thin mask that is pleasant to the body. I li...   \n",
              "4  ...  Great mask! It suited me perfectly. There is a...   \n",
              "\n",
              "   translation.reviewTitle                               product_name  \\\n",
              "0                      NaN  Lozperi, Copper Mask, Adult, Dot, 1 Count   \n",
              "1                    en-US  Lozperi, Copper Mask, Adult, Dot, 1 Count   \n",
              "2                      NaN  Lozperi, Copper Mask, Adult, Dot, 1 Count   \n",
              "3                    en-US  Lozperi, Copper Mask, Adult, Dot, 1 Count   \n",
              "4                    en-US  Lozperi, Copper Mask, Adult, Dot, 1 Count   \n",
              "\n",
              "  product_price    brand    mask_type   user color qty   pkg  \n",
              "0          6.85  Lozperi  Copper Mask  Adult   Dot   1  Mask  \n",
              "1          6.85  Lozperi  Copper Mask  Adult   Dot   1  Mask  \n",
              "2          6.85  Lozperi  Copper Mask  Adult   Dot   1  Mask  \n",
              "3          6.85  Lozperi  Copper Mask  Adult   Dot   1  Mask  \n",
              "4          6.85  Lozperi  Copper Mask  Adult   Dot   1  Mask  \n",
              "\n",
              "[5 rows x 26 columns]"
            ],
            "text/html": [
              "\n",
              "  <div id=\"df-9eeac625-8364-414e-a8c9-208685c0d9a3\">\n",
              "    <div class=\"colab-df-container\">\n",
              "      <div>\n",
              "<style scoped>\n",
              "    .dataframe tbody tr th:only-of-type {\n",
              "        vertical-align: middle;\n",
              "    }\n",
              "\n",
              "    .dataframe tbody tr th {\n",
              "        vertical-align: top;\n",
              "    }\n",
              "\n",
              "    .dataframe thead th {\n",
              "        text-align: right;\n",
              "    }\n",
              "</style>\n",
              "<table border=\"1\" class=\"dataframe\">\n",
              "  <thead>\n",
              "    <tr style=\"text-align: right;\">\n",
              "      <th></th>\n",
              "      <th>abuseCount</th>\n",
              "      <th>customerNickname</th>\n",
              "      <th>helpfulNo</th>\n",
              "      <th>helpfulYes</th>\n",
              "      <th>id</th>\n",
              "      <th>imagesCount</th>\n",
              "      <th>languageCode</th>\n",
              "      <th>postedDate</th>\n",
              "      <th>productId</th>\n",
              "      <th>profileInfo.ugcSummary.answerCount</th>\n",
              "      <th>...</th>\n",
              "      <th>translation.reviewText</th>\n",
              "      <th>translation.reviewTitle</th>\n",
              "      <th>product_name</th>\n",
              "      <th>product_price</th>\n",
              "      <th>brand</th>\n",
              "      <th>mask_type</th>\n",
              "      <th>user</th>\n",
              "      <th>color</th>\n",
              "      <th>qty</th>\n",
              "      <th>pkg</th>\n",
              "    </tr>\n",
              "  </thead>\n",
              "  <tbody>\n",
              "    <tr>\n",
              "      <th>0</th>\n",
              "      <td>0</td>\n",
              "      <td>iHerb Customer</td>\n",
              "      <td>0</td>\n",
              "      <td>6</td>\n",
              "      <td>05c2b17e-c28d-4792-930d-27e787d8d4ad</td>\n",
              "      <td>1</td>\n",
              "      <td>en-US</td>\n",
              "      <td>2021-01-27T09:04:10.569Z</td>\n",
              "      <td>103839</td>\n",
              "      <td>0.0</td>\n",
              "      <td>...</td>\n",
              "      <td>NaN</td>\n",
              "      <td>NaN</td>\n",
              "      <td>Lozperi, Copper Mask, Adult, Dot, 1 Count</td>\n",
              "      <td>6.85</td>\n",
              "      <td>Lozperi</td>\n",
              "      <td>Copper Mask</td>\n",
              "      <td>Adult</td>\n",
              "      <td>Dot</td>\n",
              "      <td>1</td>\n",
              "      <td>Mask</td>\n",
              "    </tr>\n",
              "    <tr>\n",
              "      <th>1</th>\n",
              "      <td>0</td>\n",
              "      <td>iHerb Customer</td>\n",
              "      <td>0</td>\n",
              "      <td>0</td>\n",
              "      <td>80e44af8-2edf-4b81-a80a-7e7888d03cc0</td>\n",
              "      <td>0</td>\n",
              "      <td>ru-RU</td>\n",
              "      <td>2021-02-07T00:56:39.055Z</td>\n",
              "      <td>103839</td>\n",
              "      <td>0.0</td>\n",
              "      <td>...</td>\n",
              "      <td>The grandson really liked it. Comfortable mask.</td>\n",
              "      <td>en-US</td>\n",
              "      <td>Lozperi, Copper Mask, Adult, Dot, 1 Count</td>\n",
              "      <td>6.85</td>\n",
              "      <td>Lozperi</td>\n",
              "      <td>Copper Mask</td>\n",
              "      <td>Adult</td>\n",
              "      <td>Dot</td>\n",
              "      <td>1</td>\n",
              "      <td>Mask</td>\n",
              "    </tr>\n",
              "    <tr>\n",
              "      <th>2</th>\n",
              "      <td>0</td>\n",
              "      <td>iHerb Customer</td>\n",
              "      <td>0</td>\n",
              "      <td>0</td>\n",
              "      <td>9a76e047-21e4-4da3-8b50-9d2396519b6b</td>\n",
              "      <td>0</td>\n",
              "      <td>en-US</td>\n",
              "      <td>2021-02-06T21:40:02.886Z</td>\n",
              "      <td>103839</td>\n",
              "      <td>0.0</td>\n",
              "      <td>...</td>\n",
              "      <td>NaN</td>\n",
              "      <td>NaN</td>\n",
              "      <td>Lozperi, Copper Mask, Adult, Dot, 1 Count</td>\n",
              "      <td>6.85</td>\n",
              "      <td>Lozperi</td>\n",
              "      <td>Copper Mask</td>\n",
              "      <td>Adult</td>\n",
              "      <td>Dot</td>\n",
              "      <td>1</td>\n",
              "      <td>Mask</td>\n",
              "    </tr>\n",
              "    <tr>\n",
              "      <th>3</th>\n",
              "      <td>0</td>\n",
              "      <td>InnaIgorevna</td>\n",
              "      <td>0</td>\n",
              "      <td>0</td>\n",
              "      <td>2890ac54-8707-418e-be3e-8d46231e3672</td>\n",
              "      <td>0</td>\n",
              "      <td>ru-RU</td>\n",
              "      <td>2021-02-05T16:29:28.906Z</td>\n",
              "      <td>103839</td>\n",
              "      <td>0.0</td>\n",
              "      <td>...</td>\n",
              "      <td>A thin mask that is pleasant to the body. I li...</td>\n",
              "      <td>en-US</td>\n",
              "      <td>Lozperi, Copper Mask, Adult, Dot, 1 Count</td>\n",
              "      <td>6.85</td>\n",
              "      <td>Lozperi</td>\n",
              "      <td>Copper Mask</td>\n",
              "      <td>Adult</td>\n",
              "      <td>Dot</td>\n",
              "      <td>1</td>\n",
              "      <td>Mask</td>\n",
              "    </tr>\n",
              "    <tr>\n",
              "      <th>4</th>\n",
              "      <td>0</td>\n",
              "      <td>iHerb Customer</td>\n",
              "      <td>0</td>\n",
              "      <td>0</td>\n",
              "      <td>9db33354-0457-4efa-bc9c-b5f7ee0eff31</td>\n",
              "      <td>0</td>\n",
              "      <td>ru-RU</td>\n",
              "      <td>2021-02-05T09:43:42.367Z</td>\n",
              "      <td>103839</td>\n",
              "      <td>0.0</td>\n",
              "      <td>...</td>\n",
              "      <td>Great mask! It suited me perfectly. There is a...</td>\n",
              "      <td>en-US</td>\n",
              "      <td>Lozperi, Copper Mask, Adult, Dot, 1 Count</td>\n",
              "      <td>6.85</td>\n",
              "      <td>Lozperi</td>\n",
              "      <td>Copper Mask</td>\n",
              "      <td>Adult</td>\n",
              "      <td>Dot</td>\n",
              "      <td>1</td>\n",
              "      <td>Mask</td>\n",
              "    </tr>\n",
              "  </tbody>\n",
              "</table>\n",
              "<p>5 rows × 26 columns</p>\n",
              "</div>\n",
              "      <button class=\"colab-df-convert\" onclick=\"convertToInteractive('df-9eeac625-8364-414e-a8c9-208685c0d9a3')\"\n",
              "              title=\"Convert this dataframe to an interactive table.\"\n",
              "              style=\"display:none;\">\n",
              "        \n",
              "  <svg xmlns=\"http://www.w3.org/2000/svg\" height=\"24px\"viewBox=\"0 0 24 24\"\n",
              "       width=\"24px\">\n",
              "    <path d=\"M0 0h24v24H0V0z\" fill=\"none\"/>\n",
              "    <path d=\"M18.56 5.44l.94 2.06.94-2.06 2.06-.94-2.06-.94-.94-2.06-.94 2.06-2.06.94zm-11 1L8.5 8.5l.94-2.06 2.06-.94-2.06-.94L8.5 2.5l-.94 2.06-2.06.94zm10 10l.94 2.06.94-2.06 2.06-.94-2.06-.94-.94-2.06-.94 2.06-2.06.94z\"/><path d=\"M17.41 7.96l-1.37-1.37c-.4-.4-.92-.59-1.43-.59-.52 0-1.04.2-1.43.59L10.3 9.45l-7.72 7.72c-.78.78-.78 2.05 0 2.83L4 21.41c.39.39.9.59 1.41.59.51 0 1.02-.2 1.41-.59l7.78-7.78 2.81-2.81c.8-.78.8-2.07 0-2.86zM5.41 20L4 18.59l7.72-7.72 1.47 1.35L5.41 20z\"/>\n",
              "  </svg>\n",
              "      </button>\n",
              "      \n",
              "  <style>\n",
              "    .colab-df-container {\n",
              "      display:flex;\n",
              "      flex-wrap:wrap;\n",
              "      gap: 12px;\n",
              "    }\n",
              "\n",
              "    .colab-df-convert {\n",
              "      background-color: #E8F0FE;\n",
              "      border: none;\n",
              "      border-radius: 50%;\n",
              "      cursor: pointer;\n",
              "      display: none;\n",
              "      fill: #1967D2;\n",
              "      height: 32px;\n",
              "      padding: 0 0 0 0;\n",
              "      width: 32px;\n",
              "    }\n",
              "\n",
              "    .colab-df-convert:hover {\n",
              "      background-color: #E2EBFA;\n",
              "      box-shadow: 0px 1px 2px rgba(60, 64, 67, 0.3), 0px 1px 3px 1px rgba(60, 64, 67, 0.15);\n",
              "      fill: #174EA6;\n",
              "    }\n",
              "\n",
              "    [theme=dark] .colab-df-convert {\n",
              "      background-color: #3B4455;\n",
              "      fill: #D2E3FC;\n",
              "    }\n",
              "\n",
              "    [theme=dark] .colab-df-convert:hover {\n",
              "      background-color: #434B5C;\n",
              "      box-shadow: 0px 1px 3px 1px rgba(0, 0, 0, 0.15);\n",
              "      filter: drop-shadow(0px 1px 2px rgba(0, 0, 0, 0.3));\n",
              "      fill: #FFFFFF;\n",
              "    }\n",
              "  </style>\n",
              "\n",
              "      <script>\n",
              "        const buttonEl =\n",
              "          document.querySelector('#df-9eeac625-8364-414e-a8c9-208685c0d9a3 button.colab-df-convert');\n",
              "        buttonEl.style.display =\n",
              "          google.colab.kernel.accessAllowed ? 'block' : 'none';\n",
              "\n",
              "        async function convertToInteractive(key) {\n",
              "          const element = document.querySelector('#df-9eeac625-8364-414e-a8c9-208685c0d9a3');\n",
              "          const dataTable =\n",
              "            await google.colab.kernel.invokeFunction('convertToInteractive',\n",
              "                                                     [key], {});\n",
              "          if (!dataTable) return;\n",
              "\n",
              "          const docLinkHtml = 'Like what you see? Visit the ' +\n",
              "            '<a target=\"_blank\" href=https://colab.research.google.com/notebooks/data_table.ipynb>data table notebook</a>'\n",
              "            + ' to learn more about interactive tables.';\n",
              "          element.innerHTML = '';\n",
              "          dataTable['output_type'] = 'display_data';\n",
              "          await google.colab.output.renderOutput(dataTable, element);\n",
              "          const docLink = document.createElement('div');\n",
              "          docLink.innerHTML = docLinkHtml;\n",
              "          element.appendChild(docLink);\n",
              "        }\n",
              "      </script>\n",
              "    </div>\n",
              "  </div>\n",
              "  "
            ]
          },
          "metadata": {},
          "execution_count": 15
        }
      ]
    },
    {
      "cell_type": "code",
      "execution_count": 16,
      "metadata": {
        "colab": {
          "base_uri": "https://localhost:8080/"
        },
        "id": "8NFTigb1o0wb",
        "outputId": "2d326c0b-0ab1-4406-b6ff-ecb6f574c5a7"
      },
      "outputs": [
        {
          "output_type": "execute_result",
          "data": {
            "text/plain": [
              "Index(['abuseCount', 'customerNickname', 'helpfulNo', 'helpfulYes', 'id',\n",
              "       'imagesCount', 'languageCode', 'postedDate', 'productId',\n",
              "       'profileInfo.ugcSummary.answerCount',\n",
              "       'profileInfo.ugcSummary.reviewCount', 'ratingValue', 'reviewText',\n",
              "       'reviewTitle', 'reviewed', 'score', 'translation.reviewText',\n",
              "       'translation.reviewTitle', 'product_name', 'product_price', 'brand',\n",
              "       'mask_type', 'user', 'color', 'qty', 'pkg'],\n",
              "      dtype='object')"
            ]
          },
          "metadata": {},
          "execution_count": 16
        }
      ],
      "source": [
        "df.columns"
      ]
    },
    {
      "cell_type": "code",
      "execution_count": 17,
      "metadata": {
        "colab": {
          "base_uri": "https://localhost:8080/"
        },
        "id": "q6XpNiV_o0sx",
        "outputId": "67c4826f-11ff-4d2e-e71a-4a0f4c843028"
      },
      "outputs": [
        {
          "output_type": "execute_result",
          "data": {
            "text/plain": [
              "en-US    1855\n",
              "ru-RU    1300\n",
              "ar-SA     227\n",
              "he-IL     167\n",
              "ja-JP     121\n",
              "fr-FR     102\n",
              "zh-TW      19\n",
              "ko-KR      19\n",
              "es-MX      14\n",
              "zh-CN      11\n",
              "de-DE      11\n",
              "pt-BR       3\n",
              "Name: languageCode, dtype: int64"
            ]
          },
          "metadata": {},
          "execution_count": 17
        }
      ],
      "source": [
        "'''Language of reviews'''\n",
        "df[\"languageCode\"].value_counts()"
      ]
    },
    {
      "cell_type": "code",
      "source": [
        "'''Rating Value'''\n",
        "df[\"ratingValue\"].value_counts()"
      ],
      "metadata": {
        "colab": {
          "base_uri": "https://localhost:8080/"
        },
        "id": "FAbfYlqVQgnv",
        "outputId": "499fe999-e5e4-4cbd-b3fe-30ab9070306c"
      },
      "execution_count": 18,
      "outputs": [
        {
          "output_type": "execute_result",
          "data": {
            "text/plain": [
              "50    2626\n",
              "40     692\n",
              "30     287\n",
              "10     125\n",
              "20     119\n",
              "Name: ratingValue, dtype: int64"
            ]
          },
          "metadata": {},
          "execution_count": 18
        }
      ]
    },
    {
      "cell_type": "markdown",
      "source": [
        "*What is score, is it useful?*"
      ],
      "metadata": {
        "id": "Jl04g3kRsW4R"
      }
    },
    {
      "cell_type": "code",
      "execution_count": 19,
      "metadata": {
        "colab": {
          "base_uri": "https://localhost:8080/",
          "height": 514
        },
        "id": "Qq2mwgqOHsgl",
        "outputId": "ce4cface-cdec-4fe6-a8c3-6be564123e0a"
      },
      "outputs": [
        {
          "output_type": "stream",
          "name": "stdout",
          "text": [
            "[1.61407105e+09 1.61265940e+09 1.61264760e+09 ... 1.59062001e+09\n",
            " 1.59059226e+09 1.59052973e+09]\n",
            "Range:  1589171798.984 , 1642403786.679\n",
            "Count:  3765\n"
          ]
        },
        {
          "output_type": "display_data",
          "data": {
            "text/plain": [
              "<Figure size 640x480 with 1 Axes>"
            ],
            "image/png": "[encoded data removed]"
          },
          "metadata": {}
        }
      ],
      "source": [
        "print(df[\"score\"].unique())\n",
        "min_score= min(df[\"score\"])\n",
        "max_score= max(df[\"score\"])\n",
        "print(\"Range: \",min_score,\",\",max_score)\n",
        "print(\"Count: \",len(df[\"score\"].unique()))\n",
        "plt.plot(df[\"score\"])\n",
        "plt.show()"
      ]
    },
    {
      "cell_type": "code",
      "execution_count": 20,
      "metadata": {
        "id": "ZMajUL4pPlEb"
      },
      "outputs": [],
      "source": [
        "# for i in df.columns:\n",
        "#     plt.figure()\n",
        "#     plt.scatter(df[i],df[\"score\"])\n",
        "#     plt.ylabel(\"score\")\n",
        "#     plt.xlabel(i)\n",
        "#     plt.show()"
      ]
    },
    {
      "cell_type": "markdown",
      "source": [
        "**Which is the most bought product?**"
      ],
      "metadata": {
        "id": "b_fLutQKsmxI"
      }
    },
    {
      "cell_type": "code",
      "source": [
        "df['productId'].value_counts().plot(kind='bar',color='pink')\n",
        "df['productId'].value_counts()"
      ],
      "metadata": {
        "colab": {
          "base_uri": "https://localhost:8080/",
          "height": 955
        },
        "id": "Qupoic11xlXr",
        "outputId": "1ccce505-89b0-4cbc-8563-3db160023658"
      },
      "execution_count": 21,
      "outputs": [
        {
          "output_type": "execute_result",
          "data": {
            "text/plain": [
              "101955    658\n",
              "100237    530\n",
              "99830     475\n",
              "102734    337\n",
              "99829     304\n",
              "101692    259\n",
              "100837    225\n",
              "101774    168\n",
              "100541    145\n",
              "103205    126\n",
              "101691    107\n",
              "102455     68\n",
              "100840     68\n",
              "100234     49\n",
              "103743     46\n",
              "101029     43\n",
              "103838     42\n",
              "103204     42\n",
              "100099     41\n",
              "102522     40\n",
              "100839     25\n",
              "103840     20\n",
              "103839     12\n",
              "103842      8\n",
              "103841      7\n",
              "104022      2\n",
              "104023      2\n",
              "Name: productId, dtype: int64"
            ]
          },
          "metadata": {},
          "execution_count": 21
        },
        {
          "output_type": "display_data",
          "data": {
            "text/plain": [
              "<Figure size 640x480 with 1 Axes>"
            ],
            "image/png": "[encoded data removed]"
          },
          "metadata": {}
        }
      ]
    },
    {
      "cell_type": "markdown",
      "source": [
        "*Translating review text and removing the translated text field*"
      ],
      "metadata": {
        "id": "-CkE_S1eAFmv"
      }
    },
    {
      "cell_type": "code",
      "source": [
        "df['translation.reviewTitle'].value_counts()"
      ],
      "metadata": {
        "colab": {
          "base_uri": "https://localhost:8080/"
        },
        "id": "U-Hzr0yPzQq-",
        "outputId": "46d39c3c-ba07-4408-a36e-f98b62f91e42"
      },
      "execution_count": 22,
      "outputs": [
        {
          "output_type": "execute_result",
          "data": {
            "text/plain": [
              "en-US    1994\n",
              "Name: translation.reviewTitle, dtype: int64"
            ]
          },
          "metadata": {},
          "execution_count": 22
        }
      ]
    },
    {
      "cell_type": "code",
      "source": [
        "for i in range(len(df[\"productId\"])):\n",
        "  if df['translation.reviewTitle'][i] == \"en-US\":\n",
        "    df['reviewText'][i] = df['translation.reviewText'][i]\n",
        "\n",
        "df = df.drop(['translation.reviewText', 'translation.reviewTitle'],axis=1)"
      ],
      "metadata": {
        "colab": {
          "base_uri": "https://localhost:8080/"
        },
        "id": "Dynmpt5mxBJA",
        "outputId": "6e93356a-c149-4b74-a508-05a5241a1ad6"
      },
      "execution_count": 23,
      "outputs": [
        {
          "output_type": "stream",
          "name": "stderr",
          "text": [
            "<ipython-input-23-b47fdb6179f2>:3: SettingWithCopyWarning: \n",
            "A value is trying to be set on a copy of a slice from a DataFrame\n",
            "\n",
            "See the caveats in the documentation: https://pandas.pydata.org/pandas-docs/stable/user_guide/indexing.html#returning-a-view-versus-a-copy\n",
            "  df['reviewText'][i] = df['translation.reviewText'][i]\n"
          ]
        }
      ]
    },
    {
      "cell_type": "code",
      "source": [
        "df.tail(5)"
      ],
      "metadata": {
        "colab": {
          "base_uri": "https://localhost:8080/",
          "height": 560
        },
        "id": "mfwrmxDEJeCn",
        "outputId": "bdc8a55f-f75f-45f2-8b4f-5fd37ca15da8"
      },
      "execution_count": 24,
      "outputs": [
        {
          "output_type": "execute_result",
          "data": {
            "text/plain": [
              "      abuseCount customerNickname  helpfulNo  helpfulYes  \\\n",
              "3844           0   iHerb Customer          1           2   \n",
              "3845           0   iHerb Customer          0           0   \n",
              "3846           0   iHerb Customer          0           0   \n",
              "3847           0   iHerb Customer          0           1   \n",
              "3848           0   iHerb Customer          0           0   \n",
              "\n",
              "                                        id  imagesCount languageCode  \\\n",
              "3844  03b4c0ee-232c-413c-a793-36678b07fdc0            0        en-US   \n",
              "3845  b5f22161-4b73-4d6b-bf19-badde1682c8d            0        en-US   \n",
              "3846  fafdce53-c97c-4e01-9586-50895692468f            0        ja-JP   \n",
              "3847  de0471a2-9c82-429d-98d9-92ff3d5943f6            0        ko-KR   \n",
              "3848  66cb3271-f7a2-4b04-9874-b97a6393c7b6            0        en-US   \n",
              "\n",
              "                    postedDate  productId  profileInfo.ugcSummary.answerCount  \\\n",
              "3844  2020-05-26T19:05:21.892Z     100099                                 1.0   \n",
              "3845  2020-05-29T16:52:35.709Z     100099                                 2.0   \n",
              "3846  2020-05-27T22:53:33.674Z     100099                                 2.0   \n",
              "3847  2020-05-23T03:11:01.259Z     100099                                 0.0   \n",
              "3848  2020-05-26T21:48:49.227Z     100099                                 0.0   \n",
              "\n",
              "      ...  reviewed         score  \\\n",
              "3844  ...      True  1.590909e+09   \n",
              "3845  ...      True  1.590771e+09   \n",
              "3846  ...      True  1.590620e+09   \n",
              "3847  ...      True  1.590592e+09   \n",
              "3848  ...      True  1.590530e+09   \n",
              "\n",
              "                                           product_name product_price  \\\n",
              "3844  Luseta Beauty, Disposable Protection Face Mask...         49.61   \n",
              "3845  Luseta Beauty, Disposable Protection Face Mask...         49.61   \n",
              "3846  Luseta Beauty, Disposable Protection Face Mask...         49.61   \n",
              "3847  Luseta Beauty, Disposable Protection Face Mask...         49.61   \n",
              "3848  Luseta Beauty, Disposable Protection Face Mask...         49.61   \n",
              "\n",
              "              brand                        mask_type user  color qty   pkg  \n",
              "3844  Luseta Beauty  Disposable Protection Face Mask  NaN    NaN  50  Pack  \n",
              "3845  Luseta Beauty  Disposable Protection Face Mask  NaN    NaN  50  Pack  \n",
              "3846  Luseta Beauty  Disposable Protection Face Mask  NaN    NaN  50  Pack  \n",
              "3847  Luseta Beauty  Disposable Protection Face Mask  NaN    NaN  50  Pack  \n",
              "3848  Luseta Beauty  Disposable Protection Face Mask  NaN    NaN  50  Pack  \n",
              "\n",
              "[5 rows x 24 columns]"
            ],
            "text/html": [
              "\n",
              "  <div id=\"df-0aabbd3c-bae5-449f-87c9-d28ff40f14a5\">\n",
              "    <div class=\"colab-df-container\">\n",
              "      <div>\n",
              "<style scoped>\n",
              "    .dataframe tbody tr th:only-of-type {\n",
              "        vertical-align: middle;\n",
              "    }\n",
              "\n",
              "    .dataframe tbody tr th {\n",
              "        vertical-align: top;\n",
              "    }\n",
              "\n",
              "    .dataframe thead th {\n",
              "        text-align: right;\n",
              "    }\n",
              "</style>\n",
              "<table border=\"1\" class=\"dataframe\">\n",
              "  <thead>\n",
              "    <tr style=\"text-align: right;\">\n",
              "      <th></th>\n",
              "      <th>abuseCount</th>\n",
              "      <th>customerNickname</th>\n",
              "      <th>helpfulNo</th>\n",
              "      <th>helpfulYes</th>\n",
              "      <th>id</th>\n",
              "      <th>imagesCount</th>\n",
              "      <th>languageCode</th>\n",
              "      <th>postedDate</th>\n",
              "      <th>productId</th>\n",
              "      <th>profileInfo.ugcSummary.answerCount</th>\n",
              "      <th>...</th>\n",
              "      <th>reviewed</th>\n",
              "      <th>score</th>\n",
              "      <th>product_name</th>\n",
              "      <th>product_price</th>\n",
              "      <th>brand</th>\n",
              "      <th>mask_type</th>\n",
              "      <th>user</th>\n",
              "      <th>color</th>\n",
              "      <th>qty</th>\n",
              "      <th>pkg</th>\n",
              "    </tr>\n",
              "  </thead>\n",
              "  <tbody>\n",
              "    <tr>\n",
              "      <th>3844</th>\n",
              "      <td>0</td>\n",
              "      <td>iHerb Customer</td>\n",
              "      <td>1</td>\n",
              "      <td>2</td>\n",
              "      <td>03b4c0ee-232c-413c-a793-36678b07fdc0</td>\n",
              "      <td>0</td>\n",
              "      <td>en-US</td>\n",
              "      <td>2020-05-26T19:05:21.892Z</td>\n",
              "      <td>100099</td>\n",
              "      <td>1.0</td>\n",
              "      <td>...</td>\n",
              "      <td>True</td>\n",
              "      <td>1.590909e+09</td>\n",
              "      <td>Luseta Beauty, Disposable Protection Face Mask...</td>\n",
              "      <td>49.61</td>\n",
              "      <td>Luseta Beauty</td>\n",
              "      <td>Disposable Protection Face Mask</td>\n",
              "      <td>NaN</td>\n",
              "      <td>NaN</td>\n",
              "      <td>50</td>\n",
              "      <td>Pack</td>\n",
              "    </tr>\n",
              "    <tr>\n",
              "      <th>3845</th>\n",
              "      <td>0</td>\n",
              "      <td>iHerb Customer</td>\n",
              "      <td>0</td>\n",
              "      <td>0</td>\n",
              "      <td>b5f22161-4b73-4d6b-bf19-badde1682c8d</td>\n",
              "      <td>0</td>\n",
              "      <td>en-US</td>\n",
              "      <td>2020-05-29T16:52:35.709Z</td>\n",
              "      <td>100099</td>\n",
              "      <td>2.0</td>\n",
              "      <td>...</td>\n",
              "      <td>True</td>\n",
              "      <td>1.590771e+09</td>\n",
              "      <td>Luseta Beauty, Disposable Protection Face Mask...</td>\n",
              "      <td>49.61</td>\n",
              "      <td>Luseta Beauty</td>\n",
              "      <td>Disposable Protection Face Mask</td>\n",
              "      <td>NaN</td>\n",
              "      <td>NaN</td>\n",
              "      <td>50</td>\n",
              "      <td>Pack</td>\n",
              "    </tr>\n",
              "    <tr>\n",
              "      <th>3846</th>\n",
              "      <td>0</td>\n",
              "      <td>iHerb Customer</td>\n",
              "      <td>0</td>\n",
              "      <td>0</td>\n",
              "      <td>fafdce53-c97c-4e01-9586-50895692468f</td>\n",
              "      <td>0</td>\n",
              "      <td>ja-JP</td>\n",
              "      <td>2020-05-27T22:53:33.674Z</td>\n",
              "      <td>100099</td>\n",
              "      <td>2.0</td>\n",
              "      <td>...</td>\n",
              "      <td>True</td>\n",
              "      <td>1.590620e+09</td>\n",
              "      <td>Luseta Beauty, Disposable Protection Face Mask...</td>\n",
              "      <td>49.61</td>\n",
              "      <td>Luseta Beauty</td>\n",
              "      <td>Disposable Protection Face Mask</td>\n",
              "      <td>NaN</td>\n",
              "      <td>NaN</td>\n",
              "      <td>50</td>\n",
              "      <td>Pack</td>\n",
              "    </tr>\n",
              "    <tr>\n",
              "      <th>3847</th>\n",
              "      <td>0</td>\n",
              "      <td>iHerb Customer</td>\n",
              "      <td>0</td>\n",
              "      <td>1</td>\n",
              "      <td>de0471a2-9c82-429d-98d9-92ff3d5943f6</td>\n",
              "      <td>0</td>\n",
              "      <td>ko-KR</td>\n",
              "      <td>2020-05-23T03:11:01.259Z</td>\n",
              "      <td>100099</td>\n",
              "      <td>0.0</td>\n",
              "      <td>...</td>\n",
              "      <td>True</td>\n",
              "      <td>1.590592e+09</td>\n",
              "      <td>Luseta Beauty, Disposable Protection Face Mask...</td>\n",
              "      <td>49.61</td>\n",
              "      <td>Luseta Beauty</td>\n",
              "      <td>Disposable Protection Face Mask</td>\n",
              "      <td>NaN</td>\n",
              "      <td>NaN</td>\n",
              "      <td>50</td>\n",
              "      <td>Pack</td>\n",
              "    </tr>\n",
              "    <tr>\n",
              "      <th>3848</th>\n",
              "      <td>0</td>\n",
              "      <td>iHerb Customer</td>\n",
              "      <td>0</td>\n",
              "      <td>0</td>\n",
              "      <td>66cb3271-f7a2-4b04-9874-b97a6393c7b6</td>\n",
              "      <td>0</td>\n",
              "      <td>en-US</td>\n",
              "      <td>2020-05-26T21:48:49.227Z</td>\n",
              "      <td>100099</td>\n",
              "      <td>0.0</td>\n",
              "      <td>...</td>\n",
              "      <td>True</td>\n",
              "      <td>1.590530e+09</td>\n",
              "      <td>Luseta Beauty, Disposable Protection Face Mask...</td>\n",
              "      <td>49.61</td>\n",
              "      <td>Luseta Beauty</td>\n",
              "      <td>Disposable Protection Face Mask</td>\n",
              "      <td>NaN</td>\n",
              "      <td>NaN</td>\n",
              "      <td>50</td>\n",
              "      <td>Pack</td>\n",
              "    </tr>\n",
              "  </tbody>\n",
              "</table>\n",
              "<p>5 rows × 24 columns</p>\n",
              "</div>\n",
              "      <button class=\"colab-df-convert\" onclick=\"convertToInteractive('df-0aabbd3c-bae5-449f-87c9-d28ff40f14a5')\"\n",
              "              title=\"Convert this dataframe to an interactive table.\"\n",
              "              style=\"display:none;\">\n",
              "        \n",
              "  <svg xmlns=\"http://www.w3.org/2000/svg\" height=\"24px\"viewBox=\"0 0 24 24\"\n",
              "       width=\"24px\">\n",
              "    <path d=\"M0 0h24v24H0V0z\" fill=\"none\"/>\n",
              "    <path d=\"M18.56 5.44l.94 2.06.94-2.06 2.06-.94-2.06-.94-.94-2.06-.94 2.06-2.06.94zm-11 1L8.5 8.5l.94-2.06 2.06-.94-2.06-.94L8.5 2.5l-.94 2.06-2.06.94zm10 10l.94 2.06.94-2.06 2.06-.94-2.06-.94-.94-2.06-.94 2.06-2.06.94z\"/><path d=\"M17.41 7.96l-1.37-1.37c-.4-.4-.92-.59-1.43-.59-.52 0-1.04.2-1.43.59L10.3 9.45l-7.72 7.72c-.78.78-.78 2.05 0 2.83L4 21.41c.39.39.9.59 1.41.59.51 0 1.02-.2 1.41-.59l7.78-7.78 2.81-2.81c.8-.78.8-2.07 0-2.86zM5.41 20L4 18.59l7.72-7.72 1.47 1.35L5.41 20z\"/>\n",
              "  </svg>\n",
              "      </button>\n",
              "      \n",
              "  <style>\n",
              "    .colab-df-container {\n",
              "      display:flex;\n",
              "      flex-wrap:wrap;\n",
              "      gap: 12px;\n",
              "    }\n",
              "\n",
              "    .colab-df-convert {\n",
              "      background-color: #E8F0FE;\n",
              "      border: none;\n",
              "      border-radius: 50%;\n",
              "      cursor: pointer;\n",
              "      display: none;\n",
              "      fill: #1967D2;\n",
              "      height: 32px;\n",
              "      padding: 0 0 0 0;\n",
              "      width: 32px;\n",
              "    }\n",
              "\n",
              "    .colab-df-convert:hover {\n",
              "      background-color: #E2EBFA;\n",
              "      box-shadow: 0px 1px 2px rgba(60, 64, 67, 0.3), 0px 1px 3px 1px rgba(60, 64, 67, 0.15);\n",
              "      fill: #174EA6;\n",
              "    }\n",
              "\n",
              "    [theme=dark] .colab-df-convert {\n",
              "      background-color: #3B4455;\n",
              "      fill: #D2E3FC;\n",
              "    }\n",
              "\n",
              "    [theme=dark] .colab-df-convert:hover {\n",
              "      background-color: #434B5C;\n",
              "      box-shadow: 0px 1px 3px 1px rgba(0, 0, 0, 0.15);\n",
              "      filter: drop-shadow(0px 1px 2px rgba(0, 0, 0, 0.3));\n",
              "      fill: #FFFFFF;\n",
              "    }\n",
              "  </style>\n",
              "\n",
              "      <script>\n",
              "        const buttonEl =\n",
              "          document.querySelector('#df-0aabbd3c-bae5-449f-87c9-d28ff40f14a5 button.colab-df-convert');\n",
              "        buttonEl.style.display =\n",
              "          google.colab.kernel.accessAllowed ? 'block' : 'none';\n",
              "\n",
              "        async function convertToInteractive(key) {\n",
              "          const element = document.querySelector('#df-0aabbd3c-bae5-449f-87c9-d28ff40f14a5');\n",
              "          const dataTable =\n",
              "            await google.colab.kernel.invokeFunction('convertToInteractive',\n",
              "                                                     [key], {});\n",
              "          if (!dataTable) return;\n",
              "\n",
              "          const docLinkHtml = 'Like what you see? Visit the ' +\n",
              "            '<a target=\"_blank\" href=https://colab.research.google.com/notebooks/data_table.ipynb>data table notebook</a>'\n",
              "            + ' to learn more about interactive tables.';\n",
              "          element.innerHTML = '';\n",
              "          dataTable['output_type'] = 'display_data';\n",
              "          await google.colab.output.renderOutput(dataTable, element);\n",
              "          const docLink = document.createElement('div');\n",
              "          docLink.innerHTML = docLinkHtml;\n",
              "          element.appendChild(docLink);\n",
              "        }\n",
              "      </script>\n",
              "    </div>\n",
              "  </div>\n",
              "  "
            ]
          },
          "metadata": {},
          "execution_count": 24
        }
      ]
    },
    {
      "cell_type": "markdown",
      "source": [
        "**Given that the review is non english how many users find it helpful?**"
      ],
      "metadata": {
        "id": "8-GR9WKk_0hM"
      }
    },
    {
      "cell_type": "code",
      "execution_count": 25,
      "metadata": {
        "colab": {
          "base_uri": "https://localhost:8080/"
        },
        "id": "-wodMPQio0pd",
        "outputId": "757b9730-dd86-4573-ab9a-f2a28948b7e5"
      },
      "outputs": [
        {
          "output_type": "execute_result",
          "data": {
            "text/plain": [
              "False    2786\n",
              "True     1063\n",
              "Name: reviewed, dtype: int64"
            ]
          },
          "metadata": {},
          "execution_count": 25
        }
      ],
      "source": [
        "'''Number of products reviewed'''\n",
        "df[\"reviewed\"].value_counts()"
      ]
    },
    {
      "cell_type": "code",
      "source": [
        "yes_count, no_count = 0, 0\n",
        "yes_count_eng, no_count_eng = 0, 0\n",
        "\n",
        "for i in range(len(df[\"productId\"])):\n",
        "  if df['languageCode'][i] != \"en-US\":\n",
        "    yes_count += df['helpfulYes'][i]\n",
        "    no_count += df['helpfulNo'][i]\n",
        "  else:\n",
        "    yes_count_eng += df['helpfulYes'][i]\n",
        "    no_count_eng += df['helpfulNo'][i]\n",
        "\n",
        "print(yes_count, no_count)\n",
        "print(yes_count_eng, no_count_eng)"
      ],
      "metadata": {
        "colab": {
          "base_uri": "https://localhost:8080/"
        },
        "id": "Ljb9FLcQ2aa6",
        "outputId": "3d2d8459-f035-4832-de46-a4e7a6a838fd"
      },
      "execution_count": 26,
      "outputs": [
        {
          "output_type": "stream",
          "name": "stdout",
          "text": [
            "1486 119\n",
            "861 87\n"
          ]
        }
      ]
    },
    {
      "cell_type": "code",
      "source": [
        "plt.scatter(df['helpfulYes'],df['helpfulNo'], color=\"violet\")\n",
        "plt.xlabel(\"Helpful\")\n",
        "plt.ylabel(\"Not Helpful\")\n",
        "plt.show()"
      ],
      "metadata": {
        "colab": {
          "base_uri": "https://localhost:8080/",
          "height": 449
        },
        "id": "xIfr5uCe3_0P",
        "outputId": "cc8c9a03-c810-49dc-e77d-d17e47cb68c4"
      },
      "execution_count": 27,
      "outputs": [
        {
          "output_type": "display_data",
          "data": {
            "text/plain": [
              "<Figure size 640x480 with 1 Axes>"
            ],
            "image/png": "[encoded data removed]"
          },
          "metadata": {}
        }
      ]
    },
    {
      "cell_type": "markdown",
      "source": [
        "**How many of total reviews are helpful or not?**"
      ],
      "metadata": {
        "id": "vz752GNcAfLB"
      }
    },
    {
      "cell_type": "code",
      "source": [
        "helpful = []\n",
        "length = len(df[\"productId\"])"
      ],
      "metadata": {
        "id": "C5rBVGKl2aUv"
      },
      "execution_count": 28,
      "outputs": []
    },
    {
      "cell_type": "code",
      "source": [
        "for i in range(length):\n",
        "  if df['helpfulYes'][i] > df['helpfulNo'][i]:\n",
        "    helpful.append(\"Yes\")\n",
        "  elif ((df['helpfulYes'][i] == df['helpfulNo'][i]) and (df['helpfulNo'][i]== 0)):\n",
        "    helpful.append(\"Not Really\")\n",
        "  else:\n",
        "    helpful.append(\"No\")\n",
        "print(\"Yes: \",helpful.count(\"Yes\"))\n",
        "print(\"Not Really: \",helpful.count(\"Not Really\"))\n",
        "print(\"No: \",helpful.count(\"No\"))"
      ],
      "metadata": {
        "colab": {
          "base_uri": "https://localhost:8080/"
        },
        "id": "3oAauAQXxBFo",
        "outputId": "6cd5b62c-3949-47a4-b75e-40bbc302e755"
      },
      "execution_count": 29,
      "outputs": [
        {
          "output_type": "stream",
          "name": "stdout",
          "text": [
            "Yes:  642\n",
            "Not Really:  3120\n",
            "No:  87\n"
          ]
        }
      ]
    },
    {
      "cell_type": "code",
      "source": [
        "helpful_yes, helpful_neither, helpful_no = helpful.count(\"Yes\"),helpful.count(\"Not Really\"),helpful.count(\"No\")\n",
        "plt.pie([helpful_yes/length, helpful_neither/length , helpful_no/length], labels=[(helpful_yes/length)*100, (helpful_neither/length)*100, (helpful_no/length)*100])\n",
        "plt.legend([\"Helpful\", \"Neither\" , \"Not Helpful\"],loc=\"upper right\")\n",
        "plt.title(\"Percentage of Helpful Reviews\")\n",
        "plt.show()"
      ],
      "metadata": {
        "colab": {
          "base_uri": "https://localhost:8080/",
          "height": 428
        },
        "id": "9FdGl72jEKLy",
        "outputId": "3241afc1-ce47-40fe-9d8a-a7988ac823a4"
      },
      "execution_count": 30,
      "outputs": [
        {
          "output_type": "display_data",
          "data": {
            "text/plain": [
              "<Figure size 640x480 with 1 Axes>"
            ],
            "image/png": "[encoded data removed]"
          },
          "metadata": {}
        }
      ]
    },
    {
      "cell_type": "markdown",
      "source": [
        "**Are reviews with images more helpful?**"
      ],
      "metadata": {
        "id": "7kWse-o3r5pX"
      }
    },
    {
      "cell_type": "code",
      "source": [
        "# Given that there was an image was the review helpful\n",
        "plt.scatter(df[\"helpfulYes\"],df[\"imagesCount\"])\n",
        "plt.scatter(df[\"helpfulNo\"],df[\"imagesCount\"])\n",
        "plt.legend([\"Helpful\",\"Not Helpful\"])\n",
        "plt.ylabel(\"Number of images in review\")\n",
        "plt.show()"
      ],
      "metadata": {
        "colab": {
          "base_uri": "https://localhost:8080/",
          "height": 430
        },
        "id": "DxnWlb3QHTqk",
        "outputId": "1046fc77-b35b-4bdb-a605-b591046d3276"
      },
      "execution_count": 31,
      "outputs": [
        {
          "output_type": "display_data",
          "data": {
            "text/plain": [
              "<Figure size 640x480 with 1 Axes>"
            ],
            "image/png": "[encoded data removed]"
          },
          "metadata": {}
        }
      ]
    },
    {
      "cell_type": "markdown",
      "source": [
        "**Individual mask vs pack of mask which is more often purchased or profitable**"
      ],
      "metadata": {
        "id": "KiR-iv5sJPEO"
      }
    },
    {
      "cell_type": "code",
      "source": [
        "df['product_name'].value_counts()"
      ],
      "metadata": {
        "colab": {
          "base_uri": "https://localhost:8080/"
        },
        "id": "prv73IKr4NC6",
        "outputId": "30e8ab65-0bd4-4fe0-b0d6-e1d278e87aa8"
      },
      "execution_count": 32,
      "outputs": [
        {
          "output_type": "execute_result",
          "data": {
            "text/plain": [
              "SunJoy, KN95, Professional Protective Disposable Face Mask, 10 Pack            658\n",
              "Kitsch, 100% Cotton Reuseable Face Masks, Leopard, 3 Pack                      530\n",
              "Kosette, Nano Reusable Face Protection Mask, Medium, 1 Mask                    475\n",
              "Zidian, Disposable Protective Mask, 50 Pack                                    337\n",
              "Kosette, Nano Reusable Face Protection Mask, Large, 1 Mask                     304\n",
              "Kitsch, 100% Cotton Reusable Face Masks, Neutral, 3 Pack                       259\n",
              "La Hauteur, Disposable KF94 ( N95 / KN95/ FFP2 ) Mask, 1 Mask                  225\n",
              "HIGUARD, Disposable KF94 ( N95 / KN95/ FFP2 ) Mask, 1 Mask                     168\n",
              "Tony Moly, CTT KN95 Respirator Mask, 5 Count                                   145\n",
              "Hwipure, Disposable KF94 ( N95 / KN95/ FFP2 ) Mask, 1 Mask                     126\n",
              "Kitsch, 100% Cotton Reuseable Face Masks, Blush, 3 Pack                        107\n",
              "Luseta Beauty, Disposable Protection Face Mask, 50 Pack                         90\n",
              "Now Foods, Face Mask, Grey, S-M, 1 Mask                                         68\n",
              "YJ Corporation, Disposable KF94 ( N95 / KN95/ FFP2 ) Mask, for Kids, 1 Mask     68\n",
              "Puritas, 10 Days Mask, Large, 3 Pack                                            46\n",
              "Landsberg, 3 Ply Disposable Protective Face Mask, 50 Pack                       43\n",
              "Lozperi, Copper Mask, Adult, Black, 1 Mask                                      42\n",
              "Hwipure, Disposable KF94 ( N95 / KN95/ FFP2 ) Mask,  25 Masks                   42\n",
              "Dr. Puri, Disposable KF94 ( N95 / KN95/ FFP2 ) Mask, 20 Masks                   40\n",
              "One Fine Day, Disposable KF94 ( N95 / KN95/ FFP2 ) Mask, 1 Mask                 25\n",
              "Lozperi, Copper Mask, Adult, Gray, 1 Mask                                       20\n",
              "Lozperi, Copper Mask, Adult, Dot, 1 Count                                       12\n",
              "Lozperi, Copper Mask, Kids, Gray, 1 Count                                        8\n",
              "Lozperi, Copper Mask, Kids, Black, 1 Mask                                        7\n",
              "Kosette, Fashion Mask with Filter Pocket,  3 Masks                               2\n",
              "Kosette, PM 2.5 Replaceable Filter, 24 Filters                                   2\n",
              "Name: product_name, dtype: int64"
            ]
          },
          "metadata": {},
          "execution_count": 32
        }
      ]
    },
    {
      "cell_type": "code",
      "source": [
        "# product = []\n",
        "# price = []\n",
        "# count = []\n",
        "# for i in range(len(df['productId'])):\n",
        "#   product.append(df['productId'][i])\n",
        "#   price.append(df['product_price'][i])\n",
        "\n",
        "# for i in product:\n",
        "#   count.append(product.count(i))\n",
        "\n",
        "# print(product)\n",
        "# print(price)\n",
        "# print(count)"
      ],
      "metadata": {
        "id": "Gm3ZvE-42aXY"
      },
      "execution_count": 33,
      "outputs": []
    },
    {
      "cell_type": "code",
      "source": [
        "p = {}\n",
        "q = {}\n",
        "c = {}\n",
        "for i in set(df['productId']):\n",
        "  for j in range(length):\n",
        "    if i == df['productId'][j]:\n",
        "      p[i] = df['product_price'][j]\n",
        "      q[i] = df['qty'][j]\n",
        "      break\n",
        "print(p) #{product_id:product_price}\n",
        "print(q) #{product_id:product_count}\n",
        "\n",
        "for i in set(df['productId']):\n",
        "  c[i] = 0\n",
        "  for j in range(length):\n",
        "    if i == df['productId'][j]:\n",
        "      c[i] += 1\n",
        "print(c) #{product_id:product_count}\n"
      ],
      "metadata": {
        "colab": {
          "base_uri": "https://localhost:8080/"
        },
        "id": "qBTOu3gBK46X",
        "outputId": "fcddf10d-3d97-4915-dc6d-416aaaf7149e"
      },
      "execution_count": 34,
      "outputs": [
        {
          "output_type": "stream",
          "name": "stdout",
          "text": [
            "{100099: 49.61, 100234: 44.31, 100237: 17.72, 101774: 2.95, 103838: 6.85, 103839: 6.85, 103840: 6.85, 103841: 6.85, 103842: 6.85, 103204: 50.19, 103205: 2.95, 101029: 36.54, 102455: 2.95, 101691: 17.72, 101692: 17.72, 100541: 26.57, 103743: 6.61, 101955: 8.86, 102734: 15.35, 104022: 11.81, 104023: 5.91, 100837: 5.61, 100839: 4.49, 100840: 3.93, 99829: 22.44, 99830: 22.44, 102522: 47.24}\n",
            "{100099: 50, 100234: 50, 100237: 3, 101774: 1, 103838: 1, 103839: 1, 103840: 1, 103841: 1, 103842: 1, 103204: 25, 103205: 1, 101029: 50, 102455: 1, 101691: 3, 101692: 3, 100541: 5, 103743: 3, 101955: 10, 102734: 50, 104022: 3, 104023: 24, 100837: 1, 100839: 1, 100840: 1, 99829: 1, 99830: 1, 102522: 20}\n",
            "{100099: 41, 100234: 49, 100237: 530, 101774: 168, 103838: 42, 103839: 12, 103840: 20, 103841: 7, 103842: 8, 103204: 42, 103205: 126, 101029: 43, 102455: 68, 101691: 107, 101692: 259, 100541: 145, 103743: 46, 101955: 658, 102734: 337, 104022: 2, 104023: 2, 100837: 225, 100839: 25, 100840: 68, 99829: 304, 99830: 475, 102522: 40}\n"
          ]
        }
      ]
    },
    {
      "cell_type": "code",
      "source": [
        "# df[['brand','maskType','category','color','package']] = df['product_name'].str.split(',', expand=True)"
      ],
      "metadata": {
        "id": "knzyqjqcOs-j"
      },
      "execution_count": 35,
      "outputs": []
    },
    {
      "cell_type": "code",
      "source": [
        "mask, pack = 0, 0\n",
        "for i in range(length):\n",
        "  if df['pkg'][i] == \"Mask\":\n",
        "    mask += 1\n",
        "  else:\n",
        "    pack += 1\n",
        "plt.pie([mask,pack],labels=[mask,pack])\n",
        "plt.legend([\"Mask\",\"Pack\"])\n",
        "plt.show()"
      ],
      "metadata": {
        "colab": {
          "base_uri": "https://localhost:8080/",
          "height": 406
        },
        "id": "dO7Qjt7BJmgD",
        "outputId": "0e11d35d-0979-48f9-a26d-7d7f35d4b404"
      },
      "execution_count": 36,
      "outputs": [
        {
          "output_type": "display_data",
          "data": {
            "text/plain": [
              "<Figure size 640x480 with 1 Axes>"
            ],
            "image/png": "[encoded data removed]"
          },
          "metadata": {}
        }
      ]
    },
    {
      "cell_type": "markdown",
      "source": [
        "Packs are purchased more often."
      ],
      "metadata": {
        "id": "dDxO_5xTyaOa"
      }
    },
    {
      "cell_type": "code",
      "source": [
        "price_per_mask = {}\n",
        "for i in p.keys():\n",
        "  price_per_mask[i] = p[i]/q[i]\n",
        "print(price_per_mask)"
      ],
      "metadata": {
        "colab": {
          "base_uri": "https://localhost:8080/"
        },
        "id": "4lPbEoATYVTM",
        "outputId": "adff7091-3666-46d8-8fa7-37b5aae90237"
      },
      "execution_count": 37,
      "outputs": [
        {
          "output_type": "stream",
          "name": "stdout",
          "text": [
            "{100099: 0.9922, 100234: 0.8862000000000001, 100237: 5.906666666666666, 101774: 2.95, 103838: 6.85, 103839: 6.85, 103840: 6.85, 103841: 6.85, 103842: 6.85, 103204: 2.0076, 103205: 2.95, 101029: 0.7308, 102455: 2.95, 101691: 5.906666666666666, 101692: 5.906666666666666, 100541: 5.314, 103743: 2.2033333333333336, 101955: 0.8859999999999999, 102734: 0.307, 104022: 3.936666666666667, 104023: 0.24625, 100837: 5.61, 100839: 4.49, 100840: 3.93, 99829: 22.44, 99830: 22.44, 102522: 2.362}\n"
          ]
        }
      ]
    },
    {
      "cell_type": "code",
      "source": [
        "for i in price_per_mask.keys():\n",
        "  if price_per_mask[i] == min(price_per_mask.values()):\n",
        "    print(\"Product with minimum price per mask has id \",i,\" with price of \", price_per_mask[i], \"AUD\")\n",
        "  elif price_per_mask[i] == max(price_per_mask.values()):\n",
        "    print(\"Product with maximum price per mask has id \",i,\" with price of \", price_per_mask[i], \"AUD\")"
      ],
      "metadata": {
        "colab": {
          "base_uri": "https://localhost:8080/"
        },
        "id": "PEZoB_jV0ZX9",
        "outputId": "0819fc4e-d72b-45ad-d311-0ef66597d93e"
      },
      "execution_count": 38,
      "outputs": [
        {
          "output_type": "stream",
          "name": "stdout",
          "text": [
            "Product with minimum price per mask has id  104023  with price of  0.24625 AUD\n",
            "Product with maximum price per mask has id  99829  with price of  22.44 AUD\n",
            "Product with maximum price per mask has id  99830  with price of  22.44 AUD\n"
          ]
        }
      ]
    },
    {
      "cell_type": "markdown",
      "source": [
        "The most **profitable** product has the product id 104023"
      ],
      "metadata": {
        "id": "aaKb_5Eb12lH"
      }
    },
    {
      "cell_type": "markdown",
      "source": [
        "The most and least bought products are:"
      ],
      "metadata": {
        "id": "QAbX7ZCA2VlV"
      }
    },
    {
      "cell_type": "code",
      "source": [
        "for i in c.keys():\n",
        "  if c[i] == min(c.values()):\n",
        "    print(\"Least bought product is \",i,\" with count of \", c[i])\n",
        "  elif c[i] == max(c.values()):\n",
        "    print(\"Most bought product is \",i,\" with count of \", c[i])"
      ],
      "metadata": {
        "colab": {
          "base_uri": "https://localhost:8080/"
        },
        "id": "wudgWbU22VMH",
        "outputId": "83ef1790-3a31-4bf0-980a-f81d545dc6a3"
      },
      "execution_count": 39,
      "outputs": [
        {
          "output_type": "stream",
          "name": "stdout",
          "text": [
            "Most bought product is  101955  with count of  658\n",
            "Least bought product is  104022  with count of  2\n",
            "Least bought product is  104023  with count of  2\n"
          ]
        }
      ]
    },
    {
      "cell_type": "markdown",
      "source": [
        "**Which is the most reviewed product?**"
      ],
      "metadata": {
        "id": "fXdCKAgF2uNx"
      }
    },
    {
      "cell_type": "code",
      "source": [
        "r = {}\n",
        "for i in set(df['productId']):\n",
        "  r[i] = 0\n",
        "  for j in range(length):\n",
        "    if (i == df['productId'][j]) and (df['reviewed'][j]==True):\n",
        "      r[i] += 1\n",
        "print(r) #{product_id:review_count}\n",
        "print(\"Number of reviews: \",sum(r.values()))"
      ],
      "metadata": {
        "colab": {
          "base_uri": "https://localhost:8080/"
        },
        "id": "z6qSsBf03gsG",
        "outputId": "e102ee84-b6f0-48ee-adf7-4f73f0f6d21d"
      },
      "execution_count": 40,
      "outputs": [
        {
          "output_type": "stream",
          "name": "stdout",
          "text": [
            "{100099: 29, 100234: 30, 100237: 248, 101774: 28, 103838: 6, 103839: 1, 103840: 0, 103841: 0, 103842: 1, 103204: 6, 103205: 14, 101029: 24, 102455: 14, 101691: 33, 101692: 72, 100541: 70, 103743: 4, 101955: 95, 102734: 27, 104022: 1, 104023: 1, 100837: 72, 100839: 8, 100840: 15, 99829: 97, 99830: 160, 102522: 7}\n",
            "Number of reviews:  1063\n"
          ]
        }
      ]
    },
    {
      "cell_type": "code",
      "source": [
        "for i in r.keys():\n",
        "  if r[i] == min(r.values()):\n",
        "    print(\"Least reviewed product is \",i,\" with \", r[i], \" reviews.\")\n",
        "  elif r[i] == max(r.values()):\n",
        "    print(\"Most reviewed product is \",i,\" with \", r[i], \" reviews.\")"
      ],
      "metadata": {
        "colab": {
          "base_uri": "https://localhost:8080/"
        },
        "id": "izE5N3dF4usU",
        "outputId": "5fa5a661-af19-48b9-df52-c8bdb15129c0"
      },
      "execution_count": 41,
      "outputs": [
        {
          "output_type": "stream",
          "name": "stdout",
          "text": [
            "Most reviewed product is  100237  with  248  reviews.\n",
            "Least reviewed product is  103840  with  0  reviews.\n",
            "Least reviewed product is  103841  with  0  reviews.\n"
          ]
        }
      ]
    },
    {
      "cell_type": "markdown",
      "source": [
        "#### To explore"
      ],
      "metadata": {
        "id": "tUt2YOVX1uyB"
      }
    },
    {
      "cell_type": "markdown",
      "metadata": {
        "id": "DyGUIuCZnmt5"
      },
      "source": [
        "1. why less number of negative reviews\n",
        "2. how was the sales each month, and is there any difference in sales between the first and second wave\n",
        "3. Has the forest fires of 2020 affected the sales\n",
        "4. Country wise preference for product, does a particular product outstand others within a country(or language)\n",
        "\n",
        "* find sentiment of each review, + or -"
      ]
    }
  ],
  "metadata": {
    "colab": {
      "provenance": []
    },
    "kernelspec": {
      "display_name": "Python 3",
      "name": "python3"
    },
    "language_info": {
      "name": "python"
    }
  },
  "nbformat": 4,
  "nbformat_minor": 0
}